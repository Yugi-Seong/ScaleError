{
  "nbformat": 4,
  "nbformat_minor": 0,
  "metadata": {
    "colab": {
      "name": "SCALE불량(upgrade).ipynb",
      "provenance": [],
      "collapsed_sections": [
        "zjBu2ER-wmKH"
      ]
    },
    "kernelspec": {
      "name": "python3",
      "display_name": "Python 3"
    },
    "language_info": {
      "name": "python"
    }
  },
  "cells": [
    {
      "cell_type": "code",
      "metadata": {
        "colab": {
          "base_uri": "https://localhost:8080/"
        },
        "id": "9zdV3x35d1jj",
        "outputId": "9ae7d15d-6a7b-4df9-d569-b42cba729882"
      },
      "source": [
        "from google.colab import drive\n",
        "drive.mount('/content/gdrive')"
      ],
      "execution_count": 3,
      "outputs": [
        {
          "output_type": "stream",
          "text": [
            "Drive already mounted at /content/gdrive; to attempt to forcibly remount, call drive.mount(\"/content/gdrive\", force_remount=True).\n"
          ],
          "name": "stdout"
        }
      ]
    },
    {
      "cell_type": "code",
      "metadata": {
        "colab": {
          "base_uri": "https://localhost:8080/"
        },
        "id": "gFwHpyDceOt0",
        "outputId": "20947dd1-a91d-490a-ef2a-302cb230dc4f"
      },
      "source": [
        "cd '/content/gdrive/MyDrive/Scale불량'"
      ],
      "execution_count": 4,
      "outputs": [
        {
          "output_type": "stream",
          "text": [
            "/content/gdrive/MyDrive/Scale불량\n"
          ],
          "name": "stdout"
        }
      ]
    },
    {
      "cell_type": "markdown",
      "metadata": {
        "id": "5TDTdsWjfe3i"
      },
      "source": [
        "## 목표 : 후판공정 scale 불량 데이터를 이용하여 scale 불량을 발생시키는 주요 원인 도출 및 개선 방안 수립 "
      ]
    },
    {
      "cell_type": "markdown",
      "metadata": {
        "id": "hoVb-YnFk2RI"
      },
      "source": [
        "### 데이터 전처리 \n",
        "step1. 데이터 셋 확인 "
      ]
    },
    {
      "cell_type": "code",
      "metadata": {
        "colab": {
          "base_uri": "https://localhost:8080/",
          "height": 212
        },
        "id": "8AViIMbCedLi",
        "outputId": "7dee8641-7e8e-4802-cd07-cf83fb642fab"
      },
      "source": [
        "import pandas as pd\n",
        "\n",
        "df_raw = pd.read_csv('SCALE불량.csv', encoding='cp949')\n",
        "df_raw.head(3)"
      ],
      "execution_count": 137,
      "outputs": [
        {
          "output_type": "execute_result",
          "data": {
            "text/html": [
              "<div>\n",
              "<style scoped>\n",
              "    .dataframe tbody tr th:only-of-type {\n",
              "        vertical-align: middle;\n",
              "    }\n",
              "\n",
              "    .dataframe tbody tr th {\n",
              "        vertical-align: top;\n",
              "    }\n",
              "\n",
              "    .dataframe thead th {\n",
              "        text-align: right;\n",
              "    }\n",
              "</style>\n",
              "<table border=\"1\" class=\"dataframe\">\n",
              "  <thead>\n",
              "    <tr style=\"text-align: right;\">\n",
              "      <th></th>\n",
              "      <th>PLATE_NO</th>\n",
              "      <th>ROLLING_DATE</th>\n",
              "      <th>SCALE</th>\n",
              "      <th>SPEC</th>\n",
              "      <th>STEEL_KIND</th>\n",
              "      <th>PT_THK</th>\n",
              "      <th>PT_WDTH</th>\n",
              "      <th>PT_LTH</th>\n",
              "      <th>PT_WGT</th>\n",
              "      <th>FUR_NO</th>\n",
              "      <th>FUR_NO_ROW</th>\n",
              "      <th>FUR_HZ_TEMP</th>\n",
              "      <th>FUR_HZ_TIME</th>\n",
              "      <th>FUR_SZ_TEMP</th>\n",
              "      <th>FUR_SZ_TIME</th>\n",
              "      <th>FUR_TIME</th>\n",
              "      <th>FUR_EXTEMP</th>\n",
              "      <th>ROLLING_TEMP_T5</th>\n",
              "      <th>HSB</th>\n",
              "      <th>ROLLING_DESCALING</th>\n",
              "      <th>WORK_GR</th>\n",
              "    </tr>\n",
              "  </thead>\n",
              "  <tbody>\n",
              "    <tr>\n",
              "      <th>0</th>\n",
              "      <td>PB562774</td>\n",
              "      <td>2008-08-01:00:00:15</td>\n",
              "      <td>양품</td>\n",
              "      <td>AB/EH32-TM</td>\n",
              "      <td>T1</td>\n",
              "      <td>32.25</td>\n",
              "      <td>3707</td>\n",
              "      <td>15109</td>\n",
              "      <td>14180</td>\n",
              "      <td>1호기</td>\n",
              "      <td>1</td>\n",
              "      <td>1144</td>\n",
              "      <td>116</td>\n",
              "      <td>1133</td>\n",
              "      <td>59</td>\n",
              "      <td>282</td>\n",
              "      <td>1133</td>\n",
              "      <td>934</td>\n",
              "      <td>적용</td>\n",
              "      <td>8</td>\n",
              "      <td>2조</td>\n",
              "    </tr>\n",
              "    <tr>\n",
              "      <th>1</th>\n",
              "      <td>PB562775</td>\n",
              "      <td>2008-08-01:00:00:16</td>\n",
              "      <td>양품</td>\n",
              "      <td>AB/EH32-TM</td>\n",
              "      <td>T1</td>\n",
              "      <td>32.25</td>\n",
              "      <td>3707</td>\n",
              "      <td>15109</td>\n",
              "      <td>14180</td>\n",
              "      <td>1호기</td>\n",
              "      <td>2</td>\n",
              "      <td>1144</td>\n",
              "      <td>122</td>\n",
              "      <td>1135</td>\n",
              "      <td>53</td>\n",
              "      <td>283</td>\n",
              "      <td>1135</td>\n",
              "      <td>937</td>\n",
              "      <td>적용</td>\n",
              "      <td>8</td>\n",
              "      <td>2조</td>\n",
              "    </tr>\n",
              "    <tr>\n",
              "      <th>2</th>\n",
              "      <td>PB562776</td>\n",
              "      <td>2008-08-01:00:00:59</td>\n",
              "      <td>양품</td>\n",
              "      <td>NV-E36-TM</td>\n",
              "      <td>T8</td>\n",
              "      <td>33.27</td>\n",
              "      <td>3619</td>\n",
              "      <td>19181</td>\n",
              "      <td>18130</td>\n",
              "      <td>2호기</td>\n",
              "      <td>1</td>\n",
              "      <td>1129</td>\n",
              "      <td>116</td>\n",
              "      <td>1121</td>\n",
              "      <td>55</td>\n",
              "      <td>282</td>\n",
              "      <td>1121</td>\n",
              "      <td>889</td>\n",
              "      <td>적용</td>\n",
              "      <td>8</td>\n",
              "      <td>3조</td>\n",
              "    </tr>\n",
              "  </tbody>\n",
              "</table>\n",
              "</div>"
            ],
            "text/plain": [
              "   PLATE_NO         ROLLING_DATE SCALE  ... HSB ROLLING_DESCALING  WORK_GR\n",
              "0  PB562774  2008-08-01:00:00:15    양품  ...  적용                 8       2조\n",
              "1  PB562775  2008-08-01:00:00:16    양품  ...  적용                 8       2조\n",
              "2  PB562776  2008-08-01:00:00:59    양품  ...  적용                 8       3조\n",
              "\n",
              "[3 rows x 21 columns]"
            ]
          },
          "metadata": {
            "tags": []
          },
          "execution_count": 137
        }
      ]
    },
    {
      "cell_type": "code",
      "metadata": {
        "colab": {
          "base_uri": "https://localhost:8080/"
        },
        "id": "hy0uJOlaes8_",
        "outputId": "a6502f79-6f9a-4fd8-fe99-599d6bd08c7b"
      },
      "source": [
        "df_raw.shape"
      ],
      "execution_count": 6,
      "outputs": [
        {
          "output_type": "execute_result",
          "data": {
            "text/plain": [
              "(720, 21)"
            ]
          },
          "metadata": {
            "tags": []
          },
          "execution_count": 6
        }
      ]
    },
    {
      "cell_type": "code",
      "metadata": {
        "colab": {
          "base_uri": "https://localhost:8080/"
        },
        "id": "Rlh2i9F7vfsF",
        "outputId": "85123bcb-3fa6-41f3-a8eb-cd22cfef3bf3"
      },
      "source": [
        "df_raw.dtypes"
      ],
      "execution_count": 7,
      "outputs": [
        {
          "output_type": "execute_result",
          "data": {
            "text/plain": [
              "PLATE_NO              object\n",
              "ROLLING_DATE          object\n",
              "SCALE                 object\n",
              "SPEC                  object\n",
              "STEEL_KIND            object\n",
              "PT_THK               float64\n",
              "PT_WDTH                int64\n",
              "PT_LTH                 int64\n",
              "PT_WGT                 int64\n",
              "FUR_NO                object\n",
              "FUR_NO_ROW             int64\n",
              "FUR_HZ_TEMP            int64\n",
              "FUR_HZ_TIME            int64\n",
              "FUR_SZ_TEMP            int64\n",
              "FUR_SZ_TIME            int64\n",
              "FUR_TIME               int64\n",
              "FUR_EXTEMP             int64\n",
              "ROLLING_TEMP_T5        int64\n",
              "HSB                   object\n",
              "ROLLING_DESCALING      int64\n",
              "WORK_GR               object\n",
              "dtype: object"
            ]
          },
          "metadata": {
            "tags": []
          },
          "execution_count": 7
        }
      ]
    },
    {
      "cell_type": "markdown",
      "metadata": {
        "id": "5kHRSMnCqAtb"
      },
      "source": [
        "#### spep1-1 변수 확인   \n",
        "\n",
        "##### -date 타입  \n",
        "ROLLING_DATE : 작업시각  \n",
        "\n",
        "##### -범주형 변수  \n",
        "PLATE_NO : Plate Number     \n",
        "*(목표변수)SCALE : Scale 불량여부  \n",
        "SPEC : 제품 규격   \n",
        "STEEL_KIND : 강종  \n",
        "FUR_NO : 가열로 호기     \n",
        "HSB : HBS 적용   \n",
        "WORK_GR : 작업조 \n",
        "\n",
        "##### -연속형 변수  \n",
        "PT_THK : plate 두께  \n",
        "PT_WDTH\t: plate 폭   \n",
        "PT_LTH : plate 길이  \n",
        "PT_WGT : plate 중량  \n",
        "FUR_NO_ROW : 가열로 작업 순번   \n",
        "FUR_HZ_TEMP\t: 가열로 가열대 온도    \n",
        "FUR_HZ_TIME : 가열로 가열대 시간\t\n",
        "FUR_SZ_TEMP : 가열로 균열대 온도   \t\n",
        "FUR_SZ_TIME : 가열로 균열대 시간  \t\n",
        "FUR_TIME : 가열로 시간\t  \n",
        "FUR_EXTEMP : 추출 온도   \t\n",
        "ROLLING_TEMP_T5 : 압연 온도   \n",
        "ROLLING_DESCALING : 압연 중 descaling 횟수  \n",
        "\n"
      ]
    },
    {
      "cell_type": "code",
      "metadata": {
        "id": "PUH44O6Styd_"
      },
      "source": [
        ""
      ],
      "execution_count": null,
      "outputs": []
    },
    {
      "cell_type": "markdown",
      "metadata": {
        "id": "zjBu2ER-wmKH"
      },
      "source": [
        "###### step1-2. raw data 확인 "
      ]
    },
    {
      "cell_type": "markdown",
      "metadata": {
        "id": "V5117aHzcATK"
      },
      "source": [
        "##### 단변수 분석"
      ]
    },
    {
      "cell_type": "code",
      "metadata": {
        "colab": {
          "base_uri": "https://localhost:8080/"
        },
        "id": "2NORcCdGwrm3",
        "outputId": "3b9e7b49-b65a-45b1-e8e4-2643a177cce0"
      },
      "source": [
        "# 단변수 분석 \n",
        "#=> 하나의 변수에 대한 기술 통계 확인 \n",
        "\n",
        "df_raw['SCALE'].value_counts()"
      ],
      "execution_count": 8,
      "outputs": [
        {
          "output_type": "execute_result",
          "data": {
            "text/plain": [
              "양품    489\n",
              "불량    231\n",
              "Name: SCALE, dtype: int64"
            ]
          },
          "metadata": {
            "tags": []
          },
          "execution_count": 8
        }
      ]
    },
    {
      "cell_type": "code",
      "metadata": {
        "colab": {
          "base_uri": "https://localhost:8080/",
          "height": 906
        },
        "id": "lPklQiezyGfR",
        "outputId": "c16175a6-bea3-41be-f192-82e874569cb6"
      },
      "source": [
        "from matplotlib import pyplot as plt\n",
        "\n",
        "# 숫자형 변수에 대해 histogram 생성하여 분포 확인 \n",
        "df_raw.hist(figsize=(20,10))"
      ],
      "execution_count": 9,
      "outputs": [
        {
          "output_type": "execute_result",
          "data": {
            "text/plain": [
              "array([[<matplotlib.axes._subplots.AxesSubplot object at 0x7fcd5d2066d0>,\n",
              "        <matplotlib.axes._subplots.AxesSubplot object at 0x7fcd5d1d7e50>,\n",
              "        <matplotlib.axes._subplots.AxesSubplot object at 0x7fcd5d19b510>,\n",
              "        <matplotlib.axes._subplots.AxesSubplot object at 0x7fcd5d246090>],\n",
              "       [<matplotlib.axes._subplots.AxesSubplot object at 0x7fcd5d103d90>,\n",
              "        <matplotlib.axes._subplots.AxesSubplot object at 0x7fcd5d0c6450>,\n",
              "        <matplotlib.axes._subplots.AxesSubplot object at 0x7fcd5d0fab50>,\n",
              "        <matplotlib.axes._subplots.AxesSubplot object at 0x7fcd5d0bd150>],\n",
              "       [<matplotlib.axes._subplots.AxesSubplot object at 0x7fcd5d0bd190>,\n",
              "        <matplotlib.axes._subplots.AxesSubplot object at 0x7fcd5d073910>,\n",
              "        <matplotlib.axes._subplots.AxesSubplot object at 0x7fcd5cfea550>,\n",
              "        <matplotlib.axes._subplots.AxesSubplot object at 0x7fcd5cf9fbd0>],\n",
              "       [<matplotlib.axes._subplots.AxesSubplot object at 0x7fcd5cf61290>,\n",
              "        <matplotlib.axes._subplots.AxesSubplot object at 0x7fcd5cf17910>,\n",
              "        <matplotlib.axes._subplots.AxesSubplot object at 0x7fcd5cecef90>,\n",
              "        <matplotlib.axes._subplots.AxesSubplot object at 0x7fcd5ce8f650>]],\n",
              "      dtype=object)"
            ]
          },
          "metadata": {
            "tags": []
          },
          "execution_count": 9
        },
        {
          "output_type": "display_data",
          "data": {
            "image/png": "[encoded data removed]",
            "text/plain": [
              "<Figure size 1440x720 with 16 Axes>"
            ]
          },
          "metadata": {
            "tags": [],
            "needs_background": "light"
          }
        }
      ]
    },
    {
      "cell_type": "code",
      "metadata": {
        "colab": {
          "base_uri": "https://localhost:8080/"
        },
        "id": "eVGfhTzPspMH",
        "outputId": "3c40c956-6a39-4bb7-f79c-81368bb8fdd3"
      },
      "source": [
        "import numpy as np\n",
        "\n",
        "# SCALE 의 데이터 값 양품일경우 : 0, 불량일 경우 : 1 로 변경 \n",
        "\n",
        "df_raw[\"SCALE\"] = np.where(df_raw[\"SCALE\"] == \"양품\", 0, 1)\n",
        "df_raw[\"SCALE\"].value_counts()"
      ],
      "execution_count": 138,
      "outputs": [
        {
          "output_type": "execute_result",
          "data": {
            "text/plain": [
              "0    489\n",
              "1    231\n",
              "Name: SCALE, dtype: int64"
            ]
          },
          "metadata": {
            "tags": []
          },
          "execution_count": 138
        }
      ]
    },
    {
      "cell_type": "code",
      "metadata": {
        "id": "ZSy2SbTXCPM0"
      },
      "source": [
        "from sklearn.preprocessing import LabelEncoder\n",
        "\n",
        "le = LabelEncoder() \n",
        "# HSB 0, 1로 데이터 값 변경 \n",
        "le.fit(df_raw[\"HSB\"])\n",
        "df_raw[\"HSB\"] = le.transform(df_raw[\"HSB\"])\n",
        "# 적용 : 1, 미적용 : 0"
      ],
      "execution_count": 139,
      "outputs": []
    },
    {
      "cell_type": "code",
      "metadata": {
        "colab": {
          "base_uri": "https://localhost:8080/",
          "height": 1000
        },
        "id": "Ml21LnR1041T",
        "outputId": "52f84512-0f74-4582-cd3a-015efe8c586f"
      },
      "source": [
        "# 범주형 변수에 대해 bar chart 을 이용해 분포 확인\n",
        "\n",
        "character_columns_list = [\"SPEC\",\"STEEL_KIND\",\"FUR_NO\",\"WORK_GR\"]\n",
        "\n",
        "for i in character_columns_list :\n",
        "  df_count = df_raw[i].value_counts()\n",
        "  df_count.plot.bar()\n",
        "  plt.xlabel(i)\n",
        "  plt.show()"
      ],
      "execution_count": 26,
      "outputs": [
        {
          "output_type": "display_data",
          "data": {
            "image/png": "[encoded data removed]",
            "text/plain": [
              "<Figure size 432x288 with 1 Axes>"
            ]
          },
          "metadata": {
            "tags": [],
            "needs_background": "light"
          }
        },
        {
          "output_type": "display_data",
          "data": {
            "image/png": "[encoded data removed]",
            "text/plain": [
              "<Figure size 432x288 with 1 Axes>"
            ]
          },
          "metadata": {
            "tags": [],
            "needs_background": "light"
          }
        },
        {
          "output_type": "stream",
          "text": [
            "/usr/local/lib/python3.7/dist-packages/matplotlib/backends/backend_agg.py:214: RuntimeWarning: Glyph 54840 missing from current font.\n",
            "  font.set_text(s, 0.0, flags=flags)\n",
            "/usr/local/lib/python3.7/dist-packages/matplotlib/backends/backend_agg.py:214: RuntimeWarning: Glyph 44592 missing from current font.\n",
            "  font.set_text(s, 0.0, flags=flags)\n",
            "/usr/local/lib/python3.7/dist-packages/matplotlib/backends/backend_agg.py:183: RuntimeWarning: Glyph 54840 missing from current font.\n",
            "  font.set_text(s, 0, flags=flags)\n",
            "/usr/local/lib/python3.7/dist-packages/matplotlib/backends/backend_agg.py:183: RuntimeWarning: Glyph 44592 missing from current font.\n",
            "  font.set_text(s, 0, flags=flags)\n"
          ],
          "name": "stderr"
        },
        {
          "output_type": "display_data",
          "data": {
            "image/png": "[encoded data removed]",
            "text/plain": [
              "<Figure size 432x288 with 1 Axes>"
            ]
          },
          "metadata": {
            "tags": [],
            "needs_background": "light"
          }
        },
        {
          "output_type": "stream",
          "text": [
            "/usr/local/lib/python3.7/dist-packages/matplotlib/backends/backend_agg.py:214: RuntimeWarning: Glyph 51312 missing from current font.\n",
            "  font.set_text(s, 0.0, flags=flags)\n",
            "/usr/local/lib/python3.7/dist-packages/matplotlib/backends/backend_agg.py:183: RuntimeWarning: Glyph 51312 missing from current font.\n",
            "  font.set_text(s, 0, flags=flags)\n"
          ],
          "name": "stderr"
        },
        {
          "output_type": "display_data",
          "data": {
            "image/png": "[encoded data removed]",
            "text/plain": [
              "<Figure size 432x288 with 1 Axes>"
            ]
          },
          "metadata": {
            "tags": [],
            "needs_background": "light"
          }
        }
      ]
    },
    {
      "cell_type": "code",
      "metadata": {
        "id": "vsWSxtEum4xF"
      },
      "source": [
        ""
      ],
      "execution_count": null,
      "outputs": []
    },
    {
      "cell_type": "code",
      "metadata": {
        "id": "tRMlx52Wm4lr"
      },
      "source": [
        "# 범주형 변수에 대한 카테고리별 양품, 불량 개수 확인 \n",
        "\n",
        "def fun_print_crosstab(data, var):\n",
        "    print(pd.crosstab(index = data[\"SCALE\"], columns = data[var]))\n",
        "    print()\n",
        "    print(pd.crosstab(index = data[\"SCALE\"],columns = data[var], normalize =\"columns\").round(3))"
      ],
      "execution_count": 61,
      "outputs": []
    },
    {
      "cell_type": "code",
      "metadata": {
        "colab": {
          "base_uri": "https://localhost:8080/"
        },
        "id": "btb8ZTT9nVdK",
        "outputId": "8ba83a6a-0674-4a25-a552-2fe84641306e"
      },
      "source": [
        "# 강종 \n",
        "fun_print_crosstab(df_raw, \"SPEC\")"
      ],
      "execution_count": 62,
      "outputs": [
        {
          "output_type": "stream",
          "text": [
            "SPEC   A131-DH36TM  A283-C  A516-60  ...  PILAC-BT33  SA283-C  V42JBN3\n",
            "SCALE                                ...                              \n",
            "0                0       1        1  ...          38       11        3\n",
            "1                1       5        1  ...           2       10        1\n",
            "\n",
            "[2 rows x 66 columns]\n",
            "\n",
            "SPEC   A131-DH36TM  A283-C  A516-60  ...  PILAC-BT33  SA283-C  V42JBN3\n",
            "SCALE                                ...                              \n",
            "0              0.0   0.167      0.5  ...        0.95    0.524     0.75\n",
            "1              1.0   0.833      0.5  ...        0.05    0.476     0.25\n",
            "\n",
            "[2 rows x 66 columns]\n"
          ],
          "name": "stdout"
        }
      ]
    },
    {
      "cell_type": "code",
      "metadata": {
        "colab": {
          "base_uri": "https://localhost:8080/"
        },
        "id": "EGmbn8tpnbw-",
        "outputId": "eb275e9e-2a75-45b5-b8b1-6dc6dc48f930"
      },
      "source": [
        "# 강종\n",
        "fun_print_crosstab(df_raw, \"STEEL_KIND\")\n",
        "\n",
        "#=> C0 강종은 다른 강종에 비해 상대적으로 높은 불량률을 보이고 있음 ; 조사할 필요 있음 "
      ],
      "execution_count": 63,
      "outputs": [
        {
          "output_type": "stream",
          "text": [
            "STEEL_KIND   C0  C1  C3  T0  T1  T3  T5  T7  T8\n",
            "SCALE                                          \n",
            "0           291   0   6  14  16   2  41  29  90\n",
            "1           212   1   1   2   2   0   2   6   5\n",
            "\n",
            "STEEL_KIND     C0   C1     C3     T0     T1   T3     T5     T7     T8\n",
            "SCALE                                                                \n",
            "0           0.579  0.0  0.857  0.875  0.889  1.0  0.953  0.829  0.947\n",
            "1           0.421  1.0  0.143  0.125  0.111  0.0  0.047  0.171  0.053\n"
          ],
          "name": "stdout"
        }
      ]
    },
    {
      "cell_type": "code",
      "metadata": {
        "colab": {
          "base_uri": "https://localhost:8080/"
        },
        "id": "Mt6LVmN1m4Eq",
        "outputId": "79dec584-3843-4cef-bd68-66736cbd9850"
      },
      "source": [
        "# 가열로 호기\n",
        "fun_print_crosstab(df_raw, \"FUR_NO\")"
      ],
      "execution_count": 64,
      "outputs": [
        {
          "output_type": "stream",
          "text": [
            "FUR_NO  1호기  2호기  3호기\n",
            "SCALE                \n",
            "0       167  167  155\n",
            "1        73   70   88\n",
            "\n",
            "FUR_NO    1호기    2호기    3호기\n",
            "SCALE                      \n",
            "0       0.696  0.705  0.638\n",
            "1       0.304  0.295  0.362\n"
          ],
          "name": "stdout"
        }
      ]
    },
    {
      "cell_type": "code",
      "metadata": {
        "colab": {
          "base_uri": "https://localhost:8080/"
        },
        "id": "eulOQuMAnPki",
        "outputId": "81f6f920-bdda-4d0a-ddb5-119bbe6fe285"
      },
      "source": [
        "# 작업조 \n",
        "fun_print_crosstab(df_raw, \"WORK_GR\")"
      ],
      "execution_count": 65,
      "outputs": [
        {
          "output_type": "stream",
          "text": [
            "WORK_GR   1조   2조   3조   4조\n",
            "SCALE                      \n",
            "0        122  120  118  129\n",
            "1         67   45   54   65\n",
            "\n",
            "WORK_GR     1조     2조     3조     4조\n",
            "SCALE                              \n",
            "0        0.646  0.727  0.686  0.665\n",
            "1        0.354  0.273  0.314  0.335\n"
          ],
          "name": "stdout"
        }
      ]
    },
    {
      "cell_type": "code",
      "metadata": {
        "id": "Ix2oTYq0okaH"
      },
      "source": [
        ""
      ],
      "execution_count": null,
      "outputs": []
    },
    {
      "cell_type": "code",
      "metadata": {
        "id": "FPQAY9b6Ka8m"
      },
      "source": [
        "# 연속형 변수에 대한 양품, 불량 분포 확인 \n",
        "\n",
        "def fun_plot_hist(data, var):\n",
        "    plt.hist(data[data['SCALE'] == 0][var], label = \"good\", alpha = 0.5)\n",
        "    plt.hist(data[data['SCALE'] == 1][var], label = \"bad\", alpha = 0.5)\n",
        "    plt.legend()"
      ],
      "execution_count": 14,
      "outputs": []
    },
    {
      "cell_type": "code",
      "metadata": {
        "colab": {
          "base_uri": "https://localhost:8080/",
          "height": 1000
        },
        "id": "lepeG2b0C1HL",
        "outputId": "62b6b6bd-ff29-40dd-bf0b-bb65e0d8b5cf"
      },
      "source": [
        "# 연속형 변수 목록 \n",
        "numeric_columns_list = [\"PT_THK\",\"PT_WDTH\",\"PT_LTH\",\"PT_WGT\",\"FUR_NO_ROW\",\"FUR_HZ_TEMP\",\"FUR_HZ_TIME\",\"FUR_SZ_TEMP\",\"FUR_SZ_TIME\",\"FUR_TIME\",\"FUR_EXTEMP\",\"ROLLING_TEMP_T5\",\"ROLLING_DESCALING\",\"HSB\"]\n",
        "\n",
        "for i in numeric_columns_list :\n",
        "  fun_plot_hist(df_raw,i)\n",
        "  plt.xlabel(i)\n",
        "  plt.ylabel(\"count\")\n",
        "  plt.show()"
      ],
      "execution_count": 25,
      "outputs": [
        {
          "output_type": "display_data",
          "data": {
            "image/png": "[encoded data removed]",
            "text/plain": [
              "<Figure size 432x288 with 1 Axes>"
            ]
          },
          "metadata": {
            "tags": [],
            "needs_background": "light"
          }
        },
        {
          "output_type": "display_data",
          "data": {
            "image/png": "[encoded data removed]",
            "text/plain": [
              "<Figure size 432x288 with 1 Axes>"
            ]
          },
          "metadata": {
            "tags": [],
            "needs_background": "light"
          }
        },
        {
          "output_type": "display_data",
          "data": {
            "image/png": "[encoded data removed]",
            "text/plain": [
              "<Figure size 432x288 with 1 Axes>"
            ]
          },
          "metadata": {
            "tags": [],
            "needs_background": "light"
          }
        },
        {
          "output_type": "display_data",
          "data": {
            "image/png": "[encoded data removed]",
            "text/plain": [
              "<Figure size 432x288 with 1 Axes>"
            ]
          },
          "metadata": {
            "tags": [],
            "needs_background": "light"
          }
        },
        {
          "output_type": "display_data",
          "data": {
            "image/png": "[encoded data removed]",
            "text/plain": [
              "<Figure size 432x288 with 1 Axes>"
            ]
          },
          "metadata": {
            "tags": [],
            "needs_background": "light"
          }
        },
        {
          "output_type": "display_data",
          "data": {
            "image/png": "[encoded data removed]",
            "text/plain": [
              "<Figure size 432x288 with 1 Axes>"
            ]
          },
          "metadata": {
            "tags": [],
            "needs_background": "light"
          }
        },
        {
          "output_type": "display_data",
          "data": {
            "image/png": "[encoded data removed]",
            "text/plain": [
              "<Figure size 432x288 with 1 Axes>"
            ]
          },
          "metadata": {
            "tags": [],
            "needs_background": "light"
          }
        },
        {
          "output_type": "display_data",
          "data": {
            "image/png": "[encoded data removed]",
            "text/plain": [
              "<Figure size 432x288 with 1 Axes>"
            ]
          },
          "metadata": {
            "tags": [],
            "needs_background": "light"
          }
        },
        {
          "output_type": "display_data",
          "data": {
            "image/png": "[encoded data removed]",
            "text/plain": [
              "<Figure size 432x288 with 1 Axes>"
            ]
          },
          "metadata": {
            "tags": [],
            "needs_background": "light"
          }
        },
        {
          "output_type": "display_data",
          "data": {
            "image/png": "[encoded data removed]",
            "text/plain": [
              "<Figure size 432x288 with 1 Axes>"
            ]
          },
          "metadata": {
            "tags": [],
            "needs_background": "light"
          }
        },
        {
          "output_type": "display_data",
          "data": {
            "image/png": "[encoded data removed]",
            "text/plain": [
              "<Figure size 432x288 with 1 Axes>"
            ]
          },
          "metadata": {
            "tags": [],
            "needs_background": "light"
          }
        },
        {
          "output_type": "display_data",
          "data": {
            "image/png": "[encoded data removed]",
            "text/plain": [
              "<Figure size 432x288 with 1 Axes>"
            ]
          },
          "metadata": {
            "tags": [],
            "needs_background": "light"
          }
        },
        {
          "output_type": "display_data",
          "data": {
            "image/png": "[encoded data removed]",
            "text/plain": [
              "<Figure size 432x288 with 1 Axes>"
            ]
          },
          "metadata": {
            "tags": [],
            "needs_background": "light"
          }
        },
        {
          "output_type": "display_data",
          "data": {
            "image/png": "[encoded data removed]",
            "text/plain": [
              "<Figure size 432x288 with 1 Axes>"
            ]
          },
          "metadata": {
            "tags": [],
            "needs_background": "light"
          }
        }
      ]
    },
    {
      "cell_type": "markdown",
      "metadata": {
        "id": "RGo84L1Yb6nt"
      },
      "source": [
        "##### 이변수 분석"
      ]
    },
    {
      "cell_type": "code",
      "metadata": {
        "colab": {
          "base_uri": "https://localhost:8080/",
          "height": 531
        },
        "id": "9Qgi9XcUL9rQ",
        "outputId": "ebeaaf5c-010c-43da-93df-5a6f4904f23c"
      },
      "source": [
        "# 수치형 데이터간의 상관관계 확인 \n",
        "corr = df_raw.corr()\n",
        "corr"
      ],
      "execution_count": 94,
      "outputs": [
        {
          "output_type": "execute_result",
          "data": {
            "text/html": [
              "<div>\n",
              "<style scoped>\n",
              "    .dataframe tbody tr th:only-of-type {\n",
              "        vertical-align: middle;\n",
              "    }\n",
              "\n",
              "    .dataframe tbody tr th {\n",
              "        vertical-align: top;\n",
              "    }\n",
              "\n",
              "    .dataframe thead th {\n",
              "        text-align: right;\n",
              "    }\n",
              "</style>\n",
              "<table border=\"1\" class=\"dataframe\">\n",
              "  <thead>\n",
              "    <tr style=\"text-align: right;\">\n",
              "      <th></th>\n",
              "      <th>SCALE</th>\n",
              "      <th>PT_THK</th>\n",
              "      <th>PT_WDTH</th>\n",
              "      <th>PT_LTH</th>\n",
              "      <th>PT_WGT</th>\n",
              "      <th>FUR_NO_ROW</th>\n",
              "      <th>FUR_HZ_TEMP</th>\n",
              "      <th>FUR_HZ_TIME</th>\n",
              "      <th>FUR_SZ_TEMP</th>\n",
              "      <th>FUR_SZ_TIME</th>\n",
              "      <th>FUR_TIME</th>\n",
              "      <th>FUR_EXTEMP</th>\n",
              "      <th>ROLLING_TEMP_T5</th>\n",
              "      <th>HSB</th>\n",
              "      <th>ROLLING_DESCALING</th>\n",
              "    </tr>\n",
              "  </thead>\n",
              "  <tbody>\n",
              "    <tr>\n",
              "      <th>SCALE</th>\n",
              "      <td>1.000000</td>\n",
              "      <td>-0.124858</td>\n",
              "      <td>-0.206021</td>\n",
              "      <td>0.100475</td>\n",
              "      <td>0.218741</td>\n",
              "      <td>-0.022960</td>\n",
              "      <td>0.247670</td>\n",
              "      <td>0.056139</td>\n",
              "      <td>0.374809</td>\n",
              "      <td>-0.240137</td>\n",
              "      <td>-0.049214</td>\n",
              "      <td>0.374809</td>\n",
              "      <td>0.384967</td>\n",
              "      <td>-0.318880</td>\n",
              "      <td>-0.006955</td>\n",
              "    </tr>\n",
              "    <tr>\n",
              "      <th>PT_THK</th>\n",
              "      <td>-0.124858</td>\n",
              "      <td>1.000000</td>\n",
              "      <td>-0.313151</td>\n",
              "      <td>-0.862618</td>\n",
              "      <td>-0.397391</td>\n",
              "      <td>-0.002530</td>\n",
              "      <td>-0.523926</td>\n",
              "      <td>0.160110</td>\n",
              "      <td>-0.694770</td>\n",
              "      <td>0.113171</td>\n",
              "      <td>0.413009</td>\n",
              "      <td>-0.694770</td>\n",
              "      <td>-0.373976</td>\n",
              "      <td>-0.017628</td>\n",
              "      <td>-0.836631</td>\n",
              "    </tr>\n",
              "    <tr>\n",
              "      <th>PT_WDTH</th>\n",
              "      <td>-0.206021</td>\n",
              "      <td>-0.313151</td>\n",
              "      <td>1.000000</td>\n",
              "      <td>0.119726</td>\n",
              "      <td>0.031009</td>\n",
              "      <td>0.006727</td>\n",
              "      <td>0.180024</td>\n",
              "      <td>-0.119175</td>\n",
              "      <td>0.227296</td>\n",
              "      <td>0.022627</td>\n",
              "      <td>-0.393200</td>\n",
              "      <td>0.227296</td>\n",
              "      <td>-0.021807</td>\n",
              "      <td>-0.041914</td>\n",
              "      <td>0.337540</td>\n",
              "    </tr>\n",
              "    <tr>\n",
              "      <th>PT_LTH</th>\n",
              "      <td>0.100475</td>\n",
              "      <td>-0.862618</td>\n",
              "      <td>0.119726</td>\n",
              "      <td>1.000000</td>\n",
              "      <td>0.451815</td>\n",
              "      <td>-0.021185</td>\n",
              "      <td>0.473111</td>\n",
              "      <td>-0.077392</td>\n",
              "      <td>0.645402</td>\n",
              "      <td>-0.070225</td>\n",
              "      <td>-0.251950</td>\n",
              "      <td>0.645402</td>\n",
              "      <td>0.312762</td>\n",
              "      <td>-0.018222</td>\n",
              "      <td>0.809280</td>\n",
              "    </tr>\n",
              "    <tr>\n",
              "      <th>PT_WGT</th>\n",
              "      <td>0.218741</td>\n",
              "      <td>-0.397391</td>\n",
              "      <td>0.031009</td>\n",
              "      <td>0.451815</td>\n",
              "      <td>1.000000</td>\n",
              "      <td>-0.022241</td>\n",
              "      <td>0.153331</td>\n",
              "      <td>0.010491</td>\n",
              "      <td>0.359513</td>\n",
              "      <td>-0.190922</td>\n",
              "      <td>-0.057776</td>\n",
              "      <td>0.359513</td>\n",
              "      <td>0.263216</td>\n",
              "      <td>0.022630</td>\n",
              "      <td>0.238986</td>\n",
              "    </tr>\n",
              "    <tr>\n",
              "      <th>FUR_NO_ROW</th>\n",
              "      <td>-0.022960</td>\n",
              "      <td>-0.002530</td>\n",
              "      <td>0.006727</td>\n",
              "      <td>-0.021185</td>\n",
              "      <td>-0.022241</td>\n",
              "      <td>1.000000</td>\n",
              "      <td>0.004753</td>\n",
              "      <td>-0.015791</td>\n",
              "      <td>0.009228</td>\n",
              "      <td>0.049045</td>\n",
              "      <td>0.016053</td>\n",
              "      <td>0.009228</td>\n",
              "      <td>-0.004372</td>\n",
              "      <td>-0.021142</td>\n",
              "      <td>0.018219</td>\n",
              "    </tr>\n",
              "    <tr>\n",
              "      <th>FUR_HZ_TEMP</th>\n",
              "      <td>0.247670</td>\n",
              "      <td>-0.523926</td>\n",
              "      <td>0.180024</td>\n",
              "      <td>0.473111</td>\n",
              "      <td>0.153331</td>\n",
              "      <td>0.004753</td>\n",
              "      <td>1.000000</td>\n",
              "      <td>-0.114395</td>\n",
              "      <td>0.772907</td>\n",
              "      <td>-0.222141</td>\n",
              "      <td>-0.348223</td>\n",
              "      <td>0.772907</td>\n",
              "      <td>0.265310</td>\n",
              "      <td>-0.035614</td>\n",
              "      <td>0.470899</td>\n",
              "    </tr>\n",
              "    <tr>\n",
              "      <th>FUR_HZ_TIME</th>\n",
              "      <td>0.056139</td>\n",
              "      <td>0.160110</td>\n",
              "      <td>-0.119175</td>\n",
              "      <td>-0.077392</td>\n",
              "      <td>0.010491</td>\n",
              "      <td>-0.015791</td>\n",
              "      <td>-0.114395</td>\n",
              "      <td>1.000000</td>\n",
              "      <td>-0.203401</td>\n",
              "      <td>0.177922</td>\n",
              "      <td>0.473137</td>\n",
              "      <td>-0.203401</td>\n",
              "      <td>0.011609</td>\n",
              "      <td>0.008544</td>\n",
              "      <td>-0.137742</td>\n",
              "    </tr>\n",
              "    <tr>\n",
              "      <th>FUR_SZ_TEMP</th>\n",
              "      <td>0.374809</td>\n",
              "      <td>-0.694770</td>\n",
              "      <td>0.227296</td>\n",
              "      <td>0.645402</td>\n",
              "      <td>0.359513</td>\n",
              "      <td>0.009228</td>\n",
              "      <td>0.772907</td>\n",
              "      <td>-0.203401</td>\n",
              "      <td>1.000000</td>\n",
              "      <td>-0.450652</td>\n",
              "      <td>-0.477177</td>\n",
              "      <td>1.000000</td>\n",
              "      <td>0.452297</td>\n",
              "      <td>-0.038579</td>\n",
              "      <td>0.648646</td>\n",
              "    </tr>\n",
              "    <tr>\n",
              "      <th>FUR_SZ_TIME</th>\n",
              "      <td>-0.240137</td>\n",
              "      <td>0.113171</td>\n",
              "      <td>0.022627</td>\n",
              "      <td>-0.070225</td>\n",
              "      <td>-0.190922</td>\n",
              "      <td>0.049045</td>\n",
              "      <td>-0.222141</td>\n",
              "      <td>0.177922</td>\n",
              "      <td>-0.450652</td>\n",
              "      <td>1.000000</td>\n",
              "      <td>0.443176</td>\n",
              "      <td>-0.450652</td>\n",
              "      <td>-0.207358</td>\n",
              "      <td>-0.007574</td>\n",
              "      <td>-0.105667</td>\n",
              "    </tr>\n",
              "    <tr>\n",
              "      <th>FUR_TIME</th>\n",
              "      <td>-0.049214</td>\n",
              "      <td>0.413009</td>\n",
              "      <td>-0.393200</td>\n",
              "      <td>-0.251950</td>\n",
              "      <td>-0.057776</td>\n",
              "      <td>0.016053</td>\n",
              "      <td>-0.348223</td>\n",
              "      <td>0.473137</td>\n",
              "      <td>-0.477177</td>\n",
              "      <td>0.443176</td>\n",
              "      <td>1.000000</td>\n",
              "      <td>-0.477177</td>\n",
              "      <td>-0.199352</td>\n",
              "      <td>0.002432</td>\n",
              "      <td>-0.366708</td>\n",
              "    </tr>\n",
              "    <tr>\n",
              "      <th>FUR_EXTEMP</th>\n",
              "      <td>0.374809</td>\n",
              "      <td>-0.694770</td>\n",
              "      <td>0.227296</td>\n",
              "      <td>0.645402</td>\n",
              "      <td>0.359513</td>\n",
              "      <td>0.009228</td>\n",
              "      <td>0.772907</td>\n",
              "      <td>-0.203401</td>\n",
              "      <td>1.000000</td>\n",
              "      <td>-0.450652</td>\n",
              "      <td>-0.477177</td>\n",
              "      <td>1.000000</td>\n",
              "      <td>0.452297</td>\n",
              "      <td>-0.038579</td>\n",
              "      <td>0.648646</td>\n",
              "    </tr>\n",
              "    <tr>\n",
              "      <th>ROLLING_TEMP_T5</th>\n",
              "      <td>0.384967</td>\n",
              "      <td>-0.373976</td>\n",
              "      <td>-0.021807</td>\n",
              "      <td>0.312762</td>\n",
              "      <td>0.263216</td>\n",
              "      <td>-0.004372</td>\n",
              "      <td>0.265310</td>\n",
              "      <td>0.011609</td>\n",
              "      <td>0.452297</td>\n",
              "      <td>-0.207358</td>\n",
              "      <td>-0.199352</td>\n",
              "      <td>0.452297</td>\n",
              "      <td>1.000000</td>\n",
              "      <td>0.006802</td>\n",
              "      <td>0.267521</td>\n",
              "    </tr>\n",
              "    <tr>\n",
              "      <th>HSB</th>\n",
              "      <td>-0.318880</td>\n",
              "      <td>-0.017628</td>\n",
              "      <td>-0.041914</td>\n",
              "      <td>-0.018222</td>\n",
              "      <td>0.022630</td>\n",
              "      <td>-0.021142</td>\n",
              "      <td>-0.035614</td>\n",
              "      <td>0.008544</td>\n",
              "      <td>-0.038579</td>\n",
              "      <td>-0.007574</td>\n",
              "      <td>0.002432</td>\n",
              "      <td>-0.038579</td>\n",
              "      <td>0.006802</td>\n",
              "      <td>1.000000</td>\n",
              "      <td>-0.030537</td>\n",
              "    </tr>\n",
              "    <tr>\n",
              "      <th>ROLLING_DESCALING</th>\n",
              "      <td>-0.006955</td>\n",
              "      <td>-0.836631</td>\n",
              "      <td>0.337540</td>\n",
              "      <td>0.809280</td>\n",
              "      <td>0.238986</td>\n",
              "      <td>0.018219</td>\n",
              "      <td>0.470899</td>\n",
              "      <td>-0.137742</td>\n",
              "      <td>0.648646</td>\n",
              "      <td>-0.105667</td>\n",
              "      <td>-0.366708</td>\n",
              "      <td>0.648646</td>\n",
              "      <td>0.267521</td>\n",
              "      <td>-0.030537</td>\n",
              "      <td>1.000000</td>\n",
              "    </tr>\n",
              "  </tbody>\n",
              "</table>\n",
              "</div>"
            ],
            "text/plain": [
              "                      SCALE    PT_THK  ...       HSB  ROLLING_DESCALING\n",
              "SCALE              1.000000 -0.124858  ... -0.318880          -0.006955\n",
              "PT_THK            -0.124858  1.000000  ... -0.017628          -0.836631\n",
              "PT_WDTH           -0.206021 -0.313151  ... -0.041914           0.337540\n",
              "PT_LTH             0.100475 -0.862618  ... -0.018222           0.809280\n",
              "PT_WGT             0.218741 -0.397391  ...  0.022630           0.238986\n",
              "FUR_NO_ROW        -0.022960 -0.002530  ... -0.021142           0.018219\n",
              "FUR_HZ_TEMP        0.247670 -0.523926  ... -0.035614           0.470899\n",
              "FUR_HZ_TIME        0.056139  0.160110  ...  0.008544          -0.137742\n",
              "FUR_SZ_TEMP        0.374809 -0.694770  ... -0.038579           0.648646\n",
              "FUR_SZ_TIME       -0.240137  0.113171  ... -0.007574          -0.105667\n",
              "FUR_TIME          -0.049214  0.413009  ...  0.002432          -0.366708\n",
              "FUR_EXTEMP         0.374809 -0.694770  ... -0.038579           0.648646\n",
              "ROLLING_TEMP_T5    0.384967 -0.373976  ...  0.006802           0.267521\n",
              "HSB               -0.318880 -0.017628  ...  1.000000          -0.030537\n",
              "ROLLING_DESCALING -0.006955 -0.836631  ... -0.030537           1.000000\n",
              "\n",
              "[15 rows x 15 columns]"
            ]
          },
          "metadata": {
            "tags": []
          },
          "execution_count": 94
        }
      ]
    },
    {
      "cell_type": "code",
      "metadata": {
        "id": "7PO_MXkAtWwH",
        "colab": {
          "base_uri": "https://localhost:8080/",
          "height": 669
        },
        "outputId": "89e28178-8943-45d6-9f21-832472497d23"
      },
      "source": [
        "#이변수 분석\n",
        "#=>변수 2개간의 관계 분석\n",
        "import seaborn as sns\n",
        "\n",
        "# 상관 관계 계수 시각화 \n",
        "sns.set(rc = {'figure.figsize':(15,9)})\n",
        "\n",
        "mask = np.triu(np.ones_like(corr, dtype=np.bool))\n",
        "sns.heatmap(corr, annot=True, cmap=\"Blues\", mask=mask) # 숫자 넣어주기 ; annot=True, 절반만 나오게 하기 ; mask "
      ],
      "execution_count": 95,
      "outputs": [
        {
          "output_type": "execute_result",
          "data": {
            "text/plain": [
              "<matplotlib.axes._subplots.AxesSubplot at 0x7fcd3b443f90>"
            ]
          },
          "metadata": {
            "tags": []
          },
          "execution_count": 95
        },
        {
          "output_type": "display_data",
          "data": {
            "image/png": "[encoded data removed]",
            "text/plain": [
              "<Figure size 1080x648 with 2 Axes>"
            ]
          },
          "metadata": {
            "tags": []
          }
        }
      ]
    },
    {
      "cell_type": "code",
      "metadata": {
        "colab": {
          "base_uri": "https://localhost:8080/",
          "height": 574
        },
        "id": "zcNBsNG0F_3I",
        "outputId": "9d61c2d9-4329-48bb-b4fe-0ed9fdd53fd3"
      },
      "source": [
        "# 두 변수간의 상관관계가 1이어서 scatterplot을 이용하여 분포를 살펴봄\n",
        "sns.scatterplot(data=df_raw, x=\"FUR_SZ_TEMP\",y=\"FUR_EXTEMP\")\n",
        "# => 두 변수 FUR_SZ_TEMP, FUR_EXTEMP 중 결측치가 많은 값을 제외하기로 함 \n",
        "\n",
        "\n",
        "# 회귀선 그리기 \n",
        "# sns.lmplot(data=df_raw, x=\"FUR_SZ_TEMP\",y=\"FUR_EXTEMP\", hue=\"SCALE\", col =\"SCALE\")\n",
        "\n",
        "\n",
        "# 두개의 독립변수간에 상관관계가 매우 커서, 즉 한 변수를 알면 자동적으로 다른 변수를 알 수 있을 때에는 \n",
        "# 다변량 분석이라도 이 두개의 독립변수가 종속변수에 미치는 영향을 따로 분리해서 산출할 수는 없다. \n",
        "#=>‘다중 공선성(multicollinearity)'.\n",
        "\n",
        "# 다중공선성 확인 지표 : 분산 팽창계수 (VIF)\n",
        "## VIF = 1/(1-R^2) 의 값이 5이상이면 다중공선성이 존재한다고 할 수 있음!!!  \n",
        "# 결정계수 (R^2) = (상관계수)^2  \n",
        "\n",
        "#=> 다중 공선성이 있는 변수(=상관성이 높은 변수)들 처리 방법 \n",
        "# 1. 그 변수를 모델에서 제외한다.\n",
        "##=> 두 변수 중 결측지가 더 많은 변수 제외하기 \n",
        "# 2.“and/or\" 조합을 이용한다.\n",
        "# 3. 척도(scale)를 만든다.\n",
        "##=> 두 변수를 종합하는 새로운 변수를 만듦 \n",
        "\n",
        "# 다중공선성 참고 : http://www.snu-dhpm.ac.kr/pds/files/Relationship%20of%20independent%20variables%20to%20one%20another_%EB%B0%95%EC%9E%AC%ED%98%84.pdf "
      ],
      "execution_count": 96,
      "outputs": [
        {
          "output_type": "execute_result",
          "data": {
            "text/plain": [
              "<matplotlib.axes._subplots.AxesSubplot at 0x7fcd3b365450>"
            ]
          },
          "metadata": {
            "tags": []
          },
          "execution_count": 96
        },
        {
          "output_type": "display_data",
          "data": {
            "image/png": "[encoded data removed]",
            "text/plain": [
              "<Figure size 1080x648 with 1 Axes>"
            ]
          },
          "metadata": {
            "tags": []
          }
        }
      ]
    },
    {
      "cell_type": "code",
      "metadata": {
        "colab": {
          "base_uri": "https://localhost:8080/"
        },
        "id": "l4lGtXVcQzl7",
        "outputId": "15a1dcc0-3207-4f7c-811d-f281d3791bae"
      },
      "source": [
        "# 결측치 확인 \n",
        "print(df_raw[\"FUR_SZ_TEMP\"].isnull().sum())\n",
        "print(df_raw[\"FUR_EXTEMP\"].isnull().sum())\n",
        "\n",
        "# => 둘다 결측치가 0 이므로 FUR_SZ_TEMP 변수를 삭제 하기러 함 "
      ],
      "execution_count": 140,
      "outputs": [
        {
          "output_type": "stream",
          "text": [
            "0\n",
            "0\n"
          ],
          "name": "stdout"
        }
      ]
    },
    {
      "cell_type": "code",
      "metadata": {
        "id": "texOfNM1Xsp4"
      },
      "source": [
        "# 다중공선성 존재하는 두 변수 중 FUR_SZ_TEMP 삭제 \n",
        "df_raw.drop(['FUR_SZ_TEMP'], axis=1, inplace=True)"
      ],
      "execution_count": 141,
      "outputs": []
    },
    {
      "cell_type": "code",
      "metadata": {
        "colab": {
          "base_uri": "https://localhost:8080/"
        },
        "id": "ju_1chVOWK5H",
        "outputId": "fa3b9f0f-db5a-475c-e0a9-a73b516abe7c"
      },
      "source": [
        "df_raw.shape\n",
        "\n",
        "#=> 21-> 20 column 하나 제거 "
      ],
      "execution_count": 142,
      "outputs": [
        {
          "output_type": "execute_result",
          "data": {
            "text/plain": [
              "(720, 20)"
            ]
          },
          "metadata": {
            "tags": []
          },
          "execution_count": 142
        }
      ]
    },
    {
      "cell_type": "code",
      "metadata": {
        "id": "9I2gdAEwXhoR"
      },
      "source": [
        ""
      ],
      "execution_count": null,
      "outputs": []
    },
    {
      "cell_type": "markdown",
      "metadata": {
        "id": "iHbACZBhphdX"
      },
      "source": [
        "### 데이터 전처리\n",
        "step2. 결측값 처리"
      ]
    },
    {
      "cell_type": "code",
      "metadata": {
        "colab": {
          "base_uri": "https://localhost:8080/"
        },
        "id": "8Nv3rl1npmjd",
        "outputId": "fdf1621d-f8d8-4701-e56c-bb0f7c9851d0"
      },
      "source": [
        "# df_raw 데이터의 결측값 확인 \n",
        "\n",
        "df_raw.isnull().sum()\n",
        "#=> 결측값 없음 "
      ],
      "execution_count": 100,
      "outputs": [
        {
          "output_type": "execute_result",
          "data": {
            "text/plain": [
              "PLATE_NO             0\n",
              "ROLLING_DATE         0\n",
              "SCALE                0\n",
              "SPEC                 0\n",
              "STEEL_KIND           0\n",
              "PT_THK               0\n",
              "PT_WDTH              0\n",
              "PT_LTH               0\n",
              "PT_WGT               0\n",
              "FUR_NO               0\n",
              "FUR_NO_ROW           0\n",
              "FUR_HZ_TEMP          0\n",
              "FUR_HZ_TIME          0\n",
              "FUR_SZ_TIME          0\n",
              "FUR_TIME             0\n",
              "FUR_EXTEMP           0\n",
              "ROLLING_TEMP_T5      0\n",
              "HSB                  0\n",
              "ROLLING_DESCALING    0\n",
              "WORK_GR              0\n",
              "dtype: int64"
            ]
          },
          "metadata": {
            "tags": []
          },
          "execution_count": 100
        }
      ]
    },
    {
      "cell_type": "markdown",
      "metadata": {
        "id": "lriauMIzqEns"
      },
      "source": [
        "### 데이터 전처리\n",
        "step3. 이상값 처리"
      ]
    },
    {
      "cell_type": "code",
      "metadata": {
        "colab": {
          "base_uri": "https://localhost:8080/",
          "height": 613
        },
        "id": "z3FOl5j3t2NM",
        "outputId": "71b395ec-ffe4-48b4-cc01-a644efd85179"
      },
      "source": [
        "df_raw.boxplot(figsize=(20,10))"
      ],
      "execution_count": 101,
      "outputs": [
        {
          "output_type": "execute_result",
          "data": {
            "text/plain": [
              "<matplotlib.axes._subplots.AxesSubplot at 0x7fcd3b2cf650>"
            ]
          },
          "metadata": {
            "tags": []
          },
          "execution_count": 101
        },
        {
          "output_type": "display_data",
          "data": {
            "image/png": "[encoded data removed]",
            "text/plain": [
              "<Figure size 1440x720 with 1 Axes>"
            ]
          },
          "metadata": {
            "tags": []
          }
        }
      ]
    },
    {
      "cell_type": "code",
      "metadata": {
        "colab": {
          "base_uri": "https://localhost:8080/",
          "height": 678
        },
        "id": "ClZQjhugt-af",
        "outputId": "16b08088-3325-4e01-bbf0-f6451fc22501"
      },
      "source": [
        "# ROLLING_TEMP_T5 에 대해 boxplot 그려봄 \n",
        "df_raw.boxplot(column = \"ROLLING_TEMP_T5\", by = \"SCALE\")\n",
        "\n",
        "# => 0 이 존재함 ;  ROLLING_TEMP_T5 은 압연온도이기에 0 이 존재할 수 없음 ; 완벽한 이상치임 => 제거 "
      ],
      "execution_count": 102,
      "outputs": [
        {
          "output_type": "stream",
          "text": [
            "/usr/local/lib/python3.7/dist-packages/numpy/core/_asarray.py:83: VisibleDeprecationWarning: Creating an ndarray from ragged nested sequences (which is a list-or-tuple of lists-or-tuples-or ndarrays with different lengths or shapes) is deprecated. If you meant to do this, you must specify 'dtype=object' when creating the ndarray\n",
            "  return array(a, dtype, copy=False, order=order)\n"
          ],
          "name": "stderr"
        },
        {
          "output_type": "execute_result",
          "data": {
            "text/plain": [
              "<matplotlib.axes._subplots.AxesSubplot at 0x7fcd3b0b6150>"
            ]
          },
          "metadata": {
            "tags": []
          },
          "execution_count": 102
        },
        {
          "output_type": "display_data",
          "data": {
            "image/png": "[encoded data removed]",
            "text/plain": [
              "<Figure size 1080x648 with 1 Axes>"
            ]
          },
          "metadata": {
            "tags": []
          }
        }
      ]
    },
    {
      "cell_type": "code",
      "metadata": {
        "id": "SP5UU88awS9r"
      },
      "source": [
        "# ROLLING_TEMP_T5 가 600 이상인 데이터만 남김 \n",
        " \n",
        "df_raw = df_raw[df_raw.ROLLING_TEMP_T5>600]"
      ],
      "execution_count": 143,
      "outputs": []
    },
    {
      "cell_type": "code",
      "metadata": {
        "colab": {
          "base_uri": "https://localhost:8080/",
          "height": 678
        },
        "id": "H6vMY4yT1fYU",
        "outputId": "8e5d01a8-776f-4be8-e50a-fd62dcb69456"
      },
      "source": [
        "# 다시 ROLLING_TEMP_T5 컬럼의 분포에 대해 boxplot 찍어봄 \n",
        "df_raw.boxplot(column = \"ROLLING_TEMP_T5\", by = \"SCALE\")"
      ],
      "execution_count": 144,
      "outputs": [
        {
          "output_type": "stream",
          "text": [
            "/usr/local/lib/python3.7/dist-packages/numpy/core/_asarray.py:83: VisibleDeprecationWarning: Creating an ndarray from ragged nested sequences (which is a list-or-tuple of lists-or-tuples-or ndarrays with different lengths or shapes) is deprecated. If you meant to do this, you must specify 'dtype=object' when creating the ndarray\n",
            "  return array(a, dtype, copy=False, order=order)\n"
          ],
          "name": "stderr"
        },
        {
          "output_type": "execute_result",
          "data": {
            "text/plain": [
              "<matplotlib.axes._subplots.AxesSubplot at 0x7fcd3ae9ea50>"
            ]
          },
          "metadata": {
            "tags": []
          },
          "execution_count": 144
        },
        {
          "output_type": "display_data",
          "data": {
            "image/png": "[encoded data removed]",
            "text/plain": [
              "<Figure size 1080x648 with 1 Axes>"
            ]
          },
          "metadata": {
            "tags": []
          }
        }
      ]
    },
    {
      "cell_type": "code",
      "metadata": {
        "id": "fn509ZDNp52g"
      },
      "source": [
        "# 위 데이터 셋 확인 시 시각화 했던 자료를 토대로 이상치를 찾아냄 \n",
        "\n",
        "# ROLLING_DATE : 작업시각 => 이상치 x \n",
        "\n",
        "# 범주형 변수  \n",
        "#PLATE_NO : Plate Number => 이상치 x    \n",
        "# *(목표변수)SCALE : Scale 불량여부 => 이상치 x \n",
        "# SPEC : 제품 규격 => 이상치 x  \n",
        "# STEEL_KIND : 강종  => 이상치 x \n",
        "# FUR_NO : 가열로 호기 => 이상치 x     \n",
        "# HSB : HBS 적용   => 이상치 x\n",
        "# WORK_GR : 작업조 => 이상치 x\n",
        "\n",
        "# 연속형 변수  \n",
        "#PT_THK : plate 두께  \n",
        "# PT_WDTH\t: plate 폭   \n",
        "# PT_LTH : plate 길이  \n",
        "# PT_WGT : plate 중량  \n",
        "# FUR_NO_ROW : 가열로 작업 순번   \n",
        "# FUR_HZ_TEMP\t: 가열로 가열대 온도    \n",
        "# FUR_HZ_TIME : 가열로 가열대 시간\n",
        "# FUR_SZ_TIME : 가열로 균열대 시간  \t\n",
        "# FUR_TIME : 가열로 시간\t  \n",
        "# FUR_EXTEMP : 추출 온도   \t\n",
        "# ROLLING_TEMP_T5 : 압연 온도  => 이상치 (0) 제거 \n",
        "# ROLLING_DESCALING : 압연 중 descaling 횟수  "
      ],
      "execution_count": null,
      "outputs": []
    },
    {
      "cell_type": "code",
      "metadata": {
        "colab": {
          "base_uri": "https://localhost:8080/",
          "height": 605
        },
        "id": "Mjv5G2YH2Wxl",
        "outputId": "b9217a1c-a687-4f36-f691-8d6d6175dfde"
      },
      "source": [
        "# 이상치 제거후 df_raw를 보니 행이 714개인데 인덱스는 719으로 끝나는 것을 볼 수 있다. \n",
        "df_raw\n",
        "\n",
        "#=> 인덱스 수정하기 "
      ],
      "execution_count": 145,
      "outputs": [
        {
          "output_type": "execute_result",
          "data": {
            "text/html": [
              "<div>\n",
              "<style scoped>\n",
              "    .dataframe tbody tr th:only-of-type {\n",
              "        vertical-align: middle;\n",
              "    }\n",
              "\n",
              "    .dataframe tbody tr th {\n",
              "        vertical-align: top;\n",
              "    }\n",
              "\n",
              "    .dataframe thead th {\n",
              "        text-align: right;\n",
              "    }\n",
              "</style>\n",
              "<table border=\"1\" class=\"dataframe\">\n",
              "  <thead>\n",
              "    <tr style=\"text-align: right;\">\n",
              "      <th></th>\n",
              "      <th>PLATE_NO</th>\n",
              "      <th>ROLLING_DATE</th>\n",
              "      <th>SCALE</th>\n",
              "      <th>SPEC</th>\n",
              "      <th>STEEL_KIND</th>\n",
              "      <th>PT_THK</th>\n",
              "      <th>PT_WDTH</th>\n",
              "      <th>PT_LTH</th>\n",
              "      <th>PT_WGT</th>\n",
              "      <th>FUR_NO</th>\n",
              "      <th>FUR_NO_ROW</th>\n",
              "      <th>FUR_HZ_TEMP</th>\n",
              "      <th>FUR_HZ_TIME</th>\n",
              "      <th>FUR_SZ_TIME</th>\n",
              "      <th>FUR_TIME</th>\n",
              "      <th>FUR_EXTEMP</th>\n",
              "      <th>ROLLING_TEMP_T5</th>\n",
              "      <th>HSB</th>\n",
              "      <th>ROLLING_DESCALING</th>\n",
              "      <th>WORK_GR</th>\n",
              "    </tr>\n",
              "  </thead>\n",
              "  <tbody>\n",
              "    <tr>\n",
              "      <th>0</th>\n",
              "      <td>PB562774</td>\n",
              "      <td>2008-08-01:00:00:15</td>\n",
              "      <td>0</td>\n",
              "      <td>AB/EH32-TM</td>\n",
              "      <td>T1</td>\n",
              "      <td>32.25</td>\n",
              "      <td>3707</td>\n",
              "      <td>15109</td>\n",
              "      <td>14180</td>\n",
              "      <td>1호기</td>\n",
              "      <td>1</td>\n",
              "      <td>1144</td>\n",
              "      <td>116</td>\n",
              "      <td>59</td>\n",
              "      <td>282</td>\n",
              "      <td>1133</td>\n",
              "      <td>934</td>\n",
              "      <td>1</td>\n",
              "      <td>8</td>\n",
              "      <td>2조</td>\n",
              "    </tr>\n",
              "    <tr>\n",
              "      <th>1</th>\n",
              "      <td>PB562775</td>\n",
              "      <td>2008-08-01:00:00:16</td>\n",
              "      <td>0</td>\n",
              "      <td>AB/EH32-TM</td>\n",
              "      <td>T1</td>\n",
              "      <td>32.25</td>\n",
              "      <td>3707</td>\n",
              "      <td>15109</td>\n",
              "      <td>14180</td>\n",
              "      <td>1호기</td>\n",
              "      <td>2</td>\n",
              "      <td>1144</td>\n",
              "      <td>122</td>\n",
              "      <td>53</td>\n",
              "      <td>283</td>\n",
              "      <td>1135</td>\n",
              "      <td>937</td>\n",
              "      <td>1</td>\n",
              "      <td>8</td>\n",
              "      <td>2조</td>\n",
              "    </tr>\n",
              "    <tr>\n",
              "      <th>2</th>\n",
              "      <td>PB562776</td>\n",
              "      <td>2008-08-01:00:00:59</td>\n",
              "      <td>0</td>\n",
              "      <td>NV-E36-TM</td>\n",
              "      <td>T8</td>\n",
              "      <td>33.27</td>\n",
              "      <td>3619</td>\n",
              "      <td>19181</td>\n",
              "      <td>18130</td>\n",
              "      <td>2호기</td>\n",
              "      <td>1</td>\n",
              "      <td>1129</td>\n",
              "      <td>116</td>\n",
              "      <td>55</td>\n",
              "      <td>282</td>\n",
              "      <td>1121</td>\n",
              "      <td>889</td>\n",
              "      <td>1</td>\n",
              "      <td>8</td>\n",
              "      <td>3조</td>\n",
              "    </tr>\n",
              "    <tr>\n",
              "      <th>3</th>\n",
              "      <td>PB562777</td>\n",
              "      <td>2008-08-01:00:01:24</td>\n",
              "      <td>0</td>\n",
              "      <td>NV-E36-TM</td>\n",
              "      <td>T8</td>\n",
              "      <td>33.27</td>\n",
              "      <td>3619</td>\n",
              "      <td>19181</td>\n",
              "      <td>18130</td>\n",
              "      <td>2호기</td>\n",
              "      <td>2</td>\n",
              "      <td>1152</td>\n",
              "      <td>125</td>\n",
              "      <td>68</td>\n",
              "      <td>316</td>\n",
              "      <td>1127</td>\n",
              "      <td>885</td>\n",
              "      <td>1</td>\n",
              "      <td>8</td>\n",
              "      <td>3조</td>\n",
              "    </tr>\n",
              "    <tr>\n",
              "      <th>4</th>\n",
              "      <td>PB562778</td>\n",
              "      <td>2008-08-01:00:01:44</td>\n",
              "      <td>0</td>\n",
              "      <td>BV-EH36-TM</td>\n",
              "      <td>T8</td>\n",
              "      <td>38.33</td>\n",
              "      <td>3098</td>\n",
              "      <td>13334</td>\n",
              "      <td>12430</td>\n",
              "      <td>3호기</td>\n",
              "      <td>1</td>\n",
              "      <td>1140</td>\n",
              "      <td>134</td>\n",
              "      <td>48</td>\n",
              "      <td>314</td>\n",
              "      <td>1128</td>\n",
              "      <td>873</td>\n",
              "      <td>1</td>\n",
              "      <td>8</td>\n",
              "      <td>1조</td>\n",
              "    </tr>\n",
              "    <tr>\n",
              "      <th>...</th>\n",
              "      <td>...</td>\n",
              "      <td>...</td>\n",
              "      <td>...</td>\n",
              "      <td>...</td>\n",
              "      <td>...</td>\n",
              "      <td>...</td>\n",
              "      <td>...</td>\n",
              "      <td>...</td>\n",
              "      <td>...</td>\n",
              "      <td>...</td>\n",
              "      <td>...</td>\n",
              "      <td>...</td>\n",
              "      <td>...</td>\n",
              "      <td>...</td>\n",
              "      <td>...</td>\n",
              "      <td>...</td>\n",
              "      <td>...</td>\n",
              "      <td>...</td>\n",
              "      <td>...</td>\n",
              "      <td>...</td>\n",
              "    </tr>\n",
              "    <tr>\n",
              "      <th>715</th>\n",
              "      <td>PB563502</td>\n",
              "      <td>2008-08-02:13:35:36</td>\n",
              "      <td>1</td>\n",
              "      <td>NK-KA</td>\n",
              "      <td>C0</td>\n",
              "      <td>20.14</td>\n",
              "      <td>3580</td>\n",
              "      <td>38639</td>\n",
              "      <td>21870</td>\n",
              "      <td>3호기</td>\n",
              "      <td>1</td>\n",
              "      <td>1172</td>\n",
              "      <td>72</td>\n",
              "      <td>62</td>\n",
              "      <td>245</td>\n",
              "      <td>1164</td>\n",
              "      <td>1005</td>\n",
              "      <td>1</td>\n",
              "      <td>8</td>\n",
              "      <td>2조</td>\n",
              "    </tr>\n",
              "    <tr>\n",
              "      <th>716</th>\n",
              "      <td>PB563503</td>\n",
              "      <td>2008-08-02:13:35:02</td>\n",
              "      <td>0</td>\n",
              "      <td>NV-A32</td>\n",
              "      <td>C0</td>\n",
              "      <td>15.08</td>\n",
              "      <td>3212</td>\n",
              "      <td>48233</td>\n",
              "      <td>18340</td>\n",
              "      <td>2호기</td>\n",
              "      <td>1</td>\n",
              "      <td>1150</td>\n",
              "      <td>61</td>\n",
              "      <td>61</td>\n",
              "      <td>238</td>\n",
              "      <td>1169</td>\n",
              "      <td>947</td>\n",
              "      <td>1</td>\n",
              "      <td>10</td>\n",
              "      <td>1조</td>\n",
              "    </tr>\n",
              "    <tr>\n",
              "      <th>717</th>\n",
              "      <td>PB563504</td>\n",
              "      <td>2008-08-02:14:40:00</td>\n",
              "      <td>0</td>\n",
              "      <td>NV-A32</td>\n",
              "      <td>C0</td>\n",
              "      <td>16.60</td>\n",
              "      <td>3441</td>\n",
              "      <td>43688</td>\n",
              "      <td>19590</td>\n",
              "      <td>2호기</td>\n",
              "      <td>2</td>\n",
              "      <td>1169</td>\n",
              "      <td>65</td>\n",
              "      <td>77</td>\n",
              "      <td>247</td>\n",
              "      <td>1163</td>\n",
              "      <td>948</td>\n",
              "      <td>1</td>\n",
              "      <td>10</td>\n",
              "      <td>4조</td>\n",
              "    </tr>\n",
              "    <tr>\n",
              "      <th>718</th>\n",
              "      <td>PB563505</td>\n",
              "      <td>2008-08-02:13:35:19</td>\n",
              "      <td>0</td>\n",
              "      <td>LR-A</td>\n",
              "      <td>C0</td>\n",
              "      <td>15.59</td>\n",
              "      <td>3363</td>\n",
              "      <td>48740</td>\n",
              "      <td>80240</td>\n",
              "      <td>3호기</td>\n",
              "      <td>2</td>\n",
              "      <td>1179</td>\n",
              "      <td>86</td>\n",
              "      <td>45</td>\n",
              "      <td>243</td>\n",
              "      <td>1163</td>\n",
              "      <td>940</td>\n",
              "      <td>1</td>\n",
              "      <td>10</td>\n",
              "      <td>2조</td>\n",
              "    </tr>\n",
              "    <tr>\n",
              "      <th>719</th>\n",
              "      <td>PB563506</td>\n",
              "      <td>2008-08-02:14:40:53</td>\n",
              "      <td>0</td>\n",
              "      <td>GL-A32</td>\n",
              "      <td>C0</td>\n",
              "      <td>16.09</td>\n",
              "      <td>3400</td>\n",
              "      <td>54209</td>\n",
              "      <td>69840</td>\n",
              "      <td>3호기</td>\n",
              "      <td>1</td>\n",
              "      <td>1186</td>\n",
              "      <td>82</td>\n",
              "      <td>45</td>\n",
              "      <td>239</td>\n",
              "      <td>1169</td>\n",
              "      <td>957</td>\n",
              "      <td>1</td>\n",
              "      <td>10</td>\n",
              "      <td>2조</td>\n",
              "    </tr>\n",
              "  </tbody>\n",
              "</table>\n",
              "<p>714 rows × 20 columns</p>\n",
              "</div>"
            ],
            "text/plain": [
              "     PLATE_NO         ROLLING_DATE  SCALE  ... HSB ROLLING_DESCALING  WORK_GR\n",
              "0    PB562774  2008-08-01:00:00:15      0  ...   1                 8       2조\n",
              "1    PB562775  2008-08-01:00:00:16      0  ...   1                 8       2조\n",
              "2    PB562776  2008-08-01:00:00:59      0  ...   1                 8       3조\n",
              "3    PB562777  2008-08-01:00:01:24      0  ...   1                 8       3조\n",
              "4    PB562778  2008-08-01:00:01:44      0  ...   1                 8       1조\n",
              "..        ...                  ...    ...  ...  ..               ...      ...\n",
              "715  PB563502  2008-08-02:13:35:36      1  ...   1                 8       2조\n",
              "716  PB563503  2008-08-02:13:35:02      0  ...   1                10       1조\n",
              "717  PB563504  2008-08-02:14:40:00      0  ...   1                10       4조\n",
              "718  PB563505  2008-08-02:13:35:19      0  ...   1                10       2조\n",
              "719  PB563506  2008-08-02:14:40:53      0  ...   1                10       2조\n",
              "\n",
              "[714 rows x 20 columns]"
            ]
          },
          "metadata": {
            "tags": []
          },
          "execution_count": 145
        }
      ]
    },
    {
      "cell_type": "code",
      "metadata": {
        "colab": {
          "base_uri": "https://localhost:8080/",
          "height": 605
        },
        "id": "ep8j8jlz2YOq",
        "outputId": "43ee3533-9ac3-42ce-b137-dfe42dc6d32e"
      },
      "source": [
        "# df_raw 의 인덱스 리셋\n",
        "\n",
        "df_raw.reset_index(drop=True, inplace =True)\n",
        "df_raw"
      ],
      "execution_count": 146,
      "outputs": [
        {
          "output_type": "execute_result",
          "data": {
            "text/html": [
              "<div>\n",
              "<style scoped>\n",
              "    .dataframe tbody tr th:only-of-type {\n",
              "        vertical-align: middle;\n",
              "    }\n",
              "\n",
              "    .dataframe tbody tr th {\n",
              "        vertical-align: top;\n",
              "    }\n",
              "\n",
              "    .dataframe thead th {\n",
              "        text-align: right;\n",
              "    }\n",
              "</style>\n",
              "<table border=\"1\" class=\"dataframe\">\n",
              "  <thead>\n",
              "    <tr style=\"text-align: right;\">\n",
              "      <th></th>\n",
              "      <th>PLATE_NO</th>\n",
              "      <th>ROLLING_DATE</th>\n",
              "      <th>SCALE</th>\n",
              "      <th>SPEC</th>\n",
              "      <th>STEEL_KIND</th>\n",
              "      <th>PT_THK</th>\n",
              "      <th>PT_WDTH</th>\n",
              "      <th>PT_LTH</th>\n",
              "      <th>PT_WGT</th>\n",
              "      <th>FUR_NO</th>\n",
              "      <th>FUR_NO_ROW</th>\n",
              "      <th>FUR_HZ_TEMP</th>\n",
              "      <th>FUR_HZ_TIME</th>\n",
              "      <th>FUR_SZ_TIME</th>\n",
              "      <th>FUR_TIME</th>\n",
              "      <th>FUR_EXTEMP</th>\n",
              "      <th>ROLLING_TEMP_T5</th>\n",
              "      <th>HSB</th>\n",
              "      <th>ROLLING_DESCALING</th>\n",
              "      <th>WORK_GR</th>\n",
              "    </tr>\n",
              "  </thead>\n",
              "  <tbody>\n",
              "    <tr>\n",
              "      <th>0</th>\n",
              "      <td>PB562774</td>\n",
              "      <td>2008-08-01:00:00:15</td>\n",
              "      <td>0</td>\n",
              "      <td>AB/EH32-TM</td>\n",
              "      <td>T1</td>\n",
              "      <td>32.25</td>\n",
              "      <td>3707</td>\n",
              "      <td>15109</td>\n",
              "      <td>14180</td>\n",
              "      <td>1호기</td>\n",
              "      <td>1</td>\n",
              "      <td>1144</td>\n",
              "      <td>116</td>\n",
              "      <td>59</td>\n",
              "      <td>282</td>\n",
              "      <td>1133</td>\n",
              "      <td>934</td>\n",
              "      <td>1</td>\n",
              "      <td>8</td>\n",
              "      <td>2조</td>\n",
              "    </tr>\n",
              "    <tr>\n",
              "      <th>1</th>\n",
              "      <td>PB562775</td>\n",
              "      <td>2008-08-01:00:00:16</td>\n",
              "      <td>0</td>\n",
              "      <td>AB/EH32-TM</td>\n",
              "      <td>T1</td>\n",
              "      <td>32.25</td>\n",
              "      <td>3707</td>\n",
              "      <td>15109</td>\n",
              "      <td>14180</td>\n",
              "      <td>1호기</td>\n",
              "      <td>2</td>\n",
              "      <td>1144</td>\n",
              "      <td>122</td>\n",
              "      <td>53</td>\n",
              "      <td>283</td>\n",
              "      <td>1135</td>\n",
              "      <td>937</td>\n",
              "      <td>1</td>\n",
              "      <td>8</td>\n",
              "      <td>2조</td>\n",
              "    </tr>\n",
              "    <tr>\n",
              "      <th>2</th>\n",
              "      <td>PB562776</td>\n",
              "      <td>2008-08-01:00:00:59</td>\n",
              "      <td>0</td>\n",
              "      <td>NV-E36-TM</td>\n",
              "      <td>T8</td>\n",
              "      <td>33.27</td>\n",
              "      <td>3619</td>\n",
              "      <td>19181</td>\n",
              "      <td>18130</td>\n",
              "      <td>2호기</td>\n",
              "      <td>1</td>\n",
              "      <td>1129</td>\n",
              "      <td>116</td>\n",
              "      <td>55</td>\n",
              "      <td>282</td>\n",
              "      <td>1121</td>\n",
              "      <td>889</td>\n",
              "      <td>1</td>\n",
              "      <td>8</td>\n",
              "      <td>3조</td>\n",
              "    </tr>\n",
              "    <tr>\n",
              "      <th>3</th>\n",
              "      <td>PB562777</td>\n",
              "      <td>2008-08-01:00:01:24</td>\n",
              "      <td>0</td>\n",
              "      <td>NV-E36-TM</td>\n",
              "      <td>T8</td>\n",
              "      <td>33.27</td>\n",
              "      <td>3619</td>\n",
              "      <td>19181</td>\n",
              "      <td>18130</td>\n",
              "      <td>2호기</td>\n",
              "      <td>2</td>\n",
              "      <td>1152</td>\n",
              "      <td>125</td>\n",
              "      <td>68</td>\n",
              "      <td>316</td>\n",
              "      <td>1127</td>\n",
              "      <td>885</td>\n",
              "      <td>1</td>\n",
              "      <td>8</td>\n",
              "      <td>3조</td>\n",
              "    </tr>\n",
              "    <tr>\n",
              "      <th>4</th>\n",
              "      <td>PB562778</td>\n",
              "      <td>2008-08-01:00:01:44</td>\n",
              "      <td>0</td>\n",
              "      <td>BV-EH36-TM</td>\n",
              "      <td>T8</td>\n",
              "      <td>38.33</td>\n",
              "      <td>3098</td>\n",
              "      <td>13334</td>\n",
              "      <td>12430</td>\n",
              "      <td>3호기</td>\n",
              "      <td>1</td>\n",
              "      <td>1140</td>\n",
              "      <td>134</td>\n",
              "      <td>48</td>\n",
              "      <td>314</td>\n",
              "      <td>1128</td>\n",
              "      <td>873</td>\n",
              "      <td>1</td>\n",
              "      <td>8</td>\n",
              "      <td>1조</td>\n",
              "    </tr>\n",
              "    <tr>\n",
              "      <th>...</th>\n",
              "      <td>...</td>\n",
              "      <td>...</td>\n",
              "      <td>...</td>\n",
              "      <td>...</td>\n",
              "      <td>...</td>\n",
              "      <td>...</td>\n",
              "      <td>...</td>\n",
              "      <td>...</td>\n",
              "      <td>...</td>\n",
              "      <td>...</td>\n",
              "      <td>...</td>\n",
              "      <td>...</td>\n",
              "      <td>...</td>\n",
              "      <td>...</td>\n",
              "      <td>...</td>\n",
              "      <td>...</td>\n",
              "      <td>...</td>\n",
              "      <td>...</td>\n",
              "      <td>...</td>\n",
              "      <td>...</td>\n",
              "    </tr>\n",
              "    <tr>\n",
              "      <th>709</th>\n",
              "      <td>PB563502</td>\n",
              "      <td>2008-08-02:13:35:36</td>\n",
              "      <td>1</td>\n",
              "      <td>NK-KA</td>\n",
              "      <td>C0</td>\n",
              "      <td>20.14</td>\n",
              "      <td>3580</td>\n",
              "      <td>38639</td>\n",
              "      <td>21870</td>\n",
              "      <td>3호기</td>\n",
              "      <td>1</td>\n",
              "      <td>1172</td>\n",
              "      <td>72</td>\n",
              "      <td>62</td>\n",
              "      <td>245</td>\n",
              "      <td>1164</td>\n",
              "      <td>1005</td>\n",
              "      <td>1</td>\n",
              "      <td>8</td>\n",
              "      <td>2조</td>\n",
              "    </tr>\n",
              "    <tr>\n",
              "      <th>710</th>\n",
              "      <td>PB563503</td>\n",
              "      <td>2008-08-02:13:35:02</td>\n",
              "      <td>0</td>\n",
              "      <td>NV-A32</td>\n",
              "      <td>C0</td>\n",
              "      <td>15.08</td>\n",
              "      <td>3212</td>\n",
              "      <td>48233</td>\n",
              "      <td>18340</td>\n",
              "      <td>2호기</td>\n",
              "      <td>1</td>\n",
              "      <td>1150</td>\n",
              "      <td>61</td>\n",
              "      <td>61</td>\n",
              "      <td>238</td>\n",
              "      <td>1169</td>\n",
              "      <td>947</td>\n",
              "      <td>1</td>\n",
              "      <td>10</td>\n",
              "      <td>1조</td>\n",
              "    </tr>\n",
              "    <tr>\n",
              "      <th>711</th>\n",
              "      <td>PB563504</td>\n",
              "      <td>2008-08-02:14:40:00</td>\n",
              "      <td>0</td>\n",
              "      <td>NV-A32</td>\n",
              "      <td>C0</td>\n",
              "      <td>16.60</td>\n",
              "      <td>3441</td>\n",
              "      <td>43688</td>\n",
              "      <td>19590</td>\n",
              "      <td>2호기</td>\n",
              "      <td>2</td>\n",
              "      <td>1169</td>\n",
              "      <td>65</td>\n",
              "      <td>77</td>\n",
              "      <td>247</td>\n",
              "      <td>1163</td>\n",
              "      <td>948</td>\n",
              "      <td>1</td>\n",
              "      <td>10</td>\n",
              "      <td>4조</td>\n",
              "    </tr>\n",
              "    <tr>\n",
              "      <th>712</th>\n",
              "      <td>PB563505</td>\n",
              "      <td>2008-08-02:13:35:19</td>\n",
              "      <td>0</td>\n",
              "      <td>LR-A</td>\n",
              "      <td>C0</td>\n",
              "      <td>15.59</td>\n",
              "      <td>3363</td>\n",
              "      <td>48740</td>\n",
              "      <td>80240</td>\n",
              "      <td>3호기</td>\n",
              "      <td>2</td>\n",
              "      <td>1179</td>\n",
              "      <td>86</td>\n",
              "      <td>45</td>\n",
              "      <td>243</td>\n",
              "      <td>1163</td>\n",
              "      <td>940</td>\n",
              "      <td>1</td>\n",
              "      <td>10</td>\n",
              "      <td>2조</td>\n",
              "    </tr>\n",
              "    <tr>\n",
              "      <th>713</th>\n",
              "      <td>PB563506</td>\n",
              "      <td>2008-08-02:14:40:53</td>\n",
              "      <td>0</td>\n",
              "      <td>GL-A32</td>\n",
              "      <td>C0</td>\n",
              "      <td>16.09</td>\n",
              "      <td>3400</td>\n",
              "      <td>54209</td>\n",
              "      <td>69840</td>\n",
              "      <td>3호기</td>\n",
              "      <td>1</td>\n",
              "      <td>1186</td>\n",
              "      <td>82</td>\n",
              "      <td>45</td>\n",
              "      <td>239</td>\n",
              "      <td>1169</td>\n",
              "      <td>957</td>\n",
              "      <td>1</td>\n",
              "      <td>10</td>\n",
              "      <td>2조</td>\n",
              "    </tr>\n",
              "  </tbody>\n",
              "</table>\n",
              "<p>714 rows × 20 columns</p>\n",
              "</div>"
            ],
            "text/plain": [
              "     PLATE_NO         ROLLING_DATE  SCALE  ... HSB ROLLING_DESCALING  WORK_GR\n",
              "0    PB562774  2008-08-01:00:00:15      0  ...   1                 8       2조\n",
              "1    PB562775  2008-08-01:00:00:16      0  ...   1                 8       2조\n",
              "2    PB562776  2008-08-01:00:00:59      0  ...   1                 8       3조\n",
              "3    PB562777  2008-08-01:00:01:24      0  ...   1                 8       3조\n",
              "4    PB562778  2008-08-01:00:01:44      0  ...   1                 8       1조\n",
              "..        ...                  ...    ...  ...  ..               ...      ...\n",
              "709  PB563502  2008-08-02:13:35:36      1  ...   1                 8       2조\n",
              "710  PB563503  2008-08-02:13:35:02      0  ...   1                10       1조\n",
              "711  PB563504  2008-08-02:14:40:00      0  ...   1                10       4조\n",
              "712  PB563505  2008-08-02:13:35:19      0  ...   1                10       2조\n",
              "713  PB563506  2008-08-02:14:40:53      0  ...   1                10       2조\n",
              "\n",
              "[714 rows x 20 columns]"
            ]
          },
          "metadata": {
            "tags": []
          },
          "execution_count": 146
        }
      ]
    },
    {
      "cell_type": "markdown",
      "metadata": {
        "id": "ojc_DKLj3KRU"
      },
      "source": [
        "### 데이터 전처리\n",
        "step4. Feature Engineering"
      ]
    },
    {
      "cell_type": "code",
      "metadata": {
        "id": "Xq2ffY163P0Q"
      },
      "source": [
        "# 변수 제거 유무 판단 \n",
        "\n",
        "# ROLLING_DATE : 작업시각 => 시작시각은 큰 의미 없음 => 제거 \n",
        "\n",
        "# 범주형 변수  \n",
        "#PLATE_NO : Plate Number => 고유 번호 이므로 큰 의미 없음 => 제거 \n",
        "# *(목표변수)SCALE : Scale 불량여부 \n",
        "# SPEC : 제품 규격  => 제품 규격 큰 의미 없음 => 제거 \n",
        "# STEEL_KIND : 강종  => 아까 C0 강종에서 불량률이 높았음 => 중요함  \n",
        "# FUR_NO : 가열로 호기    \n",
        "# HSB : HBS 적용   \n",
        "# WORK_GR : 작업조 \n",
        "\n",
        "# 연속형 변수  \n",
        "#PT_THK : plate 두께  \n",
        "# PT_WDTH\t: plate 폭   \n",
        "# PT_LTH : plate 길이  \n",
        "# PT_WGT : plate 중량  \n",
        "# FUR_NO_ROW : 가열로 작업 순번   \n",
        "# FUR_HZ_TEMP\t: 가열로 가열대 온도    \n",
        "# FUR_HZ_TIME : 가열로 가열대 시간\n",
        "# FUR_SZ_TIME : 가열로 균열대 시간  \t\n",
        "# FUR_TIME : 가열로 시간\t  \n",
        "# FUR_EXTEMP : 추출 온도   \t\n",
        "# ROLLING_TEMP_T5 : 압연 온도  => 이상치 (0) 제거 \n",
        "# ROLLING_DESCALING : 압연 중 descaling 횟수  "
      ],
      "execution_count": null,
      "outputs": []
    },
    {
      "cell_type": "code",
      "metadata": {
        "id": "RRaazZp25NuE"
      },
      "source": [
        "# 일단 불필요한 변수 ROLLING_DATE, PLATE_NO, SPEC 삭제 \n",
        "df_raw.drop(['ROLLING_DATE'], axis=1, inplace=True)\n",
        "df_raw.drop(['PLATE_NO'], axis=1, inplace=True)\n",
        "df_raw.drop(['SPEC'], axis=1, inplace=True)"
      ],
      "execution_count": 147,
      "outputs": []
    },
    {
      "cell_type": "code",
      "metadata": {
        "colab": {
          "base_uri": "https://localhost:8080/"
        },
        "id": "Lw962lSb5mwk",
        "outputId": "81212a4d-5add-4c93-816d-999b43181f35"
      },
      "source": [
        "df_raw.shape\n",
        "\n",
        "#=> 20-> 17 column 세개 제거 "
      ],
      "execution_count": 148,
      "outputs": [
        {
          "output_type": "execute_result",
          "data": {
            "text/plain": [
              "(714, 17)"
            ]
          },
          "metadata": {
            "tags": []
          },
          "execution_count": 148
        }
      ]
    },
    {
      "cell_type": "code",
      "metadata": {
        "colab": {
          "base_uri": "https://localhost:8080/",
          "height": 162
        },
        "id": "zHXOtaJm5pCg",
        "outputId": "9b79281d-4407-4286-fdb5-5e18e07e9b77"
      },
      "source": [
        "df_raw.head(3)"
      ],
      "execution_count": 149,
      "outputs": [
        {
          "output_type": "execute_result",
          "data": {
            "text/html": [
              "<div>\n",
              "<style scoped>\n",
              "    .dataframe tbody tr th:only-of-type {\n",
              "        vertical-align: middle;\n",
              "    }\n",
              "\n",
              "    .dataframe tbody tr th {\n",
              "        vertical-align: top;\n",
              "    }\n",
              "\n",
              "    .dataframe thead th {\n",
              "        text-align: right;\n",
              "    }\n",
              "</style>\n",
              "<table border=\"1\" class=\"dataframe\">\n",
              "  <thead>\n",
              "    <tr style=\"text-align: right;\">\n",
              "      <th></th>\n",
              "      <th>SCALE</th>\n",
              "      <th>STEEL_KIND</th>\n",
              "      <th>PT_THK</th>\n",
              "      <th>PT_WDTH</th>\n",
              "      <th>PT_LTH</th>\n",
              "      <th>PT_WGT</th>\n",
              "      <th>FUR_NO</th>\n",
              "      <th>FUR_NO_ROW</th>\n",
              "      <th>FUR_HZ_TEMP</th>\n",
              "      <th>FUR_HZ_TIME</th>\n",
              "      <th>FUR_SZ_TIME</th>\n",
              "      <th>FUR_TIME</th>\n",
              "      <th>FUR_EXTEMP</th>\n",
              "      <th>ROLLING_TEMP_T5</th>\n",
              "      <th>HSB</th>\n",
              "      <th>ROLLING_DESCALING</th>\n",
              "      <th>WORK_GR</th>\n",
              "    </tr>\n",
              "  </thead>\n",
              "  <tbody>\n",
              "    <tr>\n",
              "      <th>0</th>\n",
              "      <td>0</td>\n",
              "      <td>T1</td>\n",
              "      <td>32.25</td>\n",
              "      <td>3707</td>\n",
              "      <td>15109</td>\n",
              "      <td>14180</td>\n",
              "      <td>1호기</td>\n",
              "      <td>1</td>\n",
              "      <td>1144</td>\n",
              "      <td>116</td>\n",
              "      <td>59</td>\n",
              "      <td>282</td>\n",
              "      <td>1133</td>\n",
              "      <td>934</td>\n",
              "      <td>1</td>\n",
              "      <td>8</td>\n",
              "      <td>2조</td>\n",
              "    </tr>\n",
              "    <tr>\n",
              "      <th>1</th>\n",
              "      <td>0</td>\n",
              "      <td>T1</td>\n",
              "      <td>32.25</td>\n",
              "      <td>3707</td>\n",
              "      <td>15109</td>\n",
              "      <td>14180</td>\n",
              "      <td>1호기</td>\n",
              "      <td>2</td>\n",
              "      <td>1144</td>\n",
              "      <td>122</td>\n",
              "      <td>53</td>\n",
              "      <td>283</td>\n",
              "      <td>1135</td>\n",
              "      <td>937</td>\n",
              "      <td>1</td>\n",
              "      <td>8</td>\n",
              "      <td>2조</td>\n",
              "    </tr>\n",
              "    <tr>\n",
              "      <th>2</th>\n",
              "      <td>0</td>\n",
              "      <td>T8</td>\n",
              "      <td>33.27</td>\n",
              "      <td>3619</td>\n",
              "      <td>19181</td>\n",
              "      <td>18130</td>\n",
              "      <td>2호기</td>\n",
              "      <td>1</td>\n",
              "      <td>1129</td>\n",
              "      <td>116</td>\n",
              "      <td>55</td>\n",
              "      <td>282</td>\n",
              "      <td>1121</td>\n",
              "      <td>889</td>\n",
              "      <td>1</td>\n",
              "      <td>8</td>\n",
              "      <td>3조</td>\n",
              "    </tr>\n",
              "  </tbody>\n",
              "</table>\n",
              "</div>"
            ],
            "text/plain": [
              "   SCALE STEEL_KIND  PT_THK  ...  HSB  ROLLING_DESCALING  WORK_GR\n",
              "0      0         T1   32.25  ...    1                  8       2조\n",
              "1      0         T1   32.25  ...    1                  8       2조\n",
              "2      0         T8   33.27  ...    1                  8       3조\n",
              "\n",
              "[3 rows x 17 columns]"
            ]
          },
          "metadata": {
            "tags": []
          },
          "execution_count": 149
        }
      ]
    },
    {
      "cell_type": "code",
      "metadata": {
        "colab": {
          "base_uri": "https://localhost:8080/",
          "height": 613
        },
        "id": "EZCnHvbK52S9",
        "outputId": "7189fc16-1ca5-4475-be39-02279431047b"
      },
      "source": [
        "# FUR_NO와 WORK_GR 컬럼 '호기', '조' 떼고 저장 \n",
        "for i in range(714) :\n",
        "  df_raw['FUR_NO'][i] = df_raw['FUR_NO'][i][0]\n",
        "  df_raw['WORK_GR'][i] = df_raw['WORK_GR'][i][0]"
      ],
      "execution_count": 159,
      "outputs": [
        {
          "output_type": "stream",
          "text": [
            "/usr/local/lib/python3.7/dist-packages/ipykernel_launcher.py:3: SettingWithCopyWarning: \n",
            "A value is trying to be set on a copy of a slice from a DataFrame\n",
            "\n",
            "See the caveats in the documentation: https://pandas.pydata.org/pandas-docs/stable/user_guide/indexing.html#returning-a-view-versus-a-copy\n",
            "  This is separate from the ipykernel package so we can avoid doing imports until\n",
            "/usr/local/lib/python3.7/dist-packages/ipykernel_launcher.py:4: SettingWithCopyWarning: \n",
            "A value is trying to be set on a copy of a slice from a DataFrame\n",
            "\n",
            "See the caveats in the documentation: https://pandas.pydata.org/pandas-docs/stable/user_guide/indexing.html#returning-a-view-versus-a-copy\n",
            "  after removing the cwd from sys.path.\n"
          ],
          "name": "stderr"
        },
        {
          "output_type": "execute_result",
          "data": {
            "text/html": [
              "<div>\n",
              "<style scoped>\n",
              "    .dataframe tbody tr th:only-of-type {\n",
              "        vertical-align: middle;\n",
              "    }\n",
              "\n",
              "    .dataframe tbody tr th {\n",
              "        vertical-align: top;\n",
              "    }\n",
              "\n",
              "    .dataframe thead th {\n",
              "        text-align: right;\n",
              "    }\n",
              "</style>\n",
              "<table border=\"1\" class=\"dataframe\">\n",
              "  <thead>\n",
              "    <tr style=\"text-align: right;\">\n",
              "      <th></th>\n",
              "      <th>SCALE</th>\n",
              "      <th>STEEL_KIND</th>\n",
              "      <th>PT_THK</th>\n",
              "      <th>PT_WDTH</th>\n",
              "      <th>PT_LTH</th>\n",
              "      <th>PT_WGT</th>\n",
              "      <th>FUR_NO</th>\n",
              "      <th>FUR_NO_ROW</th>\n",
              "      <th>FUR_HZ_TEMP</th>\n",
              "      <th>FUR_HZ_TIME</th>\n",
              "      <th>FUR_SZ_TIME</th>\n",
              "      <th>FUR_TIME</th>\n",
              "      <th>FUR_EXTEMP</th>\n",
              "      <th>ROLLING_TEMP_T5</th>\n",
              "      <th>HSB</th>\n",
              "      <th>ROLLING_DESCALING</th>\n",
              "      <th>WORK_GR</th>\n",
              "    </tr>\n",
              "  </thead>\n",
              "  <tbody>\n",
              "    <tr>\n",
              "      <th>0</th>\n",
              "      <td>0</td>\n",
              "      <td>T1</td>\n",
              "      <td>32.25</td>\n",
              "      <td>3707</td>\n",
              "      <td>15109</td>\n",
              "      <td>14180</td>\n",
              "      <td>1</td>\n",
              "      <td>1</td>\n",
              "      <td>1144</td>\n",
              "      <td>116</td>\n",
              "      <td>59</td>\n",
              "      <td>282</td>\n",
              "      <td>1133</td>\n",
              "      <td>934</td>\n",
              "      <td>1</td>\n",
              "      <td>8</td>\n",
              "      <td>2</td>\n",
              "    </tr>\n",
              "    <tr>\n",
              "      <th>1</th>\n",
              "      <td>0</td>\n",
              "      <td>T1</td>\n",
              "      <td>32.25</td>\n",
              "      <td>3707</td>\n",
              "      <td>15109</td>\n",
              "      <td>14180</td>\n",
              "      <td>1</td>\n",
              "      <td>2</td>\n",
              "      <td>1144</td>\n",
              "      <td>122</td>\n",
              "      <td>53</td>\n",
              "      <td>283</td>\n",
              "      <td>1135</td>\n",
              "      <td>937</td>\n",
              "      <td>1</td>\n",
              "      <td>8</td>\n",
              "      <td>2</td>\n",
              "    </tr>\n",
              "    <tr>\n",
              "      <th>2</th>\n",
              "      <td>0</td>\n",
              "      <td>T8</td>\n",
              "      <td>33.27</td>\n",
              "      <td>3619</td>\n",
              "      <td>19181</td>\n",
              "      <td>18130</td>\n",
              "      <td>2</td>\n",
              "      <td>1</td>\n",
              "      <td>1129</td>\n",
              "      <td>116</td>\n",
              "      <td>55</td>\n",
              "      <td>282</td>\n",
              "      <td>1121</td>\n",
              "      <td>889</td>\n",
              "      <td>1</td>\n",
              "      <td>8</td>\n",
              "      <td>3</td>\n",
              "    </tr>\n",
              "    <tr>\n",
              "      <th>3</th>\n",
              "      <td>0</td>\n",
              "      <td>T8</td>\n",
              "      <td>33.27</td>\n",
              "      <td>3619</td>\n",
              "      <td>19181</td>\n",
              "      <td>18130</td>\n",
              "      <td>2</td>\n",
              "      <td>2</td>\n",
              "      <td>1152</td>\n",
              "      <td>125</td>\n",
              "      <td>68</td>\n",
              "      <td>316</td>\n",
              "      <td>1127</td>\n",
              "      <td>885</td>\n",
              "      <td>1</td>\n",
              "      <td>8</td>\n",
              "      <td>3</td>\n",
              "    </tr>\n",
              "    <tr>\n",
              "      <th>4</th>\n",
              "      <td>0</td>\n",
              "      <td>T8</td>\n",
              "      <td>38.33</td>\n",
              "      <td>3098</td>\n",
              "      <td>13334</td>\n",
              "      <td>12430</td>\n",
              "      <td>3</td>\n",
              "      <td>1</td>\n",
              "      <td>1140</td>\n",
              "      <td>134</td>\n",
              "      <td>48</td>\n",
              "      <td>314</td>\n",
              "      <td>1128</td>\n",
              "      <td>873</td>\n",
              "      <td>1</td>\n",
              "      <td>8</td>\n",
              "      <td>1</td>\n",
              "    </tr>\n",
              "    <tr>\n",
              "      <th>...</th>\n",
              "      <td>...</td>\n",
              "      <td>...</td>\n",
              "      <td>...</td>\n",
              "      <td>...</td>\n",
              "      <td>...</td>\n",
              "      <td>...</td>\n",
              "      <td>...</td>\n",
              "      <td>...</td>\n",
              "      <td>...</td>\n",
              "      <td>...</td>\n",
              "      <td>...</td>\n",
              "      <td>...</td>\n",
              "      <td>...</td>\n",
              "      <td>...</td>\n",
              "      <td>...</td>\n",
              "      <td>...</td>\n",
              "      <td>...</td>\n",
              "    </tr>\n",
              "    <tr>\n",
              "      <th>709</th>\n",
              "      <td>1</td>\n",
              "      <td>C0</td>\n",
              "      <td>20.14</td>\n",
              "      <td>3580</td>\n",
              "      <td>38639</td>\n",
              "      <td>21870</td>\n",
              "      <td>3</td>\n",
              "      <td>1</td>\n",
              "      <td>1172</td>\n",
              "      <td>72</td>\n",
              "      <td>62</td>\n",
              "      <td>245</td>\n",
              "      <td>1164</td>\n",
              "      <td>1005</td>\n",
              "      <td>1</td>\n",
              "      <td>8</td>\n",
              "      <td>2</td>\n",
              "    </tr>\n",
              "    <tr>\n",
              "      <th>710</th>\n",
              "      <td>0</td>\n",
              "      <td>C0</td>\n",
              "      <td>15.08</td>\n",
              "      <td>3212</td>\n",
              "      <td>48233</td>\n",
              "      <td>18340</td>\n",
              "      <td>2</td>\n",
              "      <td>1</td>\n",
              "      <td>1150</td>\n",
              "      <td>61</td>\n",
              "      <td>61</td>\n",
              "      <td>238</td>\n",
              "      <td>1169</td>\n",
              "      <td>947</td>\n",
              "      <td>1</td>\n",
              "      <td>10</td>\n",
              "      <td>1</td>\n",
              "    </tr>\n",
              "    <tr>\n",
              "      <th>711</th>\n",
              "      <td>0</td>\n",
              "      <td>C0</td>\n",
              "      <td>16.60</td>\n",
              "      <td>3441</td>\n",
              "      <td>43688</td>\n",
              "      <td>19590</td>\n",
              "      <td>2</td>\n",
              "      <td>2</td>\n",
              "      <td>1169</td>\n",
              "      <td>65</td>\n",
              "      <td>77</td>\n",
              "      <td>247</td>\n",
              "      <td>1163</td>\n",
              "      <td>948</td>\n",
              "      <td>1</td>\n",
              "      <td>10</td>\n",
              "      <td>4</td>\n",
              "    </tr>\n",
              "    <tr>\n",
              "      <th>712</th>\n",
              "      <td>0</td>\n",
              "      <td>C0</td>\n",
              "      <td>15.59</td>\n",
              "      <td>3363</td>\n",
              "      <td>48740</td>\n",
              "      <td>80240</td>\n",
              "      <td>3</td>\n",
              "      <td>2</td>\n",
              "      <td>1179</td>\n",
              "      <td>86</td>\n",
              "      <td>45</td>\n",
              "      <td>243</td>\n",
              "      <td>1163</td>\n",
              "      <td>940</td>\n",
              "      <td>1</td>\n",
              "      <td>10</td>\n",
              "      <td>2</td>\n",
              "    </tr>\n",
              "    <tr>\n",
              "      <th>713</th>\n",
              "      <td>0</td>\n",
              "      <td>C0</td>\n",
              "      <td>16.09</td>\n",
              "      <td>3400</td>\n",
              "      <td>54209</td>\n",
              "      <td>69840</td>\n",
              "      <td>3</td>\n",
              "      <td>1</td>\n",
              "      <td>1186</td>\n",
              "      <td>82</td>\n",
              "      <td>45</td>\n",
              "      <td>239</td>\n",
              "      <td>1169</td>\n",
              "      <td>957</td>\n",
              "      <td>1</td>\n",
              "      <td>10</td>\n",
              "      <td>2</td>\n",
              "    </tr>\n",
              "  </tbody>\n",
              "</table>\n",
              "<p>714 rows × 17 columns</p>\n",
              "</div>"
            ],
            "text/plain": [
              "     SCALE STEEL_KIND  PT_THK  ...  HSB  ROLLING_DESCALING  WORK_GR\n",
              "0        0         T1   32.25  ...    1                  8        2\n",
              "1        0         T1   32.25  ...    1                  8        2\n",
              "2        0         T8   33.27  ...    1                  8        3\n",
              "3        0         T8   33.27  ...    1                  8        3\n",
              "4        0         T8   38.33  ...    1                  8        1\n",
              "..     ...        ...     ...  ...  ...                ...      ...\n",
              "709      1         C0   20.14  ...    1                  8        2\n",
              "710      0         C0   15.08  ...    1                 10        1\n",
              "711      0         C0   16.60  ...    1                 10        4\n",
              "712      0         C0   15.59  ...    1                 10        2\n",
              "713      0         C0   16.09  ...    1                 10        2\n",
              "\n",
              "[714 rows x 17 columns]"
            ]
          },
          "metadata": {
            "tags": []
          },
          "execution_count": 159
        }
      ]
    },
    {
      "cell_type": "code",
      "metadata": {
        "colab": {
          "base_uri": "https://localhost:8080/"
        },
        "id": "Y6mEB6p6CKqc",
        "outputId": "72b8381b-819b-4a84-a728-a548a2c383c8"
      },
      "source": [
        "df_raw.info()"
      ],
      "execution_count": 163,
      "outputs": [
        {
          "output_type": "stream",
          "text": [
            "<class 'pandas.core.frame.DataFrame'>\n",
            "RangeIndex: 714 entries, 0 to 713\n",
            "Data columns (total 17 columns):\n",
            " #   Column             Non-Null Count  Dtype  \n",
            "---  ------             --------------  -----  \n",
            " 0   SCALE              714 non-null    int64  \n",
            " 1   STEEL_KIND         714 non-null    object \n",
            " 2   PT_THK             714 non-null    float64\n",
            " 3   PT_WDTH            714 non-null    int64  \n",
            " 4   PT_LTH             714 non-null    int64  \n",
            " 5   PT_WGT             714 non-null    int64  \n",
            " 6   FUR_NO             714 non-null    object \n",
            " 7   FUR_NO_ROW         714 non-null    int64  \n",
            " 8   FUR_HZ_TEMP        714 non-null    int64  \n",
            " 9   FUR_HZ_TIME        714 non-null    int64  \n",
            " 10  FUR_SZ_TIME        714 non-null    int64  \n",
            " 11  FUR_TIME           714 non-null    int64  \n",
            " 12  FUR_EXTEMP         714 non-null    int64  \n",
            " 13  ROLLING_TEMP_T5    714 non-null    int64  \n",
            " 14  HSB                714 non-null    int64  \n",
            " 15  ROLLING_DESCALING  714 non-null    int64  \n",
            " 16  WORK_GR            714 non-null    object \n",
            "dtypes: float64(1), int64(13), object(3)\n",
            "memory usage: 95.0+ KB\n"
          ],
          "name": "stdout"
        }
      ]
    },
    {
      "cell_type": "code",
      "metadata": {
        "id": "bbKDj2MdBvtv"
      },
      "source": [
        "# 독립, 종속 변수 나누기 \n",
        "\n",
        "df_y = df_raw['SCALE']\n",
        "df_x = df_raw.drop([\"SCALE\"], axis = 1, inplace = False)"
      ],
      "execution_count": 160,
      "outputs": []
    },
    {
      "cell_type": "code",
      "metadata": {
        "colab": {
          "base_uri": "https://localhost:8080/",
          "height": 223
        },
        "id": "jgvlEkBJ89Fh",
        "outputId": "068f5ec4-3410-453a-ffe4-0a37c90145e3"
      },
      "source": [
        "# 머신러닝을 할 때 기계가 이해할 수 있도록 모든 데이터를 수치로 변환해주는 전처리 작업이 필수적이다\n",
        "# 수치형 데이터로만 변환을 하게 되면 서로 간의 관계성이 생기게 되므로 가변수화 작업이 필요!!! \n",
        "# => pandas의  get_dummies함수 이용\n",
        "df_x_dummy = pd.get_dummies(df_x)\n",
        "df_x_dummy.head()\n",
        "\n",
        "# STEEL_KIND, FUR_NO, WORK_GR 이 object 변수이었는데, get_dummies함수를 통해서 0, 1 값으로 변경된 것을 볼수있음\n",
        "# 참고 : https://devuna.tistory.com/67"
      ],
      "execution_count": 161,
      "outputs": [
        {
          "output_type": "execute_result",
          "data": {
            "text/html": [
              "<div>\n",
              "<style scoped>\n",
              "    .dataframe tbody tr th:only-of-type {\n",
              "        vertical-align: middle;\n",
              "    }\n",
              "\n",
              "    .dataframe tbody tr th {\n",
              "        vertical-align: top;\n",
              "    }\n",
              "\n",
              "    .dataframe thead th {\n",
              "        text-align: right;\n",
              "    }\n",
              "</style>\n",
              "<table border=\"1\" class=\"dataframe\">\n",
              "  <thead>\n",
              "    <tr style=\"text-align: right;\">\n",
              "      <th></th>\n",
              "      <th>PT_THK</th>\n",
              "      <th>PT_WDTH</th>\n",
              "      <th>PT_LTH</th>\n",
              "      <th>PT_WGT</th>\n",
              "      <th>FUR_NO_ROW</th>\n",
              "      <th>FUR_HZ_TEMP</th>\n",
              "      <th>FUR_HZ_TIME</th>\n",
              "      <th>FUR_SZ_TIME</th>\n",
              "      <th>FUR_TIME</th>\n",
              "      <th>FUR_EXTEMP</th>\n",
              "      <th>ROLLING_TEMP_T5</th>\n",
              "      <th>HSB</th>\n",
              "      <th>ROLLING_DESCALING</th>\n",
              "      <th>STEEL_KIND_C0</th>\n",
              "      <th>STEEL_KIND_C1</th>\n",
              "      <th>STEEL_KIND_C3</th>\n",
              "      <th>STEEL_KIND_T0</th>\n",
              "      <th>STEEL_KIND_T1</th>\n",
              "      <th>STEEL_KIND_T3</th>\n",
              "      <th>STEEL_KIND_T5</th>\n",
              "      <th>STEEL_KIND_T7</th>\n",
              "      <th>STEEL_KIND_T8</th>\n",
              "      <th>FUR_NO_1</th>\n",
              "      <th>FUR_NO_2</th>\n",
              "      <th>FUR_NO_3</th>\n",
              "      <th>WORK_GR_1</th>\n",
              "      <th>WORK_GR_2</th>\n",
              "      <th>WORK_GR_3</th>\n",
              "      <th>WORK_GR_4</th>\n",
              "    </tr>\n",
              "  </thead>\n",
              "  <tbody>\n",
              "    <tr>\n",
              "      <th>0</th>\n",
              "      <td>32.25</td>\n",
              "      <td>3707</td>\n",
              "      <td>15109</td>\n",
              "      <td>14180</td>\n",
              "      <td>1</td>\n",
              "      <td>1144</td>\n",
              "      <td>116</td>\n",
              "      <td>59</td>\n",
              "      <td>282</td>\n",
              "      <td>1133</td>\n",
              "      <td>934</td>\n",
              "      <td>1</td>\n",
              "      <td>8</td>\n",
              "      <td>0</td>\n",
              "      <td>0</td>\n",
              "      <td>0</td>\n",
              "      <td>0</td>\n",
              "      <td>1</td>\n",
              "      <td>0</td>\n",
              "      <td>0</td>\n",
              "      <td>0</td>\n",
              "      <td>0</td>\n",
              "      <td>1</td>\n",
              "      <td>0</td>\n",
              "      <td>0</td>\n",
              "      <td>0</td>\n",
              "      <td>1</td>\n",
              "      <td>0</td>\n",
              "      <td>0</td>\n",
              "    </tr>\n",
              "    <tr>\n",
              "      <th>1</th>\n",
              "      <td>32.25</td>\n",
              "      <td>3707</td>\n",
              "      <td>15109</td>\n",
              "      <td>14180</td>\n",
              "      <td>2</td>\n",
              "      <td>1144</td>\n",
              "      <td>122</td>\n",
              "      <td>53</td>\n",
              "      <td>283</td>\n",
              "      <td>1135</td>\n",
              "      <td>937</td>\n",
              "      <td>1</td>\n",
              "      <td>8</td>\n",
              "      <td>0</td>\n",
              "      <td>0</td>\n",
              "      <td>0</td>\n",
              "      <td>0</td>\n",
              "      <td>1</td>\n",
              "      <td>0</td>\n",
              "      <td>0</td>\n",
              "      <td>0</td>\n",
              "      <td>0</td>\n",
              "      <td>1</td>\n",
              "      <td>0</td>\n",
              "      <td>0</td>\n",
              "      <td>0</td>\n",
              "      <td>1</td>\n",
              "      <td>0</td>\n",
              "      <td>0</td>\n",
              "    </tr>\n",
              "    <tr>\n",
              "      <th>2</th>\n",
              "      <td>33.27</td>\n",
              "      <td>3619</td>\n",
              "      <td>19181</td>\n",
              "      <td>18130</td>\n",
              "      <td>1</td>\n",
              "      <td>1129</td>\n",
              "      <td>116</td>\n",
              "      <td>55</td>\n",
              "      <td>282</td>\n",
              "      <td>1121</td>\n",
              "      <td>889</td>\n",
              "      <td>1</td>\n",
              "      <td>8</td>\n",
              "      <td>0</td>\n",
              "      <td>0</td>\n",
              "      <td>0</td>\n",
              "      <td>0</td>\n",
              "      <td>0</td>\n",
              "      <td>0</td>\n",
              "      <td>0</td>\n",
              "      <td>0</td>\n",
              "      <td>1</td>\n",
              "      <td>0</td>\n",
              "      <td>1</td>\n",
              "      <td>0</td>\n",
              "      <td>0</td>\n",
              "      <td>0</td>\n",
              "      <td>1</td>\n",
              "      <td>0</td>\n",
              "    </tr>\n",
              "    <tr>\n",
              "      <th>3</th>\n",
              "      <td>33.27</td>\n",
              "      <td>3619</td>\n",
              "      <td>19181</td>\n",
              "      <td>18130</td>\n",
              "      <td>2</td>\n",
              "      <td>1152</td>\n",
              "      <td>125</td>\n",
              "      <td>68</td>\n",
              "      <td>316</td>\n",
              "      <td>1127</td>\n",
              "      <td>885</td>\n",
              "      <td>1</td>\n",
              "      <td>8</td>\n",
              "      <td>0</td>\n",
              "      <td>0</td>\n",
              "      <td>0</td>\n",
              "      <td>0</td>\n",
              "      <td>0</td>\n",
              "      <td>0</td>\n",
              "      <td>0</td>\n",
              "      <td>0</td>\n",
              "      <td>1</td>\n",
              "      <td>0</td>\n",
              "      <td>1</td>\n",
              "      <td>0</td>\n",
              "      <td>0</td>\n",
              "      <td>0</td>\n",
              "      <td>1</td>\n",
              "      <td>0</td>\n",
              "    </tr>\n",
              "    <tr>\n",
              "      <th>4</th>\n",
              "      <td>38.33</td>\n",
              "      <td>3098</td>\n",
              "      <td>13334</td>\n",
              "      <td>12430</td>\n",
              "      <td>1</td>\n",
              "      <td>1140</td>\n",
              "      <td>134</td>\n",
              "      <td>48</td>\n",
              "      <td>314</td>\n",
              "      <td>1128</td>\n",
              "      <td>873</td>\n",
              "      <td>1</td>\n",
              "      <td>8</td>\n",
              "      <td>0</td>\n",
              "      <td>0</td>\n",
              "      <td>0</td>\n",
              "      <td>0</td>\n",
              "      <td>0</td>\n",
              "      <td>0</td>\n",
              "      <td>0</td>\n",
              "      <td>0</td>\n",
              "      <td>1</td>\n",
              "      <td>0</td>\n",
              "      <td>0</td>\n",
              "      <td>1</td>\n",
              "      <td>1</td>\n",
              "      <td>0</td>\n",
              "      <td>0</td>\n",
              "      <td>0</td>\n",
              "    </tr>\n",
              "  </tbody>\n",
              "</table>\n",
              "</div>"
            ],
            "text/plain": [
              "   PT_THK  PT_WDTH  PT_LTH  PT_WGT  ...  WORK_GR_1  WORK_GR_2  WORK_GR_3  WORK_GR_4\n",
              "0   32.25     3707   15109   14180  ...          0          1          0          0\n",
              "1   32.25     3707   15109   14180  ...          0          1          0          0\n",
              "2   33.27     3619   19181   18130  ...          0          0          1          0\n",
              "3   33.27     3619   19181   18130  ...          0          0          1          0\n",
              "4   38.33     3098   13334   12430  ...          1          0          0          0\n",
              "\n",
              "[5 rows x 29 columns]"
            ]
          },
          "metadata": {
            "tags": []
          },
          "execution_count": 161
        }
      ]
    },
    {
      "cell_type": "code",
      "metadata": {
        "colab": {
          "base_uri": "https://localhost:8080/"
        },
        "id": "6L9n5wIi_P_a",
        "outputId": "5f40626b-d3d0-4b2d-e468-2de160410966"
      },
      "source": [
        "# train, test set => 0.7:0.3 으로 분할 \n",
        "\n",
        "from sklearn.model_selection import train_test_split\n",
        "\n",
        "x_train, x_test, y_train, y_test = train_test_split(df_x_dummy, df_y, test_size = 0.3, random_state = 1234)\n",
        "\n",
        "print(\"train data x size : {}\".format(x_train.shape))\n",
        "print(\"train data y size : {}\".format(y_train.shape))\n",
        "print(\"test data x size : {}\".format(x_test.shape))\n",
        "print(\"test data y size : {}\".format(y_test.shape))"
      ],
      "execution_count": 179,
      "outputs": [
        {
          "output_type": "stream",
          "text": [
            "train data x size : (499, 29)\n",
            "train data y size : (499,)\n",
            "test data x size : (215, 29)\n",
            "test data y size : (215,)\n"
          ],
          "name": "stdout"
        }
      ]
    },
    {
      "cell_type": "markdown",
      "metadata": {
        "id": "-ll_443GCnPQ"
      },
      "source": [
        "### 모델링\n",
        "다양한 머신러닝 모델로 scale 불량 예측"
      ]
    },
    {
      "cell_type": "code",
      "metadata": {
        "colab": {
          "base_uri": "https://localhost:8080/"
        },
        "id": "oaOyV7_uIE47",
        "outputId": "86c762e4-afc8-43d4-d4fb-766a6bd240d7"
      },
      "source": [
        "from sklearn.model_selection import KFold\n",
        "from sklearn.model_selection import cross_val_score\n",
        "from sklearn.linear_model import LogisticRegression\n",
        "from sklearn.naive_bayes import GaussianNB\n",
        "from sklearn.neighbors import KNeighborsClassifier\n",
        "from sklearn.tree import DecisionTreeClassifier\n",
        "from sklearn.svm import SVC\n",
        "from sklearn.neural_network import MLPClassifier\n",
        "from sklearn.ensemble import RandomForestClassifier\n",
        "from xgboost import XGBClassifier\n",
        "\n",
        "# 평가하고자 하는 머신러닝 model들을 담을 빈리스트 준비  \n",
        "models = []\n",
        "\n",
        "# 머신러닝 모델 추가 \n",
        "models.append((\"Logistic Regression:\",LogisticRegression()))\n",
        "models.append((\"Naive Bayes:\",GaussianNB()))\n",
        "models.append((\"K-Nearest Neighbour:\",KNeighborsClassifier(n_neighbors=3)))\n",
        "models.append((\"Decision Tree:\",DecisionTreeClassifier()))\n",
        "models.append((\"Support Vector Machine-linear:\",SVC(kernel=\"linear\",C=0.2)))\n",
        "models.append((\"Support Vector Machine-rbf:\",SVC(kernel=\"rbf\")))\n",
        "models.append((\"Ranom Forest:\",RandomForestClassifier(n_estimators=5)))\n",
        "models.append((\"eXtreme Gradient Boost:\",XGBClassifier()))\n",
        "\n",
        "print('Models appended')"
      ],
      "execution_count": 180,
      "outputs": [
        {
          "output_type": "stream",
          "text": [
            "Models appended\n"
          ],
          "name": "stdout"
        }
      ]
    },
    {
      "cell_type": "code",
      "metadata": {
        "colab": {
          "base_uri": "https://localhost:8080/"
        },
        "id": "M0PcVHnzIK7v",
        "outputId": "b651ff34-f7ac-455a-c2c6-3febaa1f4371"
      },
      "source": [
        "# models 리스트 출력 \n",
        "print(models)"
      ],
      "execution_count": 181,
      "outputs": [
        {
          "output_type": "stream",
          "text": [
            "[('Logistic Regression:', LogisticRegression(C=1.0, class_weight=None, dual=False, fit_intercept=True,\n",
            "                   intercept_scaling=1, l1_ratio=None, max_iter=100,\n",
            "                   multi_class='auto', n_jobs=None, penalty='l2',\n",
            "                   random_state=None, solver='lbfgs', tol=0.0001, verbose=0,\n",
            "                   warm_start=False)), ('Naive Bayes:', GaussianNB(priors=None, var_smoothing=1e-09)), ('K-Nearest Neighbour:', KNeighborsClassifier(algorithm='auto', leaf_size=30, metric='minkowski',\n",
            "                     metric_params=None, n_jobs=None, n_neighbors=3, p=2,\n",
            "                     weights='uniform')), ('Decision Tree:', DecisionTreeClassifier(ccp_alpha=0.0, class_weight=None, criterion='gini',\n",
            "                       max_depth=None, max_features=None, max_leaf_nodes=None,\n",
            "                       min_impurity_decrease=0.0, min_impurity_split=None,\n",
            "                       min_samples_leaf=1, min_samples_split=2,\n",
            "                       min_weight_fraction_leaf=0.0, presort='deprecated',\n",
            "                       random_state=None, splitter='best')), ('Support Vector Machine-linear:', SVC(C=0.2, break_ties=False, cache_size=200, class_weight=None, coef0=0.0,\n",
            "    decision_function_shape='ovr', degree=3, gamma='scale', kernel='linear',\n",
            "    max_iter=-1, probability=False, random_state=None, shrinking=True,\n",
            "    tol=0.001, verbose=False)), ('Support Vector Machine-rbf:', SVC(C=1.0, break_ties=False, cache_size=200, class_weight=None, coef0=0.0,\n",
            "    decision_function_shape='ovr', degree=3, gamma='scale', kernel='rbf',\n",
            "    max_iter=-1, probability=False, random_state=None, shrinking=True,\n",
            "    tol=0.001, verbose=False)), ('Ranom Forest:', RandomForestClassifier(bootstrap=True, ccp_alpha=0.0, class_weight=None,\n",
            "                       criterion='gini', max_depth=None, max_features='auto',\n",
            "                       max_leaf_nodes=None, max_samples=None,\n",
            "                       min_impurity_decrease=0.0, min_impurity_split=None,\n",
            "                       min_samples_leaf=1, min_samples_split=2,\n",
            "                       min_weight_fraction_leaf=0.0, n_estimators=5,\n",
            "                       n_jobs=None, oob_score=False, random_state=None,\n",
            "                       verbose=0, warm_start=False)), ('eXtreme Gradient Boost:', XGBClassifier(base_score=0.5, booster='gbtree', colsample_bylevel=1,\n",
            "              colsample_bynode=1, colsample_bytree=1, gamma=0,\n",
            "              learning_rate=0.1, max_delta_step=0, max_depth=3,\n",
            "              min_child_weight=1, missing=None, n_estimators=100, n_jobs=1,\n",
            "              nthread=None, objective='binary:logistic', random_state=0,\n",
            "              reg_alpha=0, reg_lambda=1, scale_pos_weight=1, seed=None,\n",
            "              silent=None, subsample=1, verbosity=1))]\n"
          ],
          "name": "stdout"
        }
      ]
    },
    {
      "cell_type": "code",
      "metadata": {
        "colab": {
          "base_uri": "https://localhost:8080/"
        },
        "id": "b8tqS1rJIPhh",
        "outputId": "73b6e450-325f-493c-a0fb-41577bcaee5a"
      },
      "source": [
        "# 모델명, 예측값 담을 빈리스트 \n",
        "names = []\n",
        "results = []\n",
        "\n",
        "for name,model in models:\n",
        "    # 교차검증\n",
        "    kfold = KFold(n_splits=5, random_state=3)\n",
        "    cv_result = cross_val_score(model, x_train, y_train, cv = kfold, scoring = \"accuracy\")\n",
        "    \n",
        "    names.append(name)\n",
        "    results.append(cv_result)\n",
        "\n",
        "print(\"=== 모델별 예측 정확도 ===\") \n",
        "\n",
        "for i in range(len(names)):\n",
        "    # 모델명과 예측정확도 평균의 퍼센트 값으로 출력 \n",
        "    print(names[i],results[i].mean()*100)\n",
        "\n",
        "# => xgboost, decision tree, random forest 순으로 정확도가 높은 것을 볼 수 있음 "
      ],
      "execution_count": 182,
      "outputs": [
        {
          "output_type": "stream",
          "text": [
            "/usr/local/lib/python3.7/dist-packages/sklearn/model_selection/_split.py:296: FutureWarning: Setting a random_state has no effect since shuffle is False. This will raise an error in 0.24. You should leave random_state to its default (None), or set shuffle=True.\n",
            "  FutureWarning\n",
            "/usr/local/lib/python3.7/dist-packages/sklearn/linear_model/_logistic.py:940: ConvergenceWarning: lbfgs failed to converge (status=1):\n",
            "STOP: TOTAL NO. of ITERATIONS REACHED LIMIT.\n",
            "\n",
            "Increase the number of iterations (max_iter) or scale the data as shown in:\n",
            "    https://scikit-learn.org/stable/modules/preprocessing.html\n",
            "Please also refer to the documentation for alternative solver options:\n",
            "    https://scikit-learn.org/stable/modules/linear_model.html#logistic-regression\n",
            "  extra_warning_msg=_LOGISTIC_SOLVER_CONVERGENCE_MSG)\n",
            "/usr/local/lib/python3.7/dist-packages/sklearn/linear_model/_logistic.py:940: ConvergenceWarning: lbfgs failed to converge (status=1):\n",
            "STOP: TOTAL NO. of ITERATIONS REACHED LIMIT.\n",
            "\n",
            "Increase the number of iterations (max_iter) or scale the data as shown in:\n",
            "    https://scikit-learn.org/stable/modules/preprocessing.html\n",
            "Please also refer to the documentation for alternative solver options:\n",
            "    https://scikit-learn.org/stable/modules/linear_model.html#logistic-regression\n",
            "  extra_warning_msg=_LOGISTIC_SOLVER_CONVERGENCE_MSG)\n",
            "/usr/local/lib/python3.7/dist-packages/sklearn/linear_model/_logistic.py:940: ConvergenceWarning: lbfgs failed to converge (status=1):\n",
            "STOP: TOTAL NO. of ITERATIONS REACHED LIMIT.\n",
            "\n",
            "Increase the number of iterations (max_iter) or scale the data as shown in:\n",
            "    https://scikit-learn.org/stable/modules/preprocessing.html\n",
            "Please also refer to the documentation for alternative solver options:\n",
            "    https://scikit-learn.org/stable/modules/linear_model.html#logistic-regression\n",
            "  extra_warning_msg=_LOGISTIC_SOLVER_CONVERGENCE_MSG)\n",
            "/usr/local/lib/python3.7/dist-packages/sklearn/linear_model/_logistic.py:940: ConvergenceWarning: lbfgs failed to converge (status=1):\n",
            "STOP: TOTAL NO. of ITERATIONS REACHED LIMIT.\n",
            "\n",
            "Increase the number of iterations (max_iter) or scale the data as shown in:\n",
            "    https://scikit-learn.org/stable/modules/preprocessing.html\n",
            "Please also refer to the documentation for alternative solver options:\n",
            "    https://scikit-learn.org/stable/modules/linear_model.html#logistic-regression\n",
            "  extra_warning_msg=_LOGISTIC_SOLVER_CONVERGENCE_MSG)\n",
            "/usr/local/lib/python3.7/dist-packages/sklearn/linear_model/_logistic.py:940: ConvergenceWarning: lbfgs failed to converge (status=1):\n",
            "STOP: TOTAL NO. of ITERATIONS REACHED LIMIT.\n",
            "\n",
            "Increase the number of iterations (max_iter) or scale the data as shown in:\n",
            "    https://scikit-learn.org/stable/modules/preprocessing.html\n",
            "Please also refer to the documentation for alternative solver options:\n",
            "    https://scikit-learn.org/stable/modules/linear_model.html#logistic-regression\n",
            "  extra_warning_msg=_LOGISTIC_SOLVER_CONVERGENCE_MSG)\n",
            "/usr/local/lib/python3.7/dist-packages/sklearn/model_selection/_split.py:296: FutureWarning: Setting a random_state has no effect since shuffle is False. This will raise an error in 0.24. You should leave random_state to its default (None), or set shuffle=True.\n",
            "  FutureWarning\n",
            "/usr/local/lib/python3.7/dist-packages/sklearn/model_selection/_split.py:296: FutureWarning: Setting a random_state has no effect since shuffle is False. This will raise an error in 0.24. You should leave random_state to its default (None), or set shuffle=True.\n",
            "  FutureWarning\n",
            "/usr/local/lib/python3.7/dist-packages/sklearn/model_selection/_split.py:296: FutureWarning: Setting a random_state has no effect since shuffle is False. This will raise an error in 0.24. You should leave random_state to its default (None), or set shuffle=True.\n",
            "  FutureWarning\n",
            "/usr/local/lib/python3.7/dist-packages/sklearn/model_selection/_split.py:296: FutureWarning: Setting a random_state has no effect since shuffle is False. This will raise an error in 0.24. You should leave random_state to its default (None), or set shuffle=True.\n",
            "  FutureWarning\n",
            "/usr/local/lib/python3.7/dist-packages/sklearn/model_selection/_split.py:296: FutureWarning: Setting a random_state has no effect since shuffle is False. This will raise an error in 0.24. You should leave random_state to its default (None), or set shuffle=True.\n",
            "  FutureWarning\n",
            "/usr/local/lib/python3.7/dist-packages/sklearn/model_selection/_split.py:296: FutureWarning: Setting a random_state has no effect since shuffle is False. This will raise an error in 0.24. You should leave random_state to its default (None), or set shuffle=True.\n",
            "  FutureWarning\n",
            "/usr/local/lib/python3.7/dist-packages/sklearn/model_selection/_split.py:296: FutureWarning: Setting a random_state has no effect since shuffle is False. This will raise an error in 0.24. You should leave random_state to its default (None), or set shuffle=True.\n",
            "  FutureWarning\n"
          ],
          "name": "stderr"
        },
        {
          "output_type": "stream",
          "text": [
            "=== 모델별 예측 정확도 ===\n",
            "Logistic Regression: 82.35959595959595\n",
            "Naive Bayes: 67.94545454545455\n",
            "K-Nearest Neighbour: 71.54545454545455\n",
            "Decision Tree: 95.78585858585859\n",
            "Support Vector Machine-linear: 81.74949494949495\n",
            "Support Vector Machine-rbf: 67.93131313131313\n",
            "Ranom Forest: 92.17575757575757\n",
            "eXtreme Gradient Boost: 96.98989898989898\n"
          ],
          "name": "stdout"
        }
      ]
    },
    {
      "cell_type": "code",
      "metadata": {
        "id": "CwoTvLswGp1K"
      },
      "source": [
        ""
      ],
      "execution_count": null,
      "outputs": []
    },
    {
      "cell_type": "markdown",
      "metadata": {
        "id": "Np__MPheL2p-"
      },
      "source": [
        "### 모델링 \n",
        "1. 의사결정나무"
      ]
    },
    {
      "cell_type": "code",
      "metadata": {
        "id": "zH-aOHl5L7Fu"
      },
      "source": [
        "# 모델 생성 \n",
        "\n",
        "#export_graphviz: 나무구조 생성및 저장\n",
        "from sklearn.tree import export_graphviz\n",
        "import graphviz\n",
        "from sklearn.tree import DecisionTreeClassifier as DTC\n",
        "from sklearn.model_selection import GridSearchCV\n",
        "from sklearn.metrics import confusion_matrix"
      ],
      "execution_count": 184,
      "outputs": []
    },
    {
      "cell_type": "code",
      "metadata": {
        "colab": {
          "base_uri": "https://localhost:8080/"
        },
        "id": "7Xvdzj9UMe70",
        "outputId": "8110f16b-6a4b-4bc5-abba-6329c938b7d0"
      },
      "source": [
        "tree_uncustomized = DTC(random_state = 1234)\n",
        "tree_uncustomized.fit(x_train, y_train)\n",
        "\n",
        "print(\"Score on training set: {:.3f}\".format(tree_uncustomized.score(x_train,y_train)))\n",
        "print(\"Score on test set: {:.3f}\".format(tree_uncustomized.score(x_test,y_test)))\n",
        "\n",
        "#=> model 은 train 데이터에 과대적합 "
      ],
      "execution_count": 187,
      "outputs": [
        {
          "output_type": "stream",
          "text": [
            "Score on training set: 1.000\n",
            "Score on test set: 0.958\n"
          ],
          "name": "stdout"
        }
      ]
    },
    {
      "cell_type": "code",
      "metadata": {
        "colab": {
          "base_uri": "https://localhost:8080/"
        },
        "id": "rL-LPr1AQcvq",
        "outputId": "a003b6e3-ce2b-40b1-fe02-0595a2788473"
      },
      "source": [
        "# 현재 생성된 모델 옵션 확인 \n",
        "tree_uncustomized"
      ],
      "execution_count": 188,
      "outputs": [
        {
          "output_type": "execute_result",
          "data": {
            "text/plain": [
              "DecisionTreeClassifier(ccp_alpha=0.0, class_weight=None, criterion='gini',\n",
              "                       max_depth=None, max_features=None, max_leaf_nodes=None,\n",
              "                       min_impurity_decrease=0.0, min_impurity_split=None,\n",
              "                       min_samples_leaf=1, min_samples_split=2,\n",
              "                       min_weight_fraction_leaf=0.0, presort='deprecated',\n",
              "                       random_state=1234, splitter='best')"
            ]
          },
          "metadata": {
            "tags": []
          },
          "execution_count": 188
        }
      ]
    },
    {
      "cell_type": "code",
      "metadata": {
        "colab": {
          "base_uri": "https://localhost:8080/",
          "height": 357
        },
        "id": "9s4RqQ5XQOuM",
        "outputId": "564ed4e1-8ab2-4fe1-c187-da0449c5b60d"
      },
      "source": [
        "# model parameter 조정 \n",
        "# max_depth: 최대깊이 변경에 따른 모델 성능\n",
        "\n",
        "# train, test 정확도 결과 저장용\n",
        "train_accuracy = []\n",
        "test_accuracy =[]\n",
        "# max_depth :최대 깊이 변경 ; para_depth : 1,2,3,...,10\n",
        "para_depth = [depth for depth in range(1,11)]\n",
        "\n",
        "for v_max_depth in para_depth:\n",
        "    tree = DTC(max_depth = v_max_depth, random_state= 1234)\n",
        "    tree.fit(x_train, y_train)\n",
        "    train_accuracy.append(tree.score(x_train, y_train))\n",
        "    test_accuracy.append(tree.score(x_test, y_test))\n",
        "\n",
        "# 데이터 테이블로 저장 \n",
        "df_accuracy_depth = pd.DataFrame()\n",
        "df_accuracy_depth[\"Depth\"] = para_depth\n",
        "df_accuracy_depth[\"TrainAccuracy\"] = train_accuracy\n",
        "df_accuracy_depth[\"TestAccuracy\"] = test_accuracy\n",
        "\n",
        "# 모델 정확도 확인\n",
        "df_accuracy_depth.round(3)"
      ],
      "execution_count": 189,
      "outputs": [
        {
          "output_type": "execute_result",
          "data": {
            "text/html": [
              "<div>\n",
              "<style scoped>\n",
              "    .dataframe tbody tr th:only-of-type {\n",
              "        vertical-align: middle;\n",
              "    }\n",
              "\n",
              "    .dataframe tbody tr th {\n",
              "        vertical-align: top;\n",
              "    }\n",
              "\n",
              "    .dataframe thead th {\n",
              "        text-align: right;\n",
              "    }\n",
              "</style>\n",
              "<table border=\"1\" class=\"dataframe\">\n",
              "  <thead>\n",
              "    <tr style=\"text-align: right;\">\n",
              "      <th></th>\n",
              "      <th>Depth</th>\n",
              "      <th>TrainAccuracy</th>\n",
              "      <th>TestAccuracy</th>\n",
              "    </tr>\n",
              "  </thead>\n",
              "  <tbody>\n",
              "    <tr>\n",
              "      <th>0</th>\n",
              "      <td>1</td>\n",
              "      <td>0.890</td>\n",
              "      <td>0.888</td>\n",
              "    </tr>\n",
              "    <tr>\n",
              "      <th>1</th>\n",
              "      <td>2</td>\n",
              "      <td>0.938</td>\n",
              "      <td>0.921</td>\n",
              "    </tr>\n",
              "    <tr>\n",
              "      <th>2</th>\n",
              "      <td>3</td>\n",
              "      <td>0.966</td>\n",
              "      <td>0.953</td>\n",
              "    </tr>\n",
              "    <tr>\n",
              "      <th>3</th>\n",
              "      <td>4</td>\n",
              "      <td>0.976</td>\n",
              "      <td>0.953</td>\n",
              "    </tr>\n",
              "    <tr>\n",
              "      <th>4</th>\n",
              "      <td>5</td>\n",
              "      <td>0.978</td>\n",
              "      <td>0.953</td>\n",
              "    </tr>\n",
              "    <tr>\n",
              "      <th>5</th>\n",
              "      <td>6</td>\n",
              "      <td>0.978</td>\n",
              "      <td>0.953</td>\n",
              "    </tr>\n",
              "    <tr>\n",
              "      <th>6</th>\n",
              "      <td>7</td>\n",
              "      <td>0.982</td>\n",
              "      <td>0.953</td>\n",
              "    </tr>\n",
              "    <tr>\n",
              "      <th>7</th>\n",
              "      <td>8</td>\n",
              "      <td>0.984</td>\n",
              "      <td>0.953</td>\n",
              "    </tr>\n",
              "    <tr>\n",
              "      <th>8</th>\n",
              "      <td>9</td>\n",
              "      <td>0.984</td>\n",
              "      <td>0.958</td>\n",
              "    </tr>\n",
              "    <tr>\n",
              "      <th>9</th>\n",
              "      <td>10</td>\n",
              "      <td>0.990</td>\n",
              "      <td>0.940</td>\n",
              "    </tr>\n",
              "  </tbody>\n",
              "</table>\n",
              "</div>"
            ],
            "text/plain": [
              "   Depth  TrainAccuracy  TestAccuracy\n",
              "0      1          0.890         0.888\n",
              "1      2          0.938         0.921\n",
              "2      3          0.966         0.953\n",
              "3      4          0.976         0.953\n",
              "4      5          0.978         0.953\n",
              "5      6          0.978         0.953\n",
              "6      7          0.982         0.953\n",
              "7      8          0.984         0.953\n",
              "8      9          0.984         0.958\n",
              "9     10          0.990         0.940"
            ]
          },
          "metadata": {
            "tags": []
          },
          "execution_count": 189
        }
      ]
    },
    {
      "cell_type": "code",
      "metadata": {
        "colab": {
          "base_uri": "https://localhost:8080/",
          "height": 558
        },
        "id": "_dEMrnhZRb0J",
        "outputId": "da885d22-efc3-4a9b-86c3-eabcf89820f8"
      },
      "source": [
        "# 모델 정확도 그래프로 확인\n",
        "plt.plot(para_depth, train_accuracy, linestyle =\"-\", label = \"Train Accuracy\")\n",
        "plt.plot(para_depth, test_accuracy, linestyle =\"--\", label = \"Test Accuracy\")\n",
        "plt.legend()\n",
        "\n",
        "#=> 최대 깊이 증가에 따라 모델의 정확도는 증가함\n",
        "#=> train, test 데이터의 성능 변화를 고려하여 3 선택 "
      ],
      "execution_count": 190,
      "outputs": [
        {
          "output_type": "execute_result",
          "data": {
            "text/plain": [
              "<matplotlib.legend.Legend at 0x7fcd2e445910>"
            ]
          },
          "metadata": {
            "tags": []
          },
          "execution_count": 190
        },
        {
          "output_type": "display_data",
          "data": {
            "image/png": "[encoded data removed]",
            "text/plain": [
              "<Figure size 1080x648 with 1 Axes>"
            ]
          },
          "metadata": {
            "tags": []
          }
        }
      ]
    },
    {
      "cell_type": "code",
      "metadata": {
        "colab": {
          "base_uri": "https://localhost:8080/",
          "height": 911
        },
        "id": "xj8Et1gMTQm-",
        "outputId": "e241fe9d-74e4-488f-ab38-f1f86e8f4fd8"
      },
      "source": [
        "# model parameter 조정 \n",
        "# min_samples_split : 분리 노드의 최소 자료 수 변경에 따른 모델 성능 \n",
        "\n",
        "# train, test 정확도 결과 저장용\n",
        "train_accuracy = []\n",
        "test_accuracy =[]\n",
        "# min_samples_split :분리 노드의 최소 자료 수 변경 ; para_split : 2,3,...,29\n",
        "para_split = [n_split for n_split in range(2,30)]\n",
        "\n",
        "for v_min_samples_split in para_split:\n",
        "    tree = DTC(random_state = 1234, max_depth = 3, min_samples_split = v_min_samples_split)\n",
        "    tree.fit(x_train,y_train)\n",
        "    train_accuracy.append(tree.score(x_train,y_train))\n",
        "    test_accuracy.append(tree.score(x_test,y_test))\n",
        "\n",
        "# 데이터 테이블로 저장 \n",
        "df_accuracy_split = pd.DataFrame()\n",
        "df_accuracy_split[\"MinSamplesLeaf\"] = para_split\n",
        "df_accuracy_split[\"TrainScore\"] = train_accuracy\n",
        "df_accuracy_split[\"TestScore\"] = test_accuracy\n",
        "\n",
        "# 모델 정확도 확인 \n",
        "df_accuracy_split.round(3)"
      ],
      "execution_count": 199,
      "outputs": [
        {
          "output_type": "execute_result",
          "data": {
            "text/html": [
              "<div>\n",
              "<style scoped>\n",
              "    .dataframe tbody tr th:only-of-type {\n",
              "        vertical-align: middle;\n",
              "    }\n",
              "\n",
              "    .dataframe tbody tr th {\n",
              "        vertical-align: top;\n",
              "    }\n",
              "\n",
              "    .dataframe thead th {\n",
              "        text-align: right;\n",
              "    }\n",
              "</style>\n",
              "<table border=\"1\" class=\"dataframe\">\n",
              "  <thead>\n",
              "    <tr style=\"text-align: right;\">\n",
              "      <th></th>\n",
              "      <th>MinSamplesLeaf</th>\n",
              "      <th>TrainScore</th>\n",
              "      <th>TestScore</th>\n",
              "    </tr>\n",
              "  </thead>\n",
              "  <tbody>\n",
              "    <tr>\n",
              "      <th>0</th>\n",
              "      <td>2</td>\n",
              "      <td>0.966</td>\n",
              "      <td>0.953</td>\n",
              "    </tr>\n",
              "    <tr>\n",
              "      <th>1</th>\n",
              "      <td>3</td>\n",
              "      <td>0.966</td>\n",
              "      <td>0.953</td>\n",
              "    </tr>\n",
              "    <tr>\n",
              "      <th>2</th>\n",
              "      <td>4</td>\n",
              "      <td>0.966</td>\n",
              "      <td>0.953</td>\n",
              "    </tr>\n",
              "    <tr>\n",
              "      <th>3</th>\n",
              "      <td>5</td>\n",
              "      <td>0.966</td>\n",
              "      <td>0.953</td>\n",
              "    </tr>\n",
              "    <tr>\n",
              "      <th>4</th>\n",
              "      <td>6</td>\n",
              "      <td>0.966</td>\n",
              "      <td>0.953</td>\n",
              "    </tr>\n",
              "    <tr>\n",
              "      <th>5</th>\n",
              "      <td>7</td>\n",
              "      <td>0.966</td>\n",
              "      <td>0.953</td>\n",
              "    </tr>\n",
              "    <tr>\n",
              "      <th>6</th>\n",
              "      <td>8</td>\n",
              "      <td>0.966</td>\n",
              "      <td>0.953</td>\n",
              "    </tr>\n",
              "    <tr>\n",
              "      <th>7</th>\n",
              "      <td>9</td>\n",
              "      <td>0.966</td>\n",
              "      <td>0.953</td>\n",
              "    </tr>\n",
              "    <tr>\n",
              "      <th>8</th>\n",
              "      <td>10</td>\n",
              "      <td>0.966</td>\n",
              "      <td>0.953</td>\n",
              "    </tr>\n",
              "    <tr>\n",
              "      <th>9</th>\n",
              "      <td>11</td>\n",
              "      <td>0.966</td>\n",
              "      <td>0.953</td>\n",
              "    </tr>\n",
              "    <tr>\n",
              "      <th>10</th>\n",
              "      <td>12</td>\n",
              "      <td>0.966</td>\n",
              "      <td>0.953</td>\n",
              "    </tr>\n",
              "    <tr>\n",
              "      <th>11</th>\n",
              "      <td>13</td>\n",
              "      <td>0.966</td>\n",
              "      <td>0.953</td>\n",
              "    </tr>\n",
              "    <tr>\n",
              "      <th>12</th>\n",
              "      <td>14</td>\n",
              "      <td>0.966</td>\n",
              "      <td>0.953</td>\n",
              "    </tr>\n",
              "    <tr>\n",
              "      <th>13</th>\n",
              "      <td>15</td>\n",
              "      <td>0.966</td>\n",
              "      <td>0.953</td>\n",
              "    </tr>\n",
              "    <tr>\n",
              "      <th>14</th>\n",
              "      <td>16</td>\n",
              "      <td>0.966</td>\n",
              "      <td>0.953</td>\n",
              "    </tr>\n",
              "    <tr>\n",
              "      <th>15</th>\n",
              "      <td>17</td>\n",
              "      <td>0.966</td>\n",
              "      <td>0.953</td>\n",
              "    </tr>\n",
              "    <tr>\n",
              "      <th>16</th>\n",
              "      <td>18</td>\n",
              "      <td>0.966</td>\n",
              "      <td>0.953</td>\n",
              "    </tr>\n",
              "    <tr>\n",
              "      <th>17</th>\n",
              "      <td>19</td>\n",
              "      <td>0.966</td>\n",
              "      <td>0.953</td>\n",
              "    </tr>\n",
              "    <tr>\n",
              "      <th>18</th>\n",
              "      <td>20</td>\n",
              "      <td>0.966</td>\n",
              "      <td>0.953</td>\n",
              "    </tr>\n",
              "    <tr>\n",
              "      <th>19</th>\n",
              "      <td>21</td>\n",
              "      <td>0.966</td>\n",
              "      <td>0.953</td>\n",
              "    </tr>\n",
              "    <tr>\n",
              "      <th>20</th>\n",
              "      <td>22</td>\n",
              "      <td>0.966</td>\n",
              "      <td>0.953</td>\n",
              "    </tr>\n",
              "    <tr>\n",
              "      <th>21</th>\n",
              "      <td>23</td>\n",
              "      <td>0.966</td>\n",
              "      <td>0.953</td>\n",
              "    </tr>\n",
              "    <tr>\n",
              "      <th>22</th>\n",
              "      <td>24</td>\n",
              "      <td>0.966</td>\n",
              "      <td>0.953</td>\n",
              "    </tr>\n",
              "    <tr>\n",
              "      <th>23</th>\n",
              "      <td>25</td>\n",
              "      <td>0.966</td>\n",
              "      <td>0.953</td>\n",
              "    </tr>\n",
              "    <tr>\n",
              "      <th>24</th>\n",
              "      <td>26</td>\n",
              "      <td>0.966</td>\n",
              "      <td>0.953</td>\n",
              "    </tr>\n",
              "    <tr>\n",
              "      <th>25</th>\n",
              "      <td>27</td>\n",
              "      <td>0.966</td>\n",
              "      <td>0.953</td>\n",
              "    </tr>\n",
              "    <tr>\n",
              "      <th>26</th>\n",
              "      <td>28</td>\n",
              "      <td>0.966</td>\n",
              "      <td>0.953</td>\n",
              "    </tr>\n",
              "    <tr>\n",
              "      <th>27</th>\n",
              "      <td>29</td>\n",
              "      <td>0.966</td>\n",
              "      <td>0.953</td>\n",
              "    </tr>\n",
              "  </tbody>\n",
              "</table>\n",
              "</div>"
            ],
            "text/plain": [
              "    MinSamplesLeaf  TrainScore  TestScore\n",
              "0                2       0.966      0.953\n",
              "1                3       0.966      0.953\n",
              "2                4       0.966      0.953\n",
              "3                5       0.966      0.953\n",
              "4                6       0.966      0.953\n",
              "5                7       0.966      0.953\n",
              "6                8       0.966      0.953\n",
              "7                9       0.966      0.953\n",
              "8               10       0.966      0.953\n",
              "9               11       0.966      0.953\n",
              "10              12       0.966      0.953\n",
              "11              13       0.966      0.953\n",
              "12              14       0.966      0.953\n",
              "13              15       0.966      0.953\n",
              "14              16       0.966      0.953\n",
              "15              17       0.966      0.953\n",
              "16              18       0.966      0.953\n",
              "17              19       0.966      0.953\n",
              "18              20       0.966      0.953\n",
              "19              21       0.966      0.953\n",
              "20              22       0.966      0.953\n",
              "21              23       0.966      0.953\n",
              "22              24       0.966      0.953\n",
              "23              25       0.966      0.953\n",
              "24              26       0.966      0.953\n",
              "25              27       0.966      0.953\n",
              "26              28       0.966      0.953\n",
              "27              29       0.966      0.953"
            ]
          },
          "metadata": {
            "tags": []
          },
          "execution_count": 199
        }
      ]
    },
    {
      "cell_type": "code",
      "metadata": {
        "colab": {
          "base_uri": "https://localhost:8080/",
          "height": 558
        },
        "id": "qNqp0LH6UMJf",
        "outputId": "ebdf10f2-4a31-45f7-f9be-1ba22ec6c49e"
      },
      "source": [
        "plt.plot(para_split, train_accuracy, linestyle =\"-\", label = \"Train Accuracy\")\n",
        "plt.plot(para_split, test_accuracy, linestyle =\"--\", label = \"Test Accuracy\")\n",
        "plt.legend()\n",
        "\n",
        "# => 분리 노드의 최소 자료 수에 모델의 정확도는 변함이 없다 \n",
        "#=> 그렇다면 그냥 20 선택 "
      ],
      "execution_count": 200,
      "outputs": [
        {
          "output_type": "execute_result",
          "data": {
            "text/plain": [
              "<matplotlib.legend.Legend at 0x7fcd2e2cfc10>"
            ]
          },
          "metadata": {
            "tags": []
          },
          "execution_count": 200
        },
        {
          "output_type": "display_data",
          "data": {
            "image/png": "[encoded data removed]",
            "text/plain": [
              "<Figure size 1080x648 with 1 Axes>"
            ]
          },
          "metadata": {
            "tags": []
          }
        }
      ]
    },
    {
      "cell_type": "code",
      "metadata": {
        "colab": {
          "base_uri": "https://localhost:8080/",
          "height": 357
        },
        "id": "s4bbIVxdUVzp",
        "outputId": "54b9130c-3950-45f6-8abb-38b374aa5fc8"
      },
      "source": [
        "# model parameter 조정 \n",
        "# min_samples_leaf : 잎사귀 노드의 최소 자료 수 변경에 따른 모델 성능 \n",
        "\n",
        "# train, test 정확도 결과 저장용\n",
        "train_accuracy = []\n",
        "test_accuracy =[]\n",
        "# min_samples_leaf : 잎사귀 노드 최소 자료 수 제한 (para_leaf : 2,4,6,8,...20)\n",
        "para_leaf = [n_leaf * 2 for n_leaf in range(1,11)]\n",
        "\n",
        "for v_min_samples_leaf in para_leaf:\n",
        "    tree = DTC(random_state = 1234, min_samples_leaf = v_min_samples_leaf, max_depth=4)\n",
        "    tree.fit(x_train, y_train)\n",
        "    train_accuracy.append(tree.score(x_train, y_train))\n",
        "    test_accuracy.append(tree.score(x_test, y_test))\n",
        "\n",
        "# 데이터 테이블로 저장 \n",
        "df_score_leaf = pd.DataFrame()\n",
        "df_score_leaf[\"MinSamplesLeaf\"] = para_leaf\n",
        "df_score_leaf[\"TrainScore\"] = train_accuracy\n",
        "df_score_leaf[\"TestScore\"] = test_accuracy\n",
        "\n",
        "# 모델 정확도 확인 \n",
        "df_score_leaf.round(3)"
      ],
      "execution_count": 201,
      "outputs": [
        {
          "output_type": "execute_result",
          "data": {
            "text/html": [
              "<div>\n",
              "<style scoped>\n",
              "    .dataframe tbody tr th:only-of-type {\n",
              "        vertical-align: middle;\n",
              "    }\n",
              "\n",
              "    .dataframe tbody tr th {\n",
              "        vertical-align: top;\n",
              "    }\n",
              "\n",
              "    .dataframe thead th {\n",
              "        text-align: right;\n",
              "    }\n",
              "</style>\n",
              "<table border=\"1\" class=\"dataframe\">\n",
              "  <thead>\n",
              "    <tr style=\"text-align: right;\">\n",
              "      <th></th>\n",
              "      <th>MinSamplesLeaf</th>\n",
              "      <th>TrainScore</th>\n",
              "      <th>TestScore</th>\n",
              "    </tr>\n",
              "  </thead>\n",
              "  <tbody>\n",
              "    <tr>\n",
              "      <th>0</th>\n",
              "      <td>2</td>\n",
              "      <td>0.976</td>\n",
              "      <td>0.953</td>\n",
              "    </tr>\n",
              "    <tr>\n",
              "      <th>1</th>\n",
              "      <td>4</td>\n",
              "      <td>0.976</td>\n",
              "      <td>0.953</td>\n",
              "    </tr>\n",
              "    <tr>\n",
              "      <th>2</th>\n",
              "      <td>6</td>\n",
              "      <td>0.966</td>\n",
              "      <td>0.953</td>\n",
              "    </tr>\n",
              "    <tr>\n",
              "      <th>3</th>\n",
              "      <td>8</td>\n",
              "      <td>0.966</td>\n",
              "      <td>0.953</td>\n",
              "    </tr>\n",
              "    <tr>\n",
              "      <th>4</th>\n",
              "      <td>10</td>\n",
              "      <td>0.966</td>\n",
              "      <td>0.953</td>\n",
              "    </tr>\n",
              "    <tr>\n",
              "      <th>5</th>\n",
              "      <td>12</td>\n",
              "      <td>0.966</td>\n",
              "      <td>0.953</td>\n",
              "    </tr>\n",
              "    <tr>\n",
              "      <th>6</th>\n",
              "      <td>14</td>\n",
              "      <td>0.966</td>\n",
              "      <td>0.953</td>\n",
              "    </tr>\n",
              "    <tr>\n",
              "      <th>7</th>\n",
              "      <td>16</td>\n",
              "      <td>0.962</td>\n",
              "      <td>0.949</td>\n",
              "    </tr>\n",
              "    <tr>\n",
              "      <th>8</th>\n",
              "      <td>18</td>\n",
              "      <td>0.952</td>\n",
              "      <td>0.944</td>\n",
              "    </tr>\n",
              "    <tr>\n",
              "      <th>9</th>\n",
              "      <td>20</td>\n",
              "      <td>0.952</td>\n",
              "      <td>0.944</td>\n",
              "    </tr>\n",
              "  </tbody>\n",
              "</table>\n",
              "</div>"
            ],
            "text/plain": [
              "   MinSamplesLeaf  TrainScore  TestScore\n",
              "0               2       0.976      0.953\n",
              "1               4       0.976      0.953\n",
              "2               6       0.966      0.953\n",
              "3               8       0.966      0.953\n",
              "4              10       0.966      0.953\n",
              "5              12       0.966      0.953\n",
              "6              14       0.966      0.953\n",
              "7              16       0.962      0.949\n",
              "8              18       0.952      0.944\n",
              "9              20       0.952      0.944"
            ]
          },
          "metadata": {
            "tags": []
          },
          "execution_count": 201
        }
      ]
    },
    {
      "cell_type": "code",
      "metadata": {
        "colab": {
          "base_uri": "https://localhost:8080/",
          "height": 558
        },
        "id": "5jDuUp_xWMDh",
        "outputId": "238b190a-0a40-4814-ce1a-6ee8c8a96008"
      },
      "source": [
        "# 모델 정확도 그래프 확인 \n",
        "\n",
        "plt.plot(para_leaf, train_accuracy, linestyle =\"-\", label = \"Train Accuracy\")\n",
        "plt.plot(para_leaf, test_accuracy, linestyle =\"--\", label = \"Test Accuracy\")\n",
        "plt.legend()\n",
        "\n",
        "#=> 잎사귀 노드 최소 자료 수 증가에 따라 모델의 정확도는 감소\n",
        "#=> train, test 데이터의 성능 변화를 고려하여 14 선택 "
      ],
      "execution_count": 202,
      "outputs": [
        {
          "output_type": "execute_result",
          "data": {
            "text/plain": [
              "<matplotlib.legend.Legend at 0x7fcd2e3cab50>"
            ]
          },
          "metadata": {
            "tags": []
          },
          "execution_count": 202
        },
        {
          "output_type": "display_data",
          "data": {
            "image/png": "[encoded data removed]",
            "text/plain": [
              "<Figure size 1080x648 with 1 Axes>"
            ]
          },
          "metadata": {
            "tags": []
          }
        }
      ]
    },
    {
      "cell_type": "code",
      "metadata": {
        "colab": {
          "base_uri": "https://localhost:8080/"
        },
        "id": "6G9Bgp4gXQ4r",
        "outputId": "5fac6cd0-4026-4f44-8628-dd0ad7307665"
      },
      "source": [
        "#최종모델\n",
        "tree_final = DTC(random_state = 1234, max_depth = 3,min_samples_split=20, min_samples_leaf=14)\n",
        "tree_final.fit(x_train,y_train)"
      ],
      "execution_count": 206,
      "outputs": [
        {
          "output_type": "execute_result",
          "data": {
            "text/plain": [
              "DecisionTreeClassifier(ccp_alpha=0.0, class_weight=None, criterion='gini',\n",
              "                       max_depth=3, max_features=None, max_leaf_nodes=None,\n",
              "                       min_impurity_decrease=0.0, min_impurity_split=None,\n",
              "                       min_samples_leaf=14, min_samples_split=20,\n",
              "                       min_weight_fraction_leaf=0.0, presort='deprecated',\n",
              "                       random_state=1234, splitter='best')"
            ]
          },
          "metadata": {
            "tags": []
          },
          "execution_count": 206
        }
      ]
    },
    {
      "cell_type": "code",
      "metadata": {
        "id": "V9f1cZv5Yu-t"
      },
      "source": [
        "#변수명 저장\n",
        "v_feature_name = x_train.columns "
      ],
      "execution_count": 208,
      "outputs": []
    },
    {
      "cell_type": "code",
      "metadata": {
        "colab": {
          "base_uri": "https://localhost:8080/",
          "height": 597
        },
        "id": "S66cqZMJXlbN",
        "outputId": "5e637734-97fa-425c-b633-c046075fd863"
      },
      "source": [
        "# tree_final.dot으로 결과 저장 (목표변수 0: good , 1 : bad)\n",
        "export_graphviz(tree_final, out_file = \"tree_final.dot\", class_names = [\"Good\", \"Bad\"],feature_names = v_feature_name, impurity = True, filled= True)\n",
        "\n",
        "# graphviz 를 이용해 트리 모델 시각화 \n",
        "with open(\"tree_final.dot\") as f:\n",
        "    dot_graph = f.read()\n",
        "\n",
        "display(graphviz.Source(dot_graph))"
      ],
      "execution_count": 207,
      "outputs": [
        {
          "output_type": "display_data",
          "data": {
            "text/plain": [
              "<graphviz.files.Source at 0x7fcd3af43310>"
            ],
            "image/svg+xml": "<?xml version=\"1.0\" encoding=\"UTF-8\" standalone=\"no\"?>\n<!DOCTYPE svg PUBLIC \"-//W3C//DTD SVG 1.1//EN\"\n \"http://www.w3.org/Graphics/SVG/1.1/DTD/svg11.dtd\">\n<!-- Generated by graphviz version 2.40.1 (20161225.0304)\n -->\n<!-- Title: Tree Pages: 1 -->\n<svg width=\"331pt\" height=\"433pt\"\n viewBox=\"0.00 0.00 331.00 433.00\" xmlns=\"http://www.w3.org/2000/svg\" xmlns:xlink=\"http://www.w3.org/1999/xlink\">\n<g id=\"graph0\" class=\"graph\" transform=\"scale(1 1) rotate(0) translate(4 429)\">\n<title>Tree</title>\n<polygon fill=\"#ffffff\" stroke=\"transparent\" points=\"-4,4 -4,-429 327,-429 327,4 -4,4\"/>\n<!-- 0 -->\n<g id=\"node1\" class=\"node\">\n<title>0</title>\n<polygon fill=\"#f1bc96\" stroke=\"#000000\" points=\"303,-425 87,-425 87,-342 303,-342 303,-425\"/>\n<text text-anchor=\"middle\" x=\"195\" y=\"-409.8\" font-family=\"Times,serif\" font-size=\"14.00\" fill=\"#000000\">ROLLING_TEMP_T5 &lt;= 1000.5</text>\n<text text-anchor=\"middle\" x=\"195\" y=\"-394.8\" font-family=\"Times,serif\" font-size=\"14.00\" fill=\"#000000\">gini = 0.436</text>\n<text text-anchor=\"middle\" x=\"195\" y=\"-379.8\" font-family=\"Times,serif\" font-size=\"14.00\" fill=\"#000000\">samples = 499</text>\n<text text-anchor=\"middle\" x=\"195\" y=\"-364.8\" font-family=\"Times,serif\" font-size=\"14.00\" fill=\"#000000\">value = [339, 160]</text>\n<text text-anchor=\"middle\" x=\"195\" y=\"-349.8\" font-family=\"Times,serif\" font-size=\"14.00\" fill=\"#000000\">class = Good</text>\n</g>\n<!-- 1 -->\n<g id=\"node2\" class=\"node\">\n<title>1</title>\n<polygon fill=\"#e99559\" stroke=\"#000000\" points=\"187.5,-306 70.5,-306 70.5,-223 187.5,-223 187.5,-306\"/>\n<text text-anchor=\"middle\" x=\"129\" y=\"-290.8\" font-family=\"Times,serif\" font-size=\"14.00\" fill=\"#000000\">HSB &lt;= 0.5</text>\n<text text-anchor=\"middle\" x=\"129\" y=\"-275.8\" font-family=\"Times,serif\" font-size=\"14.00\" fill=\"#000000\">gini = 0.24</text>\n<text text-anchor=\"middle\" x=\"129\" y=\"-260.8\" font-family=\"Times,serif\" font-size=\"14.00\" fill=\"#000000\">samples = 394</text>\n<text text-anchor=\"middle\" x=\"129\" y=\"-245.8\" font-family=\"Times,serif\" font-size=\"14.00\" fill=\"#000000\">value = [339, 55]</text>\n<text text-anchor=\"middle\" x=\"129\" y=\"-230.8\" font-family=\"Times,serif\" font-size=\"14.00\" fill=\"#000000\">class = Good</text>\n</g>\n<!-- 0&#45;&gt;1 -->\n<g id=\"edge1\" class=\"edge\">\n<title>0&#45;&gt;1</title>\n<path fill=\"none\" stroke=\"#000000\" d=\"M171.9164,-341.8796C167.1211,-333.2335 162.0178,-324.0322 157.0662,-315.1042\"/>\n<polygon fill=\"#000000\" stroke=\"#000000\" points=\"160.0931,-313.3455 152.1821,-306.2981 153.9716,-316.7407 160.0931,-313.3455\"/>\n<text text-anchor=\"middle\" x=\"145.2969\" y=\"-326.6313\" font-family=\"Times,serif\" font-size=\"14.00\" fill=\"#000000\">True</text>\n</g>\n<!-- 6 -->\n<g id=\"node7\" class=\"node\">\n<title>6</title>\n<polygon fill=\"#399de5\" stroke=\"#000000\" points=\"316,-298.5 206,-298.5 206,-230.5 316,-230.5 316,-298.5\"/>\n<text text-anchor=\"middle\" x=\"261\" y=\"-283.3\" font-family=\"Times,serif\" font-size=\"14.00\" fill=\"#000000\">gini = 0.0</text>\n<text text-anchor=\"middle\" x=\"261\" y=\"-268.3\" font-family=\"Times,serif\" font-size=\"14.00\" fill=\"#000000\">samples = 105</text>\n<text text-anchor=\"middle\" x=\"261\" y=\"-253.3\" font-family=\"Times,serif\" font-size=\"14.00\" fill=\"#000000\">value = [0, 105]</text>\n<text text-anchor=\"middle\" x=\"261\" y=\"-238.3\" font-family=\"Times,serif\" font-size=\"14.00\" fill=\"#000000\">class = Bad</text>\n</g>\n<!-- 0&#45;&gt;6 -->\n<g id=\"edge6\" class=\"edge\">\n<title>0&#45;&gt;6</title>\n<path fill=\"none\" stroke=\"#000000\" d=\"M218.0836,-341.8796C224.2433,-330.7735 230.9111,-318.7513 237.1129,-307.5691\"/>\n<polygon fill=\"#000000\" stroke=\"#000000\" points=\"240.1787,-309.2576 241.9682,-298.8149 234.0572,-305.8624 240.1787,-309.2576\"/>\n<text text-anchor=\"middle\" x=\"248.8534\" y=\"-319.1481\" font-family=\"Times,serif\" font-size=\"14.00\" fill=\"#000000\">False</text>\n</g>\n<!-- 2 -->\n<g id=\"node3\" class=\"node\">\n<title>2</title>\n<polygon fill=\"#399de5\" stroke=\"#000000\" points=\"102,-179.5 0,-179.5 0,-111.5 102,-111.5 102,-179.5\"/>\n<text text-anchor=\"middle\" x=\"51\" y=\"-164.3\" font-family=\"Times,serif\" font-size=\"14.00\" fill=\"#000000\">gini = 0.0</text>\n<text text-anchor=\"middle\" x=\"51\" y=\"-149.3\" font-family=\"Times,serif\" font-size=\"14.00\" fill=\"#000000\">samples = 24</text>\n<text text-anchor=\"middle\" x=\"51\" y=\"-134.3\" font-family=\"Times,serif\" font-size=\"14.00\" fill=\"#000000\">value = [0, 24]</text>\n<text text-anchor=\"middle\" x=\"51\" y=\"-119.3\" font-family=\"Times,serif\" font-size=\"14.00\" fill=\"#000000\">class = Bad</text>\n</g>\n<!-- 1&#45;&gt;2 -->\n<g id=\"edge2\" class=\"edge\">\n<title>1&#45;&gt;2</title>\n<path fill=\"none\" stroke=\"#000000\" d=\"M101.7194,-222.8796C94.3677,-211.6636 86.4036,-199.5131 79.0126,-188.2372\"/>\n<polygon fill=\"#000000\" stroke=\"#000000\" points=\"81.9014,-186.2598 73.4921,-179.8149 76.0469,-190.0972 81.9014,-186.2598\"/>\n</g>\n<!-- 3 -->\n<g id=\"node4\" class=\"node\">\n<title>3</title>\n<polygon fill=\"#e78d4b\" stroke=\"#000000\" points=\"295.5,-187 120.5,-187 120.5,-104 295.5,-104 295.5,-187\"/>\n<text text-anchor=\"middle\" x=\"208\" y=\"-171.8\" font-family=\"Times,serif\" font-size=\"14.00\" fill=\"#000000\">FUR_EXTEMP &lt;= 1175.5</text>\n<text text-anchor=\"middle\" x=\"208\" y=\"-156.8\" font-family=\"Times,serif\" font-size=\"14.00\" fill=\"#000000\">gini = 0.154</text>\n<text text-anchor=\"middle\" x=\"208\" y=\"-141.8\" font-family=\"Times,serif\" font-size=\"14.00\" fill=\"#000000\">samples = 370</text>\n<text text-anchor=\"middle\" x=\"208\" y=\"-126.8\" font-family=\"Times,serif\" font-size=\"14.00\" fill=\"#000000\">value = [339, 31]</text>\n<text text-anchor=\"middle\" x=\"208\" y=\"-111.8\" font-family=\"Times,serif\" font-size=\"14.00\" fill=\"#000000\">class = Good</text>\n</g>\n<!-- 1&#45;&gt;3 -->\n<g id=\"edge3\" class=\"edge\">\n<title>1&#45;&gt;3</title>\n<path fill=\"none\" stroke=\"#000000\" d=\"M156.6304,-222.8796C162.43,-214.1434 168.6059,-204.8404 174.5908,-195.8253\"/>\n<polygon fill=\"#000000\" stroke=\"#000000\" points=\"177.6368,-197.5652 180.2517,-187.2981 171.8049,-193.6935 177.6368,-197.5652\"/>\n</g>\n<!-- 4 -->\n<g id=\"node5\" class=\"node\">\n<title>4</title>\n<polygon fill=\"#e68743\" stroke=\"#000000\" points=\"202.5,-68 85.5,-68 85.5,0 202.5,0 202.5,-68\"/>\n<text text-anchor=\"middle\" x=\"144\" y=\"-52.8\" font-family=\"Times,serif\" font-size=\"14.00\" fill=\"#000000\">gini = 0.091</text>\n<text text-anchor=\"middle\" x=\"144\" y=\"-37.8\" font-family=\"Times,serif\" font-size=\"14.00\" fill=\"#000000\">samples = 356</text>\n<text text-anchor=\"middle\" x=\"144\" y=\"-22.8\" font-family=\"Times,serif\" font-size=\"14.00\" fill=\"#000000\">value = [339, 17]</text>\n<text text-anchor=\"middle\" x=\"144\" y=\"-7.8\" font-family=\"Times,serif\" font-size=\"14.00\" fill=\"#000000\">class = Good</text>\n</g>\n<!-- 3&#45;&gt;4 -->\n<g id=\"edge4\" class=\"edge\">\n<title>3&#45;&gt;4</title>\n<path fill=\"none\" stroke=\"#000000\" d=\"M184.1688,-103.9815C179.1044,-95.1585 173.7475,-85.8258 168.6532,-76.9506\"/>\n<polygon fill=\"#000000\" stroke=\"#000000\" points=\"171.6807,-75.1942 163.667,-68.2637 165.6097,-78.6789 171.6807,-75.1942\"/>\n</g>\n<!-- 5 -->\n<g id=\"node6\" class=\"node\">\n<title>5</title>\n<polygon fill=\"#399de5\" stroke=\"#000000\" points=\"323,-68 221,-68 221,0 323,0 323,-68\"/>\n<text text-anchor=\"middle\" x=\"272\" y=\"-52.8\" font-family=\"Times,serif\" font-size=\"14.00\" fill=\"#000000\">gini = 0.0</text>\n<text text-anchor=\"middle\" x=\"272\" y=\"-37.8\" font-family=\"Times,serif\" font-size=\"14.00\" fill=\"#000000\">samples = 14</text>\n<text text-anchor=\"middle\" x=\"272\" y=\"-22.8\" font-family=\"Times,serif\" font-size=\"14.00\" fill=\"#000000\">value = [0, 14]</text>\n<text text-anchor=\"middle\" x=\"272\" y=\"-7.8\" font-family=\"Times,serif\" font-size=\"14.00\" fill=\"#000000\">class = Bad</text>\n</g>\n<!-- 3&#45;&gt;5 -->\n<g id=\"edge5\" class=\"edge\">\n<title>3&#45;&gt;5</title>\n<path fill=\"none\" stroke=\"#000000\" d=\"M231.8312,-103.9815C236.8956,-95.1585 242.2525,-85.8258 247.3468,-76.9506\"/>\n<polygon fill=\"#000000\" stroke=\"#000000\" points=\"250.3903,-78.6789 252.333,-68.2637 244.3193,-75.1942 250.3903,-78.6789\"/>\n</g>\n</g>\n</svg>\n"
          },
          "metadata": {
            "tags": []
          }
        }
      ]
    },
    {
      "cell_type": "code",
      "metadata": {
        "id": "tcVgTcXhXwhB"
      },
      "source": [
        "# => ROLLING_TEMP_T5(압연온도)가 1000.5 도 보다 높은 경우, HBS를 적용하지 않은 경우, FUR_EXTEMP(추출온도) 가 1175.5 보다 높은 경우 불량 발생 "
      ],
      "execution_count": null,
      "outputs": []
    },
    {
      "cell_type": "code",
      "metadata": {
        "colab": {
          "base_uri": "https://localhost:8080/"
        },
        "id": "yY5UR0KVZ-uv",
        "outputId": "1eff46ba-0195-4b4f-da21-56975916b341"
      },
      "source": [
        "# 최종 모델 평가 \n",
        "\n",
        "y_pred = tree_final.predict(x_test)\n",
        "print(\"Train Accuracy: {0:.3f}\\n\".format(tree_final.score(x_train,y_train)), end =\"\")\n",
        "print(\"Test Accuracy: {0:.3f}\\n\".format(tree_final.score(x_test,y_test)))"
      ],
      "execution_count": 211,
      "outputs": [
        {
          "output_type": "stream",
          "text": [
            "Train Accuracy: 0.966\n",
            "Test Accuracy: 0.953\n",
            "\n"
          ],
          "name": "stdout"
        }
      ]
    },
    {
      "cell_type": "code",
      "metadata": {
        "colab": {
          "base_uri": "https://localhost:8080/"
        },
        "id": "PspyV-4raLSJ",
        "outputId": "6cf87a75-a66c-493c-9b6a-f1e4b8641d8d"
      },
      "source": [
        "print(\"Confusion matrix56: \\n{}\".format(confusion_matrix(y_test,y_pred)))\n",
        "\n",
        "# => 정분류율 95.35%"
      ],
      "execution_count": 210,
      "outputs": [
        {
          "output_type": "stream",
          "text": [
            "Confusion matrix56: \n",
            "[[144   0]\n",
            " [ 10  61]]\n"
          ],
          "name": "stdout"
        }
      ]
    },
    {
      "cell_type": "code",
      "metadata": {
        "colab": {
          "base_uri": "https://localhost:8080/",
          "height": 203
        },
        "id": "aHOPqGyKaONe",
        "outputId": "0d05afbb-ebec-48c9-8e83-d6ece2817935"
      },
      "source": [
        "# 결론도출\n",
        "#tree.feature_importances_로 설명변수 중요도 확인 및 테이블로 저장\n",
        "\n",
        "df_importance = pd.DataFrame()\n",
        "df_importance[\"Feature\"] = v_feature_name\n",
        "df_importance[\"Importance\"] = tree_final.feature_importances_\n",
        "\n",
        "df_importance.sort_values(\"Importance\", ascending = False, inplace = True)\n",
        "df_importance5 = df_importance[:5]\n",
        "df_importance5.round(4)"
      ],
      "execution_count": 214,
      "outputs": [
        {
          "output_type": "execute_result",
          "data": {
            "text/html": [
              "<div>\n",
              "<style scoped>\n",
              "    .dataframe tbody tr th:only-of-type {\n",
              "        vertical-align: middle;\n",
              "    }\n",
              "\n",
              "    .dataframe tbody tr th {\n",
              "        vertical-align: top;\n",
              "    }\n",
              "\n",
              "    .dataframe thead th {\n",
              "        text-align: right;\n",
              "    }\n",
              "</style>\n",
              "<table border=\"1\" class=\"dataframe\">\n",
              "  <thead>\n",
              "    <tr style=\"text-align: right;\">\n",
              "      <th></th>\n",
              "      <th>Feature</th>\n",
              "      <th>Importance</th>\n",
              "    </tr>\n",
              "  </thead>\n",
              "  <tbody>\n",
              "    <tr>\n",
              "      <th>10</th>\n",
              "      <td>ROLLING_TEMP_T5</td>\n",
              "      <td>0.6634</td>\n",
              "    </tr>\n",
              "    <tr>\n",
              "      <th>11</th>\n",
              "      <td>HSB</td>\n",
              "      <td>0.2045</td>\n",
              "    </tr>\n",
              "    <tr>\n",
              "      <th>9</th>\n",
              "      <td>FUR_EXTEMP</td>\n",
              "      <td>0.1320</td>\n",
              "    </tr>\n",
              "    <tr>\n",
              "      <th>0</th>\n",
              "      <td>PT_THK</td>\n",
              "      <td>0.0000</td>\n",
              "    </tr>\n",
              "    <tr>\n",
              "      <th>16</th>\n",
              "      <td>STEEL_KIND_T0</td>\n",
              "      <td>0.0000</td>\n",
              "    </tr>\n",
              "  </tbody>\n",
              "</table>\n",
              "</div>"
            ],
            "text/plain": [
              "            Feature  Importance\n",
              "10  ROLLING_TEMP_T5      0.6634\n",
              "11              HSB      0.2045\n",
              "9        FUR_EXTEMP      0.1320\n",
              "0            PT_THK      0.0000\n",
              "16    STEEL_KIND_T0      0.0000"
            ]
          },
          "metadata": {
            "tags": []
          },
          "execution_count": 214
        }
      ]
    },
    {
      "cell_type": "code",
      "metadata": {
        "colab": {
          "base_uri": "https://localhost:8080/",
          "height": 662
        },
        "id": "StJN3KYWa5ts",
        "outputId": "a1f3fdad-bb27-4f4f-8348-a8f7ab3357e8"
      },
      "source": [
        "#설명변수 중요도 그래프\n",
        "#중요도가 높은 변수를 상위에 그림\n",
        "\n",
        "df_importance5.sort_values(\"Importance\", ascending = True, inplace = True)\n",
        "coordinates = range(len(df_importance5))\n",
        "plt.barh(y= coordinates, width =df_importance5[\"Importance\"])\n",
        "plt.yticks(coordinates, df_importance5[\"Feature\"])\n",
        "plt.xlabel(\"Variable Importance\")\n",
        "plt.ylabel(\"Variable\")"
      ],
      "execution_count": 215,
      "outputs": [
        {
          "output_type": "stream",
          "text": [
            "/usr/local/lib/python3.7/dist-packages/ipykernel_launcher.py:3: SettingWithCopyWarning: \n",
            "A value is trying to be set on a copy of a slice from a DataFrame\n",
            "\n",
            "See the caveats in the documentation: https://pandas.pydata.org/pandas-docs/stable/user_guide/indexing.html#returning-a-view-versus-a-copy\n",
            "  This is separate from the ipykernel package so we can avoid doing imports until\n"
          ],
          "name": "stderr"
        },
        {
          "output_type": "execute_result",
          "data": {
            "text/plain": [
              "Text(0, 0.5, 'Variable')"
            ]
          },
          "metadata": {
            "tags": []
          },
          "execution_count": 215
        },
        {
          "output_type": "display_data",
          "data": {
            "image/png": "[encoded data removed]",
            "text/plain": [
              "<Figure size 1080x648 with 1 Axes>"
            ]
          },
          "metadata": {
            "tags": []
          }
        }
      ]
    },
    {
      "cell_type": "code",
      "metadata": {
        "id": "gajnRIIqbNw9"
      },
      "source": [
        "# => ROLLING_TEMP_T5(압연온도), HBS적용 유무, FUR_EXTEMP(추출온도) 순으로 중요함 "
      ],
      "execution_count": 216,
      "outputs": []
    },
    {
      "cell_type": "code",
      "metadata": {
        "id": "nh0yuB3PbjMy"
      },
      "source": [
        ""
      ],
      "execution_count": null,
      "outputs": []
    },
    {
      "cell_type": "markdown",
      "metadata": {
        "id": "4ApbZo0JcFI2"
      },
      "source": [
        "### 모델링 \n",
        "2. 랜덤 포레스트"
      ]
    },
    {
      "cell_type": "code",
      "metadata": {
        "colab": {
          "base_uri": "https://localhost:8080/"
        },
        "id": "qboa3iDvcHeW",
        "outputId": "875754e5-c7d6-47cb-840c-84004c749369"
      },
      "source": [
        "# 모델 생성\n",
        "from sklearn.ensemble import RandomForestClassifier\n",
        "\n",
        "rf_uncustomized = RandomForestClassifier(random_state=1234)\n",
        "rf_uncustomized.fit(x_train, y_train)\n",
        "\n",
        "print(\"Accuracy on training set:{:.3f}\".format(rf_uncustomized.score(x_train, y_train)))\n",
        "print(\"Accuracy on test set:{:.3f}\".format(rf_uncustomized.score(x_train, y_train)))"
      ],
      "execution_count": 217,
      "outputs": [
        {
          "output_type": "stream",
          "text": [
            "Accuracy on training set:1.000\n",
            "Accuracy on val set:1.000\n"
          ],
          "name": "stdout"
        }
      ]
    },
    {
      "cell_type": "code",
      "metadata": {
        "colab": {
          "base_uri": "https://localhost:8080/",
          "height": 511
        },
        "id": "-VLigJlkc__S",
        "outputId": "1e2863fe-f0d5-4b11-c62e-038f0162727c"
      },
      "source": [
        "# 모델 parameter 조정 \n",
        "# n_estimators 트리수 변경에 따른 모델 성능\n",
        "\n",
        "# train, test 정확도 결과 저장 \n",
        "train_accuracy = [] \n",
        "test_accuracy = []\n",
        "# n_estimatos : 트리수 변경 : 1 ~ 150 \n",
        "para_n_tree = [n_tree * 10 for n_tree in range(1,16)]\n",
        " \n",
        "for v_n_estimators in para_n_tree:\n",
        "    rf = RandomForestClassifier(random_state=1234, n_estimators = v_n_estimators)\n",
        "    rf.fit(x_train, y_train)\n",
        "    train_accuracy.append(rf.score(x_train, y_train))\n",
        "    test_accuracy.append(rf.score(x_test, y_test))\n",
        "\n",
        "# 데이터 테이블로 저장\n",
        "df_accuracy_n = pd.DataFrame()\n",
        "df_accuracy_n[\"n_estimators\"] = para_n_tree\n",
        "df_accuracy_n[\"TrainAccuracy\"] = train_accuracy\n",
        "df_accuracy_n[\"TestAccuracy\"] = test_accuracy\n",
        "\n",
        "# 모델 정확도 확인 \n",
        "df_accuracy_n.round(3)"
      ],
      "execution_count": 220,
      "outputs": [
        {
          "output_type": "execute_result",
          "data": {
            "text/html": [
              "<div>\n",
              "<style scoped>\n",
              "    .dataframe tbody tr th:only-of-type {\n",
              "        vertical-align: middle;\n",
              "    }\n",
              "\n",
              "    .dataframe tbody tr th {\n",
              "        vertical-align: top;\n",
              "    }\n",
              "\n",
              "    .dataframe thead th {\n",
              "        text-align: right;\n",
              "    }\n",
              "</style>\n",
              "<table border=\"1\" class=\"dataframe\">\n",
              "  <thead>\n",
              "    <tr style=\"text-align: right;\">\n",
              "      <th></th>\n",
              "      <th>n_estimators</th>\n",
              "      <th>TrainAccuracy</th>\n",
              "      <th>TestAccuracy</th>\n",
              "    </tr>\n",
              "  </thead>\n",
              "  <tbody>\n",
              "    <tr>\n",
              "      <th>0</th>\n",
              "      <td>10</td>\n",
              "      <td>0.998</td>\n",
              "      <td>0.916</td>\n",
              "    </tr>\n",
              "    <tr>\n",
              "      <th>1</th>\n",
              "      <td>20</td>\n",
              "      <td>0.998</td>\n",
              "      <td>0.949</td>\n",
              "    </tr>\n",
              "    <tr>\n",
              "      <th>2</th>\n",
              "      <td>30</td>\n",
              "      <td>0.998</td>\n",
              "      <td>0.953</td>\n",
              "    </tr>\n",
              "    <tr>\n",
              "      <th>3</th>\n",
              "      <td>40</td>\n",
              "      <td>1.000</td>\n",
              "      <td>0.958</td>\n",
              "    </tr>\n",
              "    <tr>\n",
              "      <th>4</th>\n",
              "      <td>50</td>\n",
              "      <td>0.998</td>\n",
              "      <td>0.958</td>\n",
              "    </tr>\n",
              "    <tr>\n",
              "      <th>5</th>\n",
              "      <td>60</td>\n",
              "      <td>1.000</td>\n",
              "      <td>0.958</td>\n",
              "    </tr>\n",
              "    <tr>\n",
              "      <th>6</th>\n",
              "      <td>70</td>\n",
              "      <td>1.000</td>\n",
              "      <td>0.958</td>\n",
              "    </tr>\n",
              "    <tr>\n",
              "      <th>7</th>\n",
              "      <td>80</td>\n",
              "      <td>1.000</td>\n",
              "      <td>0.953</td>\n",
              "    </tr>\n",
              "    <tr>\n",
              "      <th>8</th>\n",
              "      <td>90</td>\n",
              "      <td>1.000</td>\n",
              "      <td>0.949</td>\n",
              "    </tr>\n",
              "    <tr>\n",
              "      <th>9</th>\n",
              "      <td>100</td>\n",
              "      <td>1.000</td>\n",
              "      <td>0.949</td>\n",
              "    </tr>\n",
              "    <tr>\n",
              "      <th>10</th>\n",
              "      <td>110</td>\n",
              "      <td>1.000</td>\n",
              "      <td>0.953</td>\n",
              "    </tr>\n",
              "    <tr>\n",
              "      <th>11</th>\n",
              "      <td>120</td>\n",
              "      <td>1.000</td>\n",
              "      <td>0.949</td>\n",
              "    </tr>\n",
              "    <tr>\n",
              "      <th>12</th>\n",
              "      <td>130</td>\n",
              "      <td>1.000</td>\n",
              "      <td>0.949</td>\n",
              "    </tr>\n",
              "    <tr>\n",
              "      <th>13</th>\n",
              "      <td>140</td>\n",
              "      <td>1.000</td>\n",
              "      <td>0.944</td>\n",
              "    </tr>\n",
              "    <tr>\n",
              "      <th>14</th>\n",
              "      <td>150</td>\n",
              "      <td>1.000</td>\n",
              "      <td>0.944</td>\n",
              "    </tr>\n",
              "  </tbody>\n",
              "</table>\n",
              "</div>"
            ],
            "text/plain": [
              "    n_estimators  TrainAccuracy  TestAccuracy\n",
              "0             10          0.998         0.916\n",
              "1             20          0.998         0.949\n",
              "2             30          0.998         0.953\n",
              "3             40          1.000         0.958\n",
              "4             50          0.998         0.958\n",
              "5             60          1.000         0.958\n",
              "6             70          1.000         0.958\n",
              "7             80          1.000         0.953\n",
              "8             90          1.000         0.949\n",
              "9            100          1.000         0.949\n",
              "10           110          1.000         0.953\n",
              "11           120          1.000         0.949\n",
              "12           130          1.000         0.949\n",
              "13           140          1.000         0.944\n",
              "14           150          1.000         0.944"
            ]
          },
          "metadata": {
            "tags": []
          },
          "execution_count": 220
        }
      ]
    },
    {
      "cell_type": "code",
      "metadata": {
        "colab": {
          "base_uri": "https://localhost:8080/",
          "height": 574
        },
        "id": "Kgw4GMXacyRx",
        "outputId": "203bdc4d-d97e-4165-f7c9-cd75c6aa41fc"
      },
      "source": [
        "# 트리수 변경에 따른 정확도 변화 그래프로 확인\n",
        "plt.plot(para_n_tree, train_accuracy, linestyle=\"-\", label=\"Train Accuracy\")\n",
        "plt.plot(para_n_tree, test_accuracy, linestyle=\"--\", label=\"Test Accuracy\")\n",
        "plt.xlabel('n_estimators');plt.ylabel('accuracy')\n",
        "plt.legend()\n",
        "\n",
        "#=> 적정한 트리수를 찾지 못했을 경우 obb error 를 이용한 적정 나무 확인 가능  "
      ],
      "execution_count": 221,
      "outputs": [
        {
          "output_type": "execute_result",
          "data": {
            "text/plain": [
              "<matplotlib.legend.Legend at 0x7fcd2e15d850>"
            ]
          },
          "metadata": {
            "tags": []
          },
          "execution_count": 221
        },
        {
          "output_type": "display_data",
          "data": {
            "image/png": "[encoded data removed]",
            "text/plain": [
              "<Figure size 1080x648 with 1 Axes>"
            ]
          },
          "metadata": {
            "tags": []
          }
        }
      ]
    },
    {
      "cell_type": "code",
      "metadata": {
        "colab": {
          "base_uri": "https://localhost:8080/"
        },
        "id": "BjpSiPAweCSi",
        "outputId": "a691211e-c913-4636-fb56-bf9183753180"
      },
      "source": [
        "#error 저장 리스트\n",
        "oob_error = []\n",
        "\n",
        "for v_n_estimator in range(1,151):\n",
        "    rf=RandomForestClassifier(n_estimators = v_n_estimator, oob_score = True, random_state=1234)\n",
        "    rf.fit(x_train, y_train)\n",
        "    oob_error.append(1 - rf.oob_score_)"
      ],
      "execution_count": 222,
      "outputs": [
        {
          "output_type": "stream",
          "text": [
            "/usr/local/lib/python3.7/dist-packages/sklearn/ensemble/_forest.py:523: UserWarning: Some inputs do not have OOB scores. This probably means too few trees were used to compute any reliable oob estimates.\n",
            "  warn(\"Some inputs do not have OOB scores. \"\n",
            "/usr/local/lib/python3.7/dist-packages/sklearn/ensemble/_forest.py:528: RuntimeWarning: invalid value encountered in true_divide\n",
            "  predictions[k].sum(axis=1)[:, np.newaxis])\n",
            "/usr/local/lib/python3.7/dist-packages/sklearn/ensemble/_forest.py:523: UserWarning: Some inputs do not have OOB scores. This probably means too few trees were used to compute any reliable oob estimates.\n",
            "  warn(\"Some inputs do not have OOB scores. \"\n",
            "/usr/local/lib/python3.7/dist-packages/sklearn/ensemble/_forest.py:528: RuntimeWarning: invalid value encountered in true_divide\n",
            "  predictions[k].sum(axis=1)[:, np.newaxis])\n",
            "/usr/local/lib/python3.7/dist-packages/sklearn/ensemble/_forest.py:523: UserWarning: Some inputs do not have OOB scores. This probably means too few trees were used to compute any reliable oob estimates.\n",
            "  warn(\"Some inputs do not have OOB scores. \"\n",
            "/usr/local/lib/python3.7/dist-packages/sklearn/ensemble/_forest.py:528: RuntimeWarning: invalid value encountered in true_divide\n",
            "  predictions[k].sum(axis=1)[:, np.newaxis])\n",
            "/usr/local/lib/python3.7/dist-packages/sklearn/ensemble/_forest.py:523: UserWarning: Some inputs do not have OOB scores. This probably means too few trees were used to compute any reliable oob estimates.\n",
            "  warn(\"Some inputs do not have OOB scores. \"\n",
            "/usr/local/lib/python3.7/dist-packages/sklearn/ensemble/_forest.py:528: RuntimeWarning: invalid value encountered in true_divide\n",
            "  predictions[k].sum(axis=1)[:, np.newaxis])\n",
            "/usr/local/lib/python3.7/dist-packages/sklearn/ensemble/_forest.py:523: UserWarning: Some inputs do not have OOB scores. This probably means too few trees were used to compute any reliable oob estimates.\n",
            "  warn(\"Some inputs do not have OOB scores. \"\n",
            "/usr/local/lib/python3.7/dist-packages/sklearn/ensemble/_forest.py:528: RuntimeWarning: invalid value encountered in true_divide\n",
            "  predictions[k].sum(axis=1)[:, np.newaxis])\n",
            "/usr/local/lib/python3.7/dist-packages/sklearn/ensemble/_forest.py:523: UserWarning: Some inputs do not have OOB scores. This probably means too few trees were used to compute any reliable oob estimates.\n",
            "  warn(\"Some inputs do not have OOB scores. \"\n",
            "/usr/local/lib/python3.7/dist-packages/sklearn/ensemble/_forest.py:528: RuntimeWarning: invalid value encountered in true_divide\n",
            "  predictions[k].sum(axis=1)[:, np.newaxis])\n",
            "/usr/local/lib/python3.7/dist-packages/sklearn/ensemble/_forest.py:523: UserWarning: Some inputs do not have OOB scores. This probably means too few trees were used to compute any reliable oob estimates.\n",
            "  warn(\"Some inputs do not have OOB scores. \"\n",
            "/usr/local/lib/python3.7/dist-packages/sklearn/ensemble/_forest.py:528: RuntimeWarning: invalid value encountered in true_divide\n",
            "  predictions[k].sum(axis=1)[:, np.newaxis])\n",
            "/usr/local/lib/python3.7/dist-packages/sklearn/ensemble/_forest.py:523: UserWarning: Some inputs do not have OOB scores. This probably means too few trees were used to compute any reliable oob estimates.\n",
            "  warn(\"Some inputs do not have OOB scores. \"\n",
            "/usr/local/lib/python3.7/dist-packages/sklearn/ensemble/_forest.py:528: RuntimeWarning: invalid value encountered in true_divide\n",
            "  predictions[k].sum(axis=1)[:, np.newaxis])\n",
            "/usr/local/lib/python3.7/dist-packages/sklearn/ensemble/_forest.py:523: UserWarning: Some inputs do not have OOB scores. This probably means too few trees were used to compute any reliable oob estimates.\n",
            "  warn(\"Some inputs do not have OOB scores. \"\n",
            "/usr/local/lib/python3.7/dist-packages/sklearn/ensemble/_forest.py:528: RuntimeWarning: invalid value encountered in true_divide\n",
            "  predictions[k].sum(axis=1)[:, np.newaxis])\n",
            "/usr/local/lib/python3.7/dist-packages/sklearn/ensemble/_forest.py:523: UserWarning: Some inputs do not have OOB scores. This probably means too few trees were used to compute any reliable oob estimates.\n",
            "  warn(\"Some inputs do not have OOB scores. \"\n",
            "/usr/local/lib/python3.7/dist-packages/sklearn/ensemble/_forest.py:528: RuntimeWarning: invalid value encountered in true_divide\n",
            "  predictions[k].sum(axis=1)[:, np.newaxis])\n",
            "/usr/local/lib/python3.7/dist-packages/sklearn/ensemble/_forest.py:523: UserWarning: Some inputs do not have OOB scores. This probably means too few trees were used to compute any reliable oob estimates.\n",
            "  warn(\"Some inputs do not have OOB scores. \"\n",
            "/usr/local/lib/python3.7/dist-packages/sklearn/ensemble/_forest.py:528: RuntimeWarning: invalid value encountered in true_divide\n",
            "  predictions[k].sum(axis=1)[:, np.newaxis])\n",
            "/usr/local/lib/python3.7/dist-packages/sklearn/ensemble/_forest.py:523: UserWarning: Some inputs do not have OOB scores. This probably means too few trees were used to compute any reliable oob estimates.\n",
            "  warn(\"Some inputs do not have OOB scores. \"\n",
            "/usr/local/lib/python3.7/dist-packages/sklearn/ensemble/_forest.py:528: RuntimeWarning: invalid value encountered in true_divide\n",
            "  predictions[k].sum(axis=1)[:, np.newaxis])\n",
            "/usr/local/lib/python3.7/dist-packages/sklearn/ensemble/_forest.py:523: UserWarning: Some inputs do not have OOB scores. This probably means too few trees were used to compute any reliable oob estimates.\n",
            "  warn(\"Some inputs do not have OOB scores. \"\n",
            "/usr/local/lib/python3.7/dist-packages/sklearn/ensemble/_forest.py:528: RuntimeWarning: invalid value encountered in true_divide\n",
            "  predictions[k].sum(axis=1)[:, np.newaxis])\n"
          ],
          "name": "stderr"
        }
      ]
    },
    {
      "cell_type": "code",
      "metadata": {
        "colab": {
          "base_uri": "https://localhost:8080/",
          "height": 574
        },
        "id": "dsmw5bhbejBk",
        "outputId": "0ffeef71-1fa9-4c97-8d64-2b4afc5d9636"
      },
      "source": [
        "# 트리수 변경에 따른 obb_error 변화 그래프 생성 \n",
        "\n",
        "plt.plot(range(1,151), oob_error)\n",
        "plt.ylabel('oob error')\n",
        "plt.xlabel('n_estimators')\n",
        "\n",
        "#=> 트리수 증가에 따라 obb error는 감소한다. \n",
        "# => 모델의 특성을 고려하여 트리 수 지정 n_estimators = 58 로 지정 "
      ],
      "execution_count": 223,
      "outputs": [
        {
          "output_type": "execute_result",
          "data": {
            "text/plain": [
              "Text(0.5, 0, 'n_estimators')"
            ]
          },
          "metadata": {
            "tags": []
          },
          "execution_count": 223
        },
        {
          "output_type": "display_data",
          "data": {
            "image/png": "[encoded data removed]",
            "text/plain": [
              "<Figure size 1080x648 with 1 Axes>"
            ]
          },
          "metadata": {
            "tags": []
          }
        }
      ]
    },
    {
      "cell_type": "code",
      "metadata": {
        "colab": {
          "base_uri": "https://localhost:8080/",
          "height": 942
        },
        "id": "5ZyhRHusezFV",
        "outputId": "543a1d68-fbda-4ca6-a9ad-feaf7be1afe7"
      },
      "source": [
        "# 모델 parameter 조정\n",
        "# max_depth : 최대 깊이 변경에 따른 모델 성능\n",
        "\n",
        "# train 및 test 정확도 결과 저장용\n",
        "train_accuracy = []\n",
        "test_accuracy = []\n",
        "# max_depth : 최대 깊이 값 변경 리스트 생성 \n",
        "para_depth = [depth for depth in range(1,30)]\n",
        " \n",
        "for v_max_depth in para_depth:\n",
        "    rf = RandomForestClassifier(random_state=1234, n_estimators = 58, max_depth = v_max_depth)\n",
        "    rf.fit(x_train, y_train)\n",
        "    train_accuracy.append(rf.score(x_train, y_train))\n",
        "    test_accuracy.append(rf.score(x_test, y_test))\n",
        "\n",
        "# 데이터 테이블로 저장\n",
        "df_accuracy_depth = pd.DataFrame()\n",
        "df_accuracy_depth[\"Depth\"] = para_depth\n",
        "df_accuracy_depth[\"TrainAccuracy\"] = train_accuracy\n",
        "df_accuracy_depth[\"TestAccuracy\"] = test_accuracy\n",
        "\n",
        "# 모델 정확도 확인 \n",
        "df_accuracy_depth.round(3)"
      ],
      "execution_count": 227,
      "outputs": [
        {
          "output_type": "execute_result",
          "data": {
            "text/html": [
              "<div>\n",
              "<style scoped>\n",
              "    .dataframe tbody tr th:only-of-type {\n",
              "        vertical-align: middle;\n",
              "    }\n",
              "\n",
              "    .dataframe tbody tr th {\n",
              "        vertical-align: top;\n",
              "    }\n",
              "\n",
              "    .dataframe thead th {\n",
              "        text-align: right;\n",
              "    }\n",
              "</style>\n",
              "<table border=\"1\" class=\"dataframe\">\n",
              "  <thead>\n",
              "    <tr style=\"text-align: right;\">\n",
              "      <th></th>\n",
              "      <th>Depth</th>\n",
              "      <th>TrainAccuracy</th>\n",
              "      <th>TestAccuracy</th>\n",
              "    </tr>\n",
              "  </thead>\n",
              "  <tbody>\n",
              "    <tr>\n",
              "      <th>0</th>\n",
              "      <td>1</td>\n",
              "      <td>0.683</td>\n",
              "      <td>0.670</td>\n",
              "    </tr>\n",
              "    <tr>\n",
              "      <th>1</th>\n",
              "      <td>2</td>\n",
              "      <td>0.902</td>\n",
              "      <td>0.879</td>\n",
              "    </tr>\n",
              "    <tr>\n",
              "      <th>2</th>\n",
              "      <td>3</td>\n",
              "      <td>0.930</td>\n",
              "      <td>0.888</td>\n",
              "    </tr>\n",
              "    <tr>\n",
              "      <th>3</th>\n",
              "      <td>4</td>\n",
              "      <td>0.936</td>\n",
              "      <td>0.912</td>\n",
              "    </tr>\n",
              "    <tr>\n",
              "      <th>4</th>\n",
              "      <td>5</td>\n",
              "      <td>0.966</td>\n",
              "      <td>0.940</td>\n",
              "    </tr>\n",
              "    <tr>\n",
              "      <th>5</th>\n",
              "      <td>6</td>\n",
              "      <td>0.976</td>\n",
              "      <td>0.940</td>\n",
              "    </tr>\n",
              "    <tr>\n",
              "      <th>6</th>\n",
              "      <td>7</td>\n",
              "      <td>0.982</td>\n",
              "      <td>0.949</td>\n",
              "    </tr>\n",
              "    <tr>\n",
              "      <th>7</th>\n",
              "      <td>8</td>\n",
              "      <td>0.992</td>\n",
              "      <td>0.953</td>\n",
              "    </tr>\n",
              "    <tr>\n",
              "      <th>8</th>\n",
              "      <td>9</td>\n",
              "      <td>0.998</td>\n",
              "      <td>0.953</td>\n",
              "    </tr>\n",
              "    <tr>\n",
              "      <th>9</th>\n",
              "      <td>10</td>\n",
              "      <td>0.998</td>\n",
              "      <td>0.949</td>\n",
              "    </tr>\n",
              "    <tr>\n",
              "      <th>10</th>\n",
              "      <td>11</td>\n",
              "      <td>0.998</td>\n",
              "      <td>0.963</td>\n",
              "    </tr>\n",
              "    <tr>\n",
              "      <th>11</th>\n",
              "      <td>12</td>\n",
              "      <td>1.000</td>\n",
              "      <td>0.958</td>\n",
              "    </tr>\n",
              "    <tr>\n",
              "      <th>12</th>\n",
              "      <td>13</td>\n",
              "      <td>1.000</td>\n",
              "      <td>0.963</td>\n",
              "    </tr>\n",
              "    <tr>\n",
              "      <th>13</th>\n",
              "      <td>14</td>\n",
              "      <td>1.000</td>\n",
              "      <td>0.963</td>\n",
              "    </tr>\n",
              "    <tr>\n",
              "      <th>14</th>\n",
              "      <td>15</td>\n",
              "      <td>1.000</td>\n",
              "      <td>0.963</td>\n",
              "    </tr>\n",
              "    <tr>\n",
              "      <th>15</th>\n",
              "      <td>16</td>\n",
              "      <td>1.000</td>\n",
              "      <td>0.963</td>\n",
              "    </tr>\n",
              "    <tr>\n",
              "      <th>16</th>\n",
              "      <td>17</td>\n",
              "      <td>1.000</td>\n",
              "      <td>0.963</td>\n",
              "    </tr>\n",
              "    <tr>\n",
              "      <th>17</th>\n",
              "      <td>18</td>\n",
              "      <td>1.000</td>\n",
              "      <td>0.963</td>\n",
              "    </tr>\n",
              "    <tr>\n",
              "      <th>18</th>\n",
              "      <td>19</td>\n",
              "      <td>1.000</td>\n",
              "      <td>0.963</td>\n",
              "    </tr>\n",
              "    <tr>\n",
              "      <th>19</th>\n",
              "      <td>20</td>\n",
              "      <td>1.000</td>\n",
              "      <td>0.963</td>\n",
              "    </tr>\n",
              "    <tr>\n",
              "      <th>20</th>\n",
              "      <td>21</td>\n",
              "      <td>1.000</td>\n",
              "      <td>0.963</td>\n",
              "    </tr>\n",
              "    <tr>\n",
              "      <th>21</th>\n",
              "      <td>22</td>\n",
              "      <td>1.000</td>\n",
              "      <td>0.963</td>\n",
              "    </tr>\n",
              "    <tr>\n",
              "      <th>22</th>\n",
              "      <td>23</td>\n",
              "      <td>1.000</td>\n",
              "      <td>0.963</td>\n",
              "    </tr>\n",
              "    <tr>\n",
              "      <th>23</th>\n",
              "      <td>24</td>\n",
              "      <td>1.000</td>\n",
              "      <td>0.963</td>\n",
              "    </tr>\n",
              "    <tr>\n",
              "      <th>24</th>\n",
              "      <td>25</td>\n",
              "      <td>1.000</td>\n",
              "      <td>0.963</td>\n",
              "    </tr>\n",
              "    <tr>\n",
              "      <th>25</th>\n",
              "      <td>26</td>\n",
              "      <td>1.000</td>\n",
              "      <td>0.963</td>\n",
              "    </tr>\n",
              "    <tr>\n",
              "      <th>26</th>\n",
              "      <td>27</td>\n",
              "      <td>1.000</td>\n",
              "      <td>0.963</td>\n",
              "    </tr>\n",
              "    <tr>\n",
              "      <th>27</th>\n",
              "      <td>28</td>\n",
              "      <td>1.000</td>\n",
              "      <td>0.963</td>\n",
              "    </tr>\n",
              "    <tr>\n",
              "      <th>28</th>\n",
              "      <td>29</td>\n",
              "      <td>1.000</td>\n",
              "      <td>0.963</td>\n",
              "    </tr>\n",
              "  </tbody>\n",
              "</table>\n",
              "</div>"
            ],
            "text/plain": [
              "    Depth  TrainAccuracy  TestAccuracy\n",
              "0       1          0.683         0.670\n",
              "1       2          0.902         0.879\n",
              "2       3          0.930         0.888\n",
              "3       4          0.936         0.912\n",
              "4       5          0.966         0.940\n",
              "5       6          0.976         0.940\n",
              "6       7          0.982         0.949\n",
              "7       8          0.992         0.953\n",
              "8       9          0.998         0.953\n",
              "9      10          0.998         0.949\n",
              "10     11          0.998         0.963\n",
              "11     12          1.000         0.958\n",
              "12     13          1.000         0.963\n",
              "13     14          1.000         0.963\n",
              "14     15          1.000         0.963\n",
              "15     16          1.000         0.963\n",
              "16     17          1.000         0.963\n",
              "17     18          1.000         0.963\n",
              "18     19          1.000         0.963\n",
              "19     20          1.000         0.963\n",
              "20     21          1.000         0.963\n",
              "21     22          1.000         0.963\n",
              "22     23          1.000         0.963\n",
              "23     24          1.000         0.963\n",
              "24     25          1.000         0.963\n",
              "25     26          1.000         0.963\n",
              "26     27          1.000         0.963\n",
              "27     28          1.000         0.963\n",
              "28     29          1.000         0.963"
            ]
          },
          "metadata": {
            "tags": []
          },
          "execution_count": 227
        }
      ]
    },
    {
      "cell_type": "code",
      "metadata": {
        "colab": {
          "base_uri": "https://localhost:8080/",
          "height": 574
        },
        "id": "n2cq6k6NfB4E",
        "outputId": "1ae52a3b-6840-4807-9802-3060458684f3"
      },
      "source": [
        "# max_depth 에 따른 모델 정확도 그래프 확인\n",
        "\n",
        "plt.plot(para_depth, train_accuracy, linestyle=\"-\", label=\"Train Accuracy\")\n",
        "plt.plot(para_depth, test_accuracy, linestyle=\"--\", label=\"Test Accuracy\")\n",
        "plt.xlabel('max depth'); plt.ylabel('accuracy')\n",
        "plt.legend()\n",
        "\n",
        "# => 모델 최대 깊이가 증가함에 따라 모델의 정확도도 증가 \n",
        "# => 모델의 특성을 고려하여 최대 깊이 max_depth = 12 지정"
      ],
      "execution_count": 228,
      "outputs": [
        {
          "output_type": "execute_result",
          "data": {
            "text/plain": [
              "<matplotlib.legend.Legend at 0x7fcd2e012750>"
            ]
          },
          "metadata": {
            "tags": []
          },
          "execution_count": 228
        },
        {
          "output_type": "display_data",
          "data": {
            "image/png": "[encoded data removed]",
            "text/plain": [
              "<Figure size 1080x648 with 1 Axes>"
            ]
          },
          "metadata": {
            "tags": []
          }
        }
      ]
    },
    {
      "cell_type": "code",
      "metadata": {
        "colab": {
          "base_uri": "https://localhost:8080/",
          "height": 357
        },
        "id": "7j70FyFifjZb",
        "outputId": "7a13804f-6d09-45ac-b181-c1b8583066f5"
      },
      "source": [
        "# 모델 parameter 조정\n",
        "# min_samples_split : 분리 노드의 최소 자료 수 변경에 따른 모델 성능 \n",
        "\n",
        "# train, test 정확도 저장용\n",
        "train_accuracy = []\n",
        "test_accuracy = []\n",
        "# min_samples_split 값 변경 리스트 생성 \n",
        "para_split = [n_split * 10 for n_split in range(1,11)]\n",
        " \n",
        "for v_min_samples_split in para_split:\n",
        "    rf = RandomForestClassifier(min_samples_split = v_min_samples_split, max_depth = 12, n_estimators= 58, random_state=1234)\n",
        "    rf.fit(x_train,y_train)\n",
        "    train_accuracy.append(rf.score(x_train,y_train))\n",
        "    test_accuracy.append(rf.score(x_test,y_test))\n",
        "\n",
        "# 데이터 테이블로 저장\n",
        "df_accuracy_split = pd.DataFrame()\n",
        "df_accuracy_split[\"MinSamplesSplit\"] = para_split\n",
        "df_accuracy_split[\"TrainAccuacy\"] = train_accuracy\n",
        "df_accuracy_split[\"TestAccuacy\"] = test_accuracy\n",
        "\n",
        "# 모델 정확도 확인 \n",
        "df_accuracy_split.round(3)"
      ],
      "execution_count": 229,
      "outputs": [
        {
          "output_type": "execute_result",
          "data": {
            "text/html": [
              "<div>\n",
              "<style scoped>\n",
              "    .dataframe tbody tr th:only-of-type {\n",
              "        vertical-align: middle;\n",
              "    }\n",
              "\n",
              "    .dataframe tbody tr th {\n",
              "        vertical-align: top;\n",
              "    }\n",
              "\n",
              "    .dataframe thead th {\n",
              "        text-align: right;\n",
              "    }\n",
              "</style>\n",
              "<table border=\"1\" class=\"dataframe\">\n",
              "  <thead>\n",
              "    <tr style=\"text-align: right;\">\n",
              "      <th></th>\n",
              "      <th>MinSamplesSplit</th>\n",
              "      <th>TrainAccuacy</th>\n",
              "      <th>TestAccuacy</th>\n",
              "    </tr>\n",
              "  </thead>\n",
              "  <tbody>\n",
              "    <tr>\n",
              "      <th>0</th>\n",
              "      <td>10</td>\n",
              "      <td>0.994</td>\n",
              "      <td>0.949</td>\n",
              "    </tr>\n",
              "    <tr>\n",
              "      <th>1</th>\n",
              "      <td>20</td>\n",
              "      <td>0.980</td>\n",
              "      <td>0.944</td>\n",
              "    </tr>\n",
              "    <tr>\n",
              "      <th>2</th>\n",
              "      <td>30</td>\n",
              "      <td>0.976</td>\n",
              "      <td>0.949</td>\n",
              "    </tr>\n",
              "    <tr>\n",
              "      <th>3</th>\n",
              "      <td>40</td>\n",
              "      <td>0.968</td>\n",
              "      <td>0.944</td>\n",
              "    </tr>\n",
              "    <tr>\n",
              "      <th>4</th>\n",
              "      <td>50</td>\n",
              "      <td>0.966</td>\n",
              "      <td>0.935</td>\n",
              "    </tr>\n",
              "    <tr>\n",
              "      <th>5</th>\n",
              "      <td>60</td>\n",
              "      <td>0.964</td>\n",
              "      <td>0.926</td>\n",
              "    </tr>\n",
              "    <tr>\n",
              "      <th>6</th>\n",
              "      <td>70</td>\n",
              "      <td>0.958</td>\n",
              "      <td>0.912</td>\n",
              "    </tr>\n",
              "    <tr>\n",
              "      <th>7</th>\n",
              "      <td>80</td>\n",
              "      <td>0.956</td>\n",
              "      <td>0.912</td>\n",
              "    </tr>\n",
              "    <tr>\n",
              "      <th>8</th>\n",
              "      <td>90</td>\n",
              "      <td>0.950</td>\n",
              "      <td>0.912</td>\n",
              "    </tr>\n",
              "    <tr>\n",
              "      <th>9</th>\n",
              "      <td>100</td>\n",
              "      <td>0.954</td>\n",
              "      <td>0.916</td>\n",
              "    </tr>\n",
              "  </tbody>\n",
              "</table>\n",
              "</div>"
            ],
            "text/plain": [
              "   MinSamplesSplit  TrainAccuacy  TestAccuacy\n",
              "0               10         0.994        0.949\n",
              "1               20         0.980        0.944\n",
              "2               30         0.976        0.949\n",
              "3               40         0.968        0.944\n",
              "4               50         0.966        0.935\n",
              "5               60         0.964        0.926\n",
              "6               70         0.958        0.912\n",
              "7               80         0.956        0.912\n",
              "8               90         0.950        0.912\n",
              "9              100         0.954        0.916"
            ]
          },
          "metadata": {
            "tags": []
          },
          "execution_count": 229
        }
      ]
    },
    {
      "cell_type": "code",
      "metadata": {
        "colab": {
          "base_uri": "https://localhost:8080/",
          "height": 574
        },
        "id": "jrCEAmX_gGMh",
        "outputId": "f8fdc1b6-34f4-4993-9f8c-61f7f03f34e1"
      },
      "source": [
        "# min_samples_split 변화에 따른 정확도 그래프\n",
        "\n",
        "plt.plot(para_split, train_accuracy, linestyle=\"-\", label=\"Train Accuracy\")\n",
        "plt.plot(para_split, test_accuracy, linestyle=\"--\", label=\"Test Accuracy\")\n",
        "plt.xlabel('min samples split'); plt.ylabel('accuracy')\n",
        "plt.legend()\n",
        "\n",
        "# => 분리 노드의 최소 자료 수 증가에 따라 모델의 정확도는 감소하는 추세를 보임\n",
        "# =>  모델의 특성을 고려하여 min_samples_split=30 지정"
      ],
      "execution_count": 230,
      "outputs": [
        {
          "output_type": "execute_result",
          "data": {
            "text/plain": [
              "<matplotlib.legend.Legend at 0x7fcd2dfda150>"
            ]
          },
          "metadata": {
            "tags": []
          },
          "execution_count": 230
        },
        {
          "output_type": "display_data",
          "data": {
            "image/png": "[encoded data removed]",
            "text/plain": [
              "<Figure size 1080x648 with 1 Axes>"
            ]
          },
          "metadata": {
            "tags": []
          }
        }
      ]
    },
    {
      "cell_type": "code",
      "metadata": {
        "colab": {
          "base_uri": "https://localhost:8080/",
          "height": 357
        },
        "id": "ZF_B-RxvgMlc",
        "outputId": "d3411814-33ea-4c75-cc6f-cfa240e35bb5"
      },
      "source": [
        "# 모델 parameter 조정\n",
        "# min_samples_leaf : 잎사귀 노드의 최소 자료 수 변경에 따른 모델 성능 \n",
        "\n",
        "# train 및 test 정확도 저장용\n",
        "train_accuracy = []\n",
        "test_accuracy = []\n",
        "# min_samples_leaf 값 변경 리스트 생성 \n",
        "para_leaf = [n_leaf for n_leaf in range(1,11)]\n",
        " \n",
        "for v_min_samples_leaf in para_leaf:\n",
        "    rf = RandomForestClassifier(min_samples_leaf = v_min_samples_leaf,min_samples_split=30, max_depth = 12, n_estimators = 58, random_state=1234)\n",
        "    rf.fit(df_train_x, df_train_y)\n",
        "    train_accuracy.append(rf.score(x_train, y_train))\n",
        "    test_accuracy.append(rf.score(x_test, y_test))\n",
        "\n",
        "# 데이터 테이블로 저장\n",
        "df_accuracy_leaf = pd.DataFrame()\n",
        "df_accuracy_leaf[\"MinSamplesLeaf\"] = para_leaf\n",
        "df_accuracy_leaf[\"TrainAccuracy\"] = train_accuracy\n",
        "df_accuracy_leaf[\"TestAccuracy\"] = test_accuracy\n",
        "\n",
        "#모델 정확도 확인 \n",
        "df_accuracy_leaf.round(3)"
      ],
      "execution_count": 232,
      "outputs": [
        {
          "output_type": "execute_result",
          "data": {
            "text/html": [
              "<div>\n",
              "<style scoped>\n",
              "    .dataframe tbody tr th:only-of-type {\n",
              "        vertical-align: middle;\n",
              "    }\n",
              "\n",
              "    .dataframe tbody tr th {\n",
              "        vertical-align: top;\n",
              "    }\n",
              "\n",
              "    .dataframe thead th {\n",
              "        text-align: right;\n",
              "    }\n",
              "</style>\n",
              "<table border=\"1\" class=\"dataframe\">\n",
              "  <thead>\n",
              "    <tr style=\"text-align: right;\">\n",
              "      <th></th>\n",
              "      <th>MinSamplesLeaf</th>\n",
              "      <th>TrainAccuracy</th>\n",
              "      <th>TestAccuracy</th>\n",
              "    </tr>\n",
              "  </thead>\n",
              "  <tbody>\n",
              "    <tr>\n",
              "      <th>0</th>\n",
              "      <td>1</td>\n",
              "      <td>0.928</td>\n",
              "      <td>0.893</td>\n",
              "    </tr>\n",
              "    <tr>\n",
              "      <th>1</th>\n",
              "      <td>2</td>\n",
              "      <td>0.906</td>\n",
              "      <td>0.888</td>\n",
              "    </tr>\n",
              "    <tr>\n",
              "      <th>2</th>\n",
              "      <td>3</td>\n",
              "      <td>0.902</td>\n",
              "      <td>0.888</td>\n",
              "    </tr>\n",
              "    <tr>\n",
              "      <th>3</th>\n",
              "      <td>4</td>\n",
              "      <td>0.898</td>\n",
              "      <td>0.884</td>\n",
              "    </tr>\n",
              "    <tr>\n",
              "      <th>4</th>\n",
              "      <td>5</td>\n",
              "      <td>0.892</td>\n",
              "      <td>0.884</td>\n",
              "    </tr>\n",
              "    <tr>\n",
              "      <th>5</th>\n",
              "      <td>6</td>\n",
              "      <td>0.892</td>\n",
              "      <td>0.884</td>\n",
              "    </tr>\n",
              "    <tr>\n",
              "      <th>6</th>\n",
              "      <td>7</td>\n",
              "      <td>0.892</td>\n",
              "      <td>0.884</td>\n",
              "    </tr>\n",
              "    <tr>\n",
              "      <th>7</th>\n",
              "      <td>8</td>\n",
              "      <td>0.892</td>\n",
              "      <td>0.884</td>\n",
              "    </tr>\n",
              "    <tr>\n",
              "      <th>8</th>\n",
              "      <td>9</td>\n",
              "      <td>0.886</td>\n",
              "      <td>0.879</td>\n",
              "    </tr>\n",
              "    <tr>\n",
              "      <th>9</th>\n",
              "      <td>10</td>\n",
              "      <td>0.886</td>\n",
              "      <td>0.879</td>\n",
              "    </tr>\n",
              "  </tbody>\n",
              "</table>\n",
              "</div>"
            ],
            "text/plain": [
              "   MinSamplesLeaf  TrainAccuracy  TestAccuracy\n",
              "0               1          0.928         0.893\n",
              "1               2          0.906         0.888\n",
              "2               3          0.902         0.888\n",
              "3               4          0.898         0.884\n",
              "4               5          0.892         0.884\n",
              "5               6          0.892         0.884\n",
              "6               7          0.892         0.884\n",
              "7               8          0.892         0.884\n",
              "8               9          0.886         0.879\n",
              "9              10          0.886         0.879"
            ]
          },
          "metadata": {
            "tags": []
          },
          "execution_count": 232
        }
      ]
    },
    {
      "cell_type": "code",
      "metadata": {
        "colab": {
          "base_uri": "https://localhost:8080/",
          "height": 558
        },
        "id": "bwkJtxhZg6t8",
        "outputId": "89b724f2-e7fc-40cd-c7d7-a4ec2445a29e"
      },
      "source": [
        "# min_samples_leaf 변화에 따른 정확도 그래프\n",
        "\n",
        "plt.plot(para_leaf, train_accuracy, linestyle=\"-\", label=\"Train Accuracy\")\n",
        "plt.plot(para_leaf, test_accuracy, linestyle=\"--\", label=\"Test Accuracy\")\n",
        "plt.legend()\n",
        "\n",
        "# => 잎사귀 노드 최소 자료 수 증가에 따라 모델의 정확도는 감소\n",
        "# => train, test 데이터의 성능 변화를 고려하여 min_samples_leaf = 5 지정 "
      ],
      "execution_count": 233,
      "outputs": [
        {
          "output_type": "execute_result",
          "data": {
            "text/plain": [
              "<matplotlib.legend.Legend at 0x7fcd2df5f390>"
            ]
          },
          "metadata": {
            "tags": []
          },
          "execution_count": 233
        },
        {
          "output_type": "display_data",
          "data": {
            "image/png": "[encoded data removed]",
            "text/plain": [
              "<Figure size 1080x648 with 1 Axes>"
            ]
          },
          "metadata": {
            "tags": []
          }
        }
      ]
    },
    {
      "cell_type": "code",
      "metadata": {
        "colab": {
          "base_uri": "https://localhost:8080/"
        },
        "id": "0qdsrJfmhCpA",
        "outputId": "3770d631-135b-4d5c-8764-fc7acb263e51"
      },
      "source": [
        "#결론 도출\n",
        "\n",
        "#최종 모델 \n",
        "rf_final = RandomForestClassifier(min_samples_leaf = 5,min_samples_split=30, max_depth = 12, n_estimators = 58, random_state=1234)\n",
        "rf_final.fit(x_train, y_train)\n",
        "\n",
        "#평가\n",
        "y_pred = rf_final.predict(x_test)\n",
        "\n",
        "#train 데이터 셋 정확도\n",
        "print(\"Accuracy on training set:{:.3f}\".format(rf_final.score(x_train, y_train)))\n",
        "#train 데이터 셋 정확도\n",
        "print(\"Accuracy:on test set:{:.3f}\\n\".format(rf_final.score(x_test, y_test)))"
      ],
      "execution_count": 240,
      "outputs": [
        {
          "output_type": "stream",
          "text": [
            "Accuracy on training set:0.956\n",
            "Accuracy:on test set:0.907\n",
            "\n"
          ],
          "name": "stdout"
        }
      ]
    },
    {
      "cell_type": "code",
      "metadata": {
        "colab": {
          "base_uri": "https://localhost:8080/"
        },
        "id": "XRXA2zJUi2NW",
        "outputId": "932fb4a6-2573-4ce1-a228-772074f7ab3c"
      },
      "source": [
        "#confusion matrix\n",
        "print(\"Confusion matrix:\\n{}\".format(confusion_matrix(y_test, y_pred)))\n",
        "\n",
        "#=> 정분류률 90.7%"
      ],
      "execution_count": 241,
      "outputs": [
        {
          "output_type": "stream",
          "text": [
            "Confusion matrix:\n",
            "[[144   0]\n",
            " [ 20  51]]\n"
          ],
          "name": "stdout"
        }
      ]
    },
    {
      "cell_type": "code",
      "metadata": {
        "colab": {
          "base_uri": "https://localhost:8080/",
          "height": 357
        },
        "id": "KBR2e0xIhxWO",
        "outputId": "dd718dca-ecc7-4157-f199-378fef6d9984"
      },
      "source": [
        "# 변수명 지정 \n",
        "v_feature_name = x_train.columns\n",
        "\n",
        "#tree.feature_importances_로 설명변수 중요도 확인 및 테이블로 저장\n",
        "df_importance = pd.DataFrame()\n",
        "df_importance[\"Feature\"]=v_feature_name\n",
        "df_importance[\"Importance\"]=rf_final.feature_importances_\n",
        "\n",
        "#df_feature_importance의 테이블을 중요도 순으로 정렬\n",
        "df_importance.sort_values('Importance', ascending = False, inplace = True)\n",
        "df_importance10 = df_importance[:10]\n",
        "df_importance10.round(3)"
      ],
      "execution_count": 235,
      "outputs": [
        {
          "output_type": "execute_result",
          "data": {
            "text/html": [
              "<div>\n",
              "<style scoped>\n",
              "    .dataframe tbody tr th:only-of-type {\n",
              "        vertical-align: middle;\n",
              "    }\n",
              "\n",
              "    .dataframe tbody tr th {\n",
              "        vertical-align: top;\n",
              "    }\n",
              "\n",
              "    .dataframe thead th {\n",
              "        text-align: right;\n",
              "    }\n",
              "</style>\n",
              "<table border=\"1\" class=\"dataframe\">\n",
              "  <thead>\n",
              "    <tr style=\"text-align: right;\">\n",
              "      <th></th>\n",
              "      <th>Feature</th>\n",
              "      <th>Importance</th>\n",
              "    </tr>\n",
              "  </thead>\n",
              "  <tbody>\n",
              "    <tr>\n",
              "      <th>10</th>\n",
              "      <td>ROLLING_TEMP_T5</td>\n",
              "      <td>0.401</td>\n",
              "    </tr>\n",
              "    <tr>\n",
              "      <th>9</th>\n",
              "      <td>FUR_EXTEMP</td>\n",
              "      <td>0.101</td>\n",
              "    </tr>\n",
              "    <tr>\n",
              "      <th>11</th>\n",
              "      <td>HSB</td>\n",
              "      <td>0.086</td>\n",
              "    </tr>\n",
              "    <tr>\n",
              "      <th>1</th>\n",
              "      <td>PT_WDTH</td>\n",
              "      <td>0.070</td>\n",
              "    </tr>\n",
              "    <tr>\n",
              "      <th>0</th>\n",
              "      <td>PT_THK</td>\n",
              "      <td>0.064</td>\n",
              "    </tr>\n",
              "    <tr>\n",
              "      <th>2</th>\n",
              "      <td>PT_LTH</td>\n",
              "      <td>0.047</td>\n",
              "    </tr>\n",
              "    <tr>\n",
              "      <th>13</th>\n",
              "      <td>STEEL_KIND_C0</td>\n",
              "      <td>0.044</td>\n",
              "    </tr>\n",
              "    <tr>\n",
              "      <th>5</th>\n",
              "      <td>FUR_HZ_TEMP</td>\n",
              "      <td>0.042</td>\n",
              "    </tr>\n",
              "    <tr>\n",
              "      <th>12</th>\n",
              "      <td>ROLLING_DESCALING</td>\n",
              "      <td>0.037</td>\n",
              "    </tr>\n",
              "    <tr>\n",
              "      <th>7</th>\n",
              "      <td>FUR_SZ_TIME</td>\n",
              "      <td>0.028</td>\n",
              "    </tr>\n",
              "  </tbody>\n",
              "</table>\n",
              "</div>"
            ],
            "text/plain": [
              "              Feature  Importance\n",
              "10    ROLLING_TEMP_T5       0.401\n",
              "9          FUR_EXTEMP       0.101\n",
              "11                HSB       0.086\n",
              "1             PT_WDTH       0.070\n",
              "0              PT_THK       0.064\n",
              "2              PT_LTH       0.047\n",
              "13      STEEL_KIND_C0       0.044\n",
              "5         FUR_HZ_TEMP       0.042\n",
              "12  ROLLING_DESCALING       0.037\n",
              "7         FUR_SZ_TIME       0.028"
            ]
          },
          "metadata": {
            "tags": []
          },
          "execution_count": 235
        }
      ]
    },
    {
      "cell_type": "code",
      "metadata": {
        "colab": {
          "base_uri": "https://localhost:8080/",
          "height": 662
        },
        "id": "Ka_h_TQQh_PO",
        "outputId": "50974915-fdbd-4d1f-ed0e-82aab84e6da7"
      },
      "source": [
        "#설명변수 중요도 그래프 그리기\n",
        "#중요도가 높은 변수를 상위에 그림\n",
        "df_importance10.sort_values(\"Importance\", ascending=True, inplace=True)\n",
        "coordinates = range(len(df_importance10))\n",
        "plt.barh(y = coordinates, width = df_importance10[\"Importance\"])\n",
        "plt.yticks(coordinates, df_importance10[\"Feature\"])\n",
        "plt.xlabel(\"importance\")\n",
        "plt.ylabel(\"columns\")"
      ],
      "execution_count": 237,
      "outputs": [
        {
          "output_type": "stream",
          "text": [
            "/usr/local/lib/python3.7/dist-packages/ipykernel_launcher.py:3: SettingWithCopyWarning: \n",
            "A value is trying to be set on a copy of a slice from a DataFrame\n",
            "\n",
            "See the caveats in the documentation: https://pandas.pydata.org/pandas-docs/stable/user_guide/indexing.html#returning-a-view-versus-a-copy\n",
            "  This is separate from the ipykernel package so we can avoid doing imports until\n"
          ],
          "name": "stderr"
        },
        {
          "output_type": "execute_result",
          "data": {
            "text/plain": [
              "Text(0, 0.5, 'columns')"
            ]
          },
          "metadata": {
            "tags": []
          },
          "execution_count": 237
        },
        {
          "output_type": "display_data",
          "data": {
            "image/png": "[encoded data removed]",
            "text/plain": [
              "<Figure size 1080x648 with 1 Axes>"
            ]
          },
          "metadata": {
            "tags": []
          }
        }
      ]
    },
    {
      "cell_type": "markdown",
      "metadata": {
        "id": "orJ8mNR1notp"
      },
      "source": [
        "### 결론"
      ]
    },
    {
      "cell_type": "code",
      "metadata": {
        "id": "wOTSIKkZiDet"
      },
      "source": [
        "# => ROLLING_TEMP_T5(압연온도), FUR_EXTEMP(추출온도),HBS적용 유무 순으로 중요함 \n",
        "# => 의사결정나무로 모델을 형성했을때와 상위 3개의 변수가 같음\n",
        "#=> 데이터 전처리 단계에서 히스토그램으로 확인 할 수 있었던 것과 같이 압연온도가 1000.5 도 보다 높은 경우와 \n",
        "#   추출온도가 1175.5 보다 높은 경우 100% scale불량이 발생하기에 각별히 주의가 필요하며,\n",
        "#   HBS 또한 적용하여 불량률을 낮추는 것이 중요함  "
      ],
      "execution_count": null,
      "outputs": []
    }
  ]
}